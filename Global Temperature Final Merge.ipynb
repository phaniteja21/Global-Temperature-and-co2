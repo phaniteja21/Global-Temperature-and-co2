{
 "cells": [
  {
   "cell_type": "code",
   "execution_count": 71,
   "metadata": {},
   "outputs": [
    {
     "data": {
      "text/html": [
       "        <script type=\"text/javascript\">\n",
       "        window.PlotlyConfig = {MathJaxConfig: 'local'};\n",
       "        if (window.MathJax) {MathJax.Hub.Config({SVG: {font: \"STIX-Web\"}});}\n",
       "        if (typeof require !== 'undefined') {\n",
       "        require.undef(\"plotly\");\n",
       "        requirejs.config({\n",
       "            paths: {\n",
       "                'plotly': ['https://cdn.plot.ly/plotly-2.6.3.min']\n",
       "            }\n",
       "        });\n",
       "        require(['plotly'], function(Plotly) {\n",
       "            window._Plotly = Plotly;\n",
       "        });\n",
       "        }\n",
       "        </script>\n",
       "        "
      ]
     },
     "metadata": {},
     "output_type": "display_data"
    }
   ],
   "source": [
    "import pandas as pd\n",
    "import matplotlib.pyplot as plt\n",
    "import numpy as np\n",
    "from statsmodels.tsa.stattools import adfuller\n",
    "from statsmodels.graphics.tsaplots import plot_acf, plot_pacf\n",
    "from statsmodels.tsa.arima_model import ARIMA, ARMAResults\n",
    "from sklearn.metrics import mean_squared_error\n",
    "import ipywidgets as widgets\n",
    "from statsmodels.tsa.arima.model import ARIMA\n",
    "# hide warnings\n",
    "import warnings\n",
    "warnings.simplefilter(\"ignore\")\n",
    "\n",
    "# checking if plotly is installed; install otherwise\n",
    "try:\n",
    "    import chart_studio.plotly as py\n",
    "except:\n",
    "    ! pip install --user plotly\n",
    "    import chart_studio.plotly as py\n",
    "\n",
    "from plotly.offline import download_plotlyjs, init_notebook_mode, plot, iplot\n",
    "import plotly.graph_objs as go\n",
    "init_notebook_mode(connected=True)\n",
    "\n",
    "# checking if seaborn is installed; install otherwise\n",
    "try:\n",
    "    import seaborn as sns\n",
    "except:\n",
    "    ! pip install --user seaborn\n",
    "    import seaborn as sns"
   ]
  },
  {
   "cell_type": "code",
   "execution_count": 36,
   "metadata": {},
   "outputs": [],
   "source": [
    "from statsmodels.tsa.arima.model import ARIMA"
   ]
  },
  {
   "cell_type": "code",
   "execution_count": 8,
   "metadata": {},
   "outputs": [],
   "source": [
    "# read the csv file into a DataFrame\n",
    "df = pd.read_csv(\"E:\\\\Python Projects\\\\Mounica\\\\GlobalLandTemperaturesByMajorCity.csv\")\n",
    "\n",
    "# convert first column to DateTime format\n",
    "df['dt'] = pd.to_datetime(df['dt'])\n",
    "\n",
    "# set first column (dt) as the index column\n",
    "df.index = df['dt']\n",
    "del df['dt']\n",
    "\n",
    "# dropping AverageTemperatureUncertainty, Latitude and Longitude and combining City and Country into City\n",
    "df = df.drop({\"AverageTemperatureUncertainty\", \"Latitude\", \"Longitude\"}, 1)\n",
    "df[\"City\"] = df[\"City\"] + \", \" + df[\"Country\"]\n",
    "df = df.drop(\"Country\", 1)\n",
    "\n",
    "# removing all rows with NaN values\n",
    "df = df.dropna()\n",
    "\n",
    "# get list of all cities in dataset\n",
    "cities = set(df.City)"
   ]
  },
  {
   "cell_type": "code",
   "execution_count": 9,
   "metadata": {},
   "outputs": [],
   "source": [
    "# check stationarity in time series data of a given city\n",
    "\n",
    "def check_stationarity(city_df):\n",
    "    # method1: plot the time series to check for trend and seasonality\n",
    "    city_df.plot(figsize=(10, 10))\n",
    "    \n",
    "    # method 2: check if histogram fits a Gaussian Curve, then split data into two parts, calculate means and variances and see if they vary\n",
    "    city_df.hist(figsize=(10, 10))\n",
    "    plt.show()\n",
    "    \n",
    "    X = city_df[\"AverageTemperature\"].values\n",
    "    split = int(len(X) / 2)\n",
    "    X1, X2 = X[0:split], X[split:]\n",
    "    mean1, mean2 = X1.mean(), X2.mean()\n",
    "    var1, var2 = X1.var(), X2.var()\n",
    "    print('mean1=%f, mean2=%f' % (mean1, mean2))\n",
    "    print('variance1=%f, variance2=%f' % (var1, var2))\n",
    "    \n",
    "    # if corresponding means and variances differ slightly (by less than 10), we consider that the time series might be stationary\n",
    "    if (abs(mean1-mean2) <= 10 and abs(var1-var2) <= 10):\n",
    "        print(\"Time Series may be Stationary, since means and variances vary only slightly.\\n\")\n",
    "    else:\n",
    "        print(\"Time Series may NOT be Stationary, since means and variances vary significantly.\\n\")\n",
    "        \n",
    "    # method3: statistical test (Augmented Dickey-Fuller statistic)\n",
    "    print(\"Performing Augmented Dickey-Fuller Test to confirm stationarity...\")\n",
    "    \n",
    "    result = adfuller(X)\n",
    "    print('ADF Statistic: %f' % result[0])\n",
    "    print('p-value: %f' % result[1])\n",
    "    \n",
    "    p = result[1]\n",
    "    if (p > 0.05):\n",
    "        print(\"Time Series is NOT Stationary, since p-value > 0.05\")\n",
    "        city_df = city_df.diff()  # differencing to make data stationary\n",
    "        return False\n",
    "    else:\n",
    "        print(\"Time Series is Stationary, since p-value <= 0.05\")\n",
    "        return True"
   ]
  },
  {
   "cell_type": "code",
   "execution_count": 10,
   "metadata": {},
   "outputs": [
    {
     "data": {
      "application/vnd.jupyter.widget-view+json": {
       "model_id": "233b24b042744e22a1558d0190901278",
       "version_major": 2,
       "version_minor": 0
      },
      "text/plain": [
       "Dropdown(description='City:', index=71, options=(\"Abidjan, Côte D'Ivoire\", 'Addis Abeba, Ethiopia', 'Ahmadabad…"
      ]
     },
     "metadata": {},
     "output_type": "display_data"
    }
   ],
   "source": [
    "# check stationarity for data of a specific city entered by the user\n",
    "\n",
    "city_drop_down_menu = widgets.Dropdown(\n",
    "    options=sorted(list(cities)),\n",
    "    value='New York, United States',\n",
    "    description='City:',\n",
    "    disabled=False,\n",
    ")\n",
    "\n",
    "city_drop_down_menu"
   ]
  },
  {
   "cell_type": "code",
   "execution_count": 11,
   "metadata": {},
   "outputs": [],
   "source": [
    "chosen_city = city_drop_down_menu.value\n",
    "city_df = df[df.City == chosen_city].drop(\"City\", 1)"
   ]
  },
  {
   "cell_type": "code",
   "execution_count": 12,
   "metadata": {},
   "outputs": [
    {
     "name": "stdout",
     "output_type": "stream",
     "text": [
      "Stationarity Check for New York, United States\n"
     ]
    },
    {
     "data": {
      "image/png": "[encoded data removed]",
      "text/plain": [
       "<Figure size 720x720 with 1 Axes>"
      ]
     },
     "metadata": {
      "needs_background": "light"
     },
     "output_type": "display_data"
    },
    {
     "data": {
      "image/png": "[encoded data removed]",
      "text/plain": [
       "<Figure size 720x720 with 1 Axes>"
      ]
     },
     "metadata": {
      "needs_background": "light"
     },
     "output_type": "display_data"
    },
    {
     "name": "stdout",
     "output_type": "stream",
     "text": [
      "mean1=9.117772, mean2=9.928560\n",
      "variance1=86.640935, variance2=84.126356\n",
      "Time Series may be Stationary, since means and variances vary only slightly.\n",
      "\n",
      "Performing Augmented Dickey-Fuller Test to confirm stationarity...\n",
      "ADF Statistic: -5.157735\n",
      "p-value: 0.000011\n",
      "Time Series is Stationary, since p-value <= 0.05\n"
     ]
    }
   ],
   "source": [
    "print (\"Stationarity Check for %s\" % chosen_city)\n",
    "is_stationary = check_stationarity(city_df)"
   ]
  },
  {
   "cell_type": "code",
   "execution_count": 13,
   "metadata": {},
   "outputs": [
    {
     "data": {
      "image/png": "[encoded data removed]",
      "text/plain": [
       "<Figure size 432x288 with 1 Axes>"
      ]
     },
     "metadata": {
      "needs_background": "light"
     },
     "output_type": "display_data"
    },
    {
     "data": {
      "image/png": "[encoded data removed]",
      "text/plain": [
       "<Figure size 432x288 with 1 Axes>"
      ]
     },
     "metadata": {
      "needs_background": "light"
     },
     "output_type": "display_data"
    }
   ],
   "source": [
    "# ACF and PACF plots\n",
    "\n",
    "plot_acf(city_df,lags = 50)\n",
    "plot_pacf(city_df,lags = 50)\n",
    "plt.show()\n",
    "\n",
    "# setting d value for ARIMA model\n",
    "if (is_stationary==True):\n",
    "    d = 0\n",
    "else:\n",
    "    d = 1"
   ]
  },
  {
   "cell_type": "code",
   "execution_count": 74,
   "metadata": {},
   "outputs": [
    {
     "name": "stdout",
     "output_type": "stream",
     "text": [
      "0 0 0\n",
      "0 0 1\n",
      "0 0 2\n",
      "1 0 0\n",
      "1 0 1\n",
      "1 0 2\n",
      "2 0 0\n",
      "2 0 1\n",
      "2 0 2\n",
      "(p,q) corresponding to lowest AIC score:  (1, 1)\n"
     ]
    }
   ],
   "source": [
    "# Although we can determine p, q values manually by looking at the ACF and PACF plots for a given city, we must automate the process\n",
    "# To automate the process, we must perform a grid search over different values of p and q and choose the ARIMA model for which the AIC and BIC values are minimum\n",
    "\n",
    "p_range = q_range = list(range(0,3))  # taking values from 0 to 2\n",
    "\n",
    "aic_values = []\n",
    "bic_values = []\n",
    "pq_values = []\n",
    "\n",
    "for p in p_range:\n",
    "    for q in q_range:\n",
    "        pq_values.append((p, q))\n",
    "        model = ARIMA(city_df, order=(p, d, q))\n",
    "        results = model.fit()\n",
    "        print(p,d,q)\n",
    "        aic_values.append(results.aic)\n",
    "        bic_values.append(results.bic)\n",
    "        pq_values.append((p, q))\n",
    "\n",
    "best_pq = pq_values[aic_values.index(min(aic_values))]  # (p,q) corresponding to lowest AIC score\n",
    "print(\"(p,q) corresponding to lowest AIC score: \", best_pq)"
   ]
  },
  {
   "cell_type": "code",
   "execution_count": 75,
   "metadata": {},
   "outputs": [
    {
     "name": "stdout",
     "output_type": "stream",
     "text": [
      "Mean Squared Error: 17.1673022115749\n",
      "Mean Absolute Error: 3.407576139328169\n"
     ]
    }
   ],
   "source": [
    "# fitting an ARIMA model with chosen p, d, q values and calculating the mean squared error\n",
    "from sklearn.metrics import mean_absolute_error\n",
    "\n",
    "arima_model = ARIMA(city_df, order=(best_pq[0], 0, best_pq[1])).fit()\n",
    "predictions = arima_model.predict(start=0, end=len(city_df)-1)\n",
    "\n",
    "mse = mean_squared_error(list(city_df.AverageTemperature), list(predictions))\n",
    "print(\"Mean Squared Error:\", mse)\n",
    "\n",
    "mae = mean_absolute_error(list(city_df.AverageTemperature), list(predictions))\n",
    "print(\"Mean Absolute Error:\", mae)"
   ]
  },
  {
   "cell_type": "code",
   "execution_count": 76,
   "metadata": {},
   "outputs": [
    {
     "data": {
      "image/png": "[encoded data removed]",
      "text/plain": [
       "<Figure size 540x540 with 1 Axes>"
      ]
     },
     "metadata": {
      "needs_background": "light"
     },
     "output_type": "display_data"
    }
   ],
   "source": [
    "# comparing first 100 predictions with actual values\n",
    "\n",
    "plt.figure(figsize=(7.5,7.5))\n",
    "plt.plot(list(city_df.AverageTemperature)[:100], label=\"Actual\")\n",
    "plt.plot(list(predictions)[:100], 'r', label=\"Predicted\")\n",
    "\n",
    "plt.xlabel(\"Time (in Months)\")\n",
    "plt.ylabel(\"Temperature (C)\")\n",
    "plt.title(\"Actual and Predicted Temperature Values\")\n",
    "\n",
    "plt.legend(loc='upper center', bbox_to_anchor=(1.45, 0.8))\n",
    "plt.show()"
   ]
  },
  {
   "cell_type": "code",
   "execution_count": 77,
   "metadata": {},
   "outputs": [
    {
     "data": {
      "application/vnd.jupyter.widget-view+json": {
       "model_id": "2561b4f51d864d168792049ba174f8c9",
       "version_major": 2,
       "version_minor": 0
      },
      "text/plain": [
       "Dropdown(description='No. of Years:', index=9, options=(1, 2, 3, 4, 5, 6, 7, 8, 9, 10, 11, 12, 13, 14, 15, 16,…"
      ]
     },
     "metadata": {},
     "output_type": "display_data"
    }
   ],
   "source": [
    "# drop-down menu to select number of years for which predictions are required\n",
    "\n",
    "years_drop_down_menu = widgets.Dropdown(\n",
    "    options=list(range(1,201)),\n",
    "    value=10,\n",
    "    description='No. of Years:',\n",
    "    disabled=False,\n",
    ")\n",
    "\n",
    "years_drop_down_menu"
   ]
  },
  {
   "cell_type": "code",
   "execution_count": 79,
   "metadata": {},
   "outputs": [],
   "source": [
    "num_years = years_drop_down_menu.value\n",
    "last_month_in_dataset = city_df.index[-1].month  # gets last month in city_df\n",
    "remaining_months = 12 - last_month_in_dataset  # months left in current year for that city's data\n",
    "number_of_steps = remaining_months + num_years * 12  # number of steps to make out-of-sample predictions"
   ]
  },
  {
   "cell_type": "code",
   "execution_count": 81,
   "metadata": {},
   "outputs": [
    {
     "data": {
      "text/plain": [
       "3119    15.671589\n",
       "3120    14.264086\n",
       "3121    13.178792\n",
       "3122    12.341947\n",
       "3123    11.696675\n",
       "          ...    \n",
       "3237     9.523218\n",
       "3238     9.523218\n",
       "3239     9.523218\n",
       "3240     9.523218\n",
       "3241     9.523218\n",
       "Name: predicted_mean, Length: 123, dtype: float64"
      ]
     },
     "execution_count": 81,
     "metadata": {},
     "output_type": "execute_result"
    }
   ],
   "source": [
    "arima_model.forecast(steps=number_of_steps)"
   ]
  },
  {
   "cell_type": "code",
   "execution_count": 82,
   "metadata": {},
   "outputs": [],
   "source": [
    "num_years = years_drop_down_menu.value\n",
    "last_month_in_dataset = city_df.index[-1].month  # gets last month in city_df\n",
    "remaining_months = 12 - last_month_in_dataset  # months left in current year for that city's data\n",
    "number_of_steps = remaining_months + num_years * 12  # number of steps to make out-of-sample predictions\n",
    "\n",
    "out_of_sample_forecast = arima_model.forecast(steps=number_of_steps)  # predictions\n",
    "\n",
    "out_of_sample_forecast = out_of_sample_forecast[remaining_months:]  # excluding predictions for remaining months in current year"
   ]
  },
  {
   "cell_type": "code",
   "execution_count": 83,
   "metadata": {},
   "outputs": [
    {
     "name": "stdout",
     "output_type": "stream",
     "text": [
      "January:  9.523218462685254 C\n",
      "February:  9.523218462684842 C\n",
      "March:  9.523218462684522 C\n",
      "April:  9.523218462684277 C\n",
      "May:  9.523218462684087 C\n",
      "June:  9.523218462683941 C\n",
      "July:  9.523218462683829 C\n",
      "August:  9.523218462683742 C\n",
      "September:  9.523218462683674 C\n",
      "October:  9.523218462683623 C\n",
      "November:  9.523218462683584 C\n",
      "December:  9.523218462683552 C\n"
     ]
    }
   ],
   "source": [
    "# displaying forecasted values for the nth year\n",
    "\n",
    "months = [\"January\", \"February\", \"March\", \"April\", \"May\", \"June\", \"July\", \"August\", \"September\", \"October\", \"November\", \"December\"]\n",
    "i = 0\n",
    "for x in out_of_sample_forecast[-12:]:  # last year\n",
    "    print(months[i]+\": \", x, 'C')\n",
    "    i += 1"
   ]
  },
  {
   "cell_type": "code",
   "execution_count": 84,
   "metadata": {},
   "outputs": [
    {
     "data": {
      "application/vnd.plotly.v1+json": {
       "config": {
        "linkText": "Export to plot.ly",
        "plotlyServerURL": "https://plot.ly",
        "showLink": false
       },
       "data": [
        {
         "mode": "lines",
         "name": "Average Temperature",
         "type": "scatter",
         "x": [
          "January",
          "February",
          "March",
          "April",
          "May",
          "June",
          "July",
          "August",
          "September",
          "October",
          "November",
          "December"
         ],
         "y": [
          9.523218462685254,
          9.523218462684842,
          9.523218462684522,
          9.523218462684277,
          9.523218462684087,
          9.523218462683941,
          9.523218462683829,
          9.523218462683742,
          9.523218462683674,
          9.523218462683623,
          9.523218462683584,
          9.523218462683552
         ]
        }
       ],
       "layout": {
        "template": {
         "data": {
          "bar": [
           {
            "error_x": {
             "color": "#2a3f5f"
            },
            "error_y": {
             "color": "#2a3f5f"
            },
            "marker": {
             "line": {
              "color": "#E5ECF6",
              "width": 0.5
             },
             "pattern": {
              "fillmode": "overlay",
              "size": 10,
              "solidity": 0.2
             }
            },
            "type": "bar"
           }
          ],
          "barpolar": [
           {
            "marker": {
             "line": {
              "color": "#E5ECF6",
              "width": 0.5
             },
             "pattern": {
              "fillmode": "overlay",
              "size": 10,
              "solidity": 0.2
             }
            },
            "type": "barpolar"
           }
          ],
          "carpet": [
           {
            "aaxis": {
             "endlinecolor": "#2a3f5f",
             "gridcolor": "white",
             "linecolor": "white",
             "minorgridcolor": "white",
             "startlinecolor": "#2a3f5f"
            },
            "baxis": {
             "endlinecolor": "#2a3f5f",
             "gridcolor": "white",
             "linecolor": "white",
             "minorgridcolor": "white",
             "startlinecolor": "#2a3f5f"
            },
            "type": "carpet"
           }
          ],
          "choropleth": [
           {
            "colorbar": {
             "outlinewidth": 0,
             "ticks": ""
            },
            "type": "choropleth"
           }
          ],
          "contour": [
           {
            "colorbar": {
             "outlinewidth": 0,
             "ticks": ""
            },
            "colorscale": [
             [
              0,
              "#0d0887"
             ],
             [
              0.1111111111111111,
              "#46039f"
             ],
             [
              0.2222222222222222,
              "#7201a8"
             ],
             [
              0.3333333333333333,
              "#9c179e"
             ],
             [
              0.4444444444444444,
              "#bd3786"
             ],
             [
              0.5555555555555556,
              "#d8576b"
             ],
             [
              0.6666666666666666,
              "#ed7953"
             ],
             [
              0.7777777777777778,
              "#fb9f3a"
             ],
             [
              0.8888888888888888,
              "#fdca26"
             ],
             [
              1,
              "#f0f921"
             ]
            ],
            "type": "contour"
           }
          ],
          "contourcarpet": [
           {
            "colorbar": {
             "outlinewidth": 0,
             "ticks": ""
            },
            "type": "contourcarpet"
           }
          ],
          "heatmap": [
           {
            "colorbar": {
             "outlinewidth": 0,
             "ticks": ""
            },
            "colorscale": [
             [
              0,
              "#0d0887"
             ],
             [
              0.1111111111111111,
              "#46039f"
             ],
             [
              0.2222222222222222,
              "#7201a8"
             ],
             [
              0.3333333333333333,
              "#9c179e"
             ],
             [
              0.4444444444444444,
              "#bd3786"
             ],
             [
              0.5555555555555556,
              "#d8576b"
             ],
             [
              0.6666666666666666,
              "#ed7953"
             ],
             [
              0.7777777777777778,
              "#fb9f3a"
             ],
             [
              0.8888888888888888,
              "#fdca26"
             ],
             [
              1,
              "#f0f921"
             ]
            ],
            "type": "heatmap"
           }
          ],
          "heatmapgl": [
           {
            "colorbar": {
             "outlinewidth": 0,
             "ticks": ""
            },
            "colorscale": [
             [
              0,
              "#0d0887"
             ],
             [
              0.1111111111111111,
              "#46039f"
             ],
             [
              0.2222222222222222,
              "#7201a8"
             ],
             [
              0.3333333333333333,
              "#9c179e"
             ],
             [
              0.4444444444444444,
              "#bd3786"
             ],
             [
              0.5555555555555556,
              "#d8576b"
             ],
             [
              0.6666666666666666,
              "#ed7953"
             ],
             [
              0.7777777777777778,
              "#fb9f3a"
             ],
             [
              0.8888888888888888,
              "#fdca26"
             ],
             [
              1,
              "#f0f921"
             ]
            ],
            "type": "heatmapgl"
           }
          ],
          "histogram": [
           {
            "marker": {
             "pattern": {
              "fillmode": "overlay",
              "size": 10,
              "solidity": 0.2
             }
            },
            "type": "histogram"
           }
          ],
          "histogram2d": [
           {
            "colorbar": {
             "outlinewidth": 0,
             "ticks": ""
            },
            "colorscale": [
             [
              0,
              "#0d0887"
             ],
             [
              0.1111111111111111,
              "#46039f"
             ],
             [
              0.2222222222222222,
              "#7201a8"
             ],
             [
              0.3333333333333333,
              "#9c179e"
             ],
             [
              0.4444444444444444,
              "#bd3786"
             ],
             [
              0.5555555555555556,
              "#d8576b"
             ],
             [
              0.6666666666666666,
              "#ed7953"
             ],
             [
              0.7777777777777778,
              "#fb9f3a"
             ],
             [
              0.8888888888888888,
              "#fdca26"
             ],
             [
              1,
              "#f0f921"
             ]
            ],
            "type": "histogram2d"
           }
          ],
          "histogram2dcontour": [
           {
            "colorbar": {
             "outlinewidth": 0,
             "ticks": ""
            },
            "colorscale": [
             [
              0,
              "#0d0887"
             ],
             [
              0.1111111111111111,
              "#46039f"
             ],
             [
              0.2222222222222222,
              "#7201a8"
             ],
             [
              0.3333333333333333,
              "#9c179e"
             ],
             [
              0.4444444444444444,
              "#bd3786"
             ],
             [
              0.5555555555555556,
              "#d8576b"
             ],
             [
              0.6666666666666666,
              "#ed7953"
             ],
             [
              0.7777777777777778,
              "#fb9f3a"
             ],
             [
              0.8888888888888888,
              "#fdca26"
             ],
             [
              1,
              "#f0f921"
             ]
            ],
            "type": "histogram2dcontour"
           }
          ],
          "mesh3d": [
           {
            "colorbar": {
             "outlinewidth": 0,
             "ticks": ""
            },
            "type": "mesh3d"
           }
          ],
          "parcoords": [
           {
            "line": {
             "colorbar": {
              "outlinewidth": 0,
              "ticks": ""
             }
            },
            "type": "parcoords"
           }
          ],
          "pie": [
           {
            "automargin": true,
            "type": "pie"
           }
          ],
          "scatter": [
           {
            "marker": {
             "colorbar": {
              "outlinewidth": 0,
              "ticks": ""
             }
            },
            "type": "scatter"
           }
          ],
          "scatter3d": [
           {
            "line": {
             "colorbar": {
              "outlinewidth": 0,
              "ticks": ""
             }
            },
            "marker": {
             "colorbar": {
              "outlinewidth": 0,
              "ticks": ""
             }
            },
            "type": "scatter3d"
           }
          ],
          "scattercarpet": [
           {
            "marker": {
             "colorbar": {
              "outlinewidth": 0,
              "ticks": ""
             }
            },
            "type": "scattercarpet"
           }
          ],
          "scattergeo": [
           {
            "marker": {
             "colorbar": {
              "outlinewidth": 0,
              "ticks": ""
             }
            },
            "type": "scattergeo"
           }
          ],
          "scattergl": [
           {
            "marker": {
             "colorbar": {
              "outlinewidth": 0,
              "ticks": ""
             }
            },
            "type": "scattergl"
           }
          ],
          "scattermapbox": [
           {
            "marker": {
             "colorbar": {
              "outlinewidth": 0,
              "ticks": ""
             }
            },
            "type": "scattermapbox"
           }
          ],
          "scatterpolar": [
           {
            "marker": {
             "colorbar": {
              "outlinewidth": 0,
              "ticks": ""
             }
            },
            "type": "scatterpolar"
           }
          ],
          "scatterpolargl": [
           {
            "marker": {
             "colorbar": {
              "outlinewidth": 0,
              "ticks": ""
             }
            },
            "type": "scatterpolargl"
           }
          ],
          "scatterternary": [
           {
            "marker": {
             "colorbar": {
              "outlinewidth": 0,
              "ticks": ""
             }
            },
            "type": "scatterternary"
           }
          ],
          "surface": [
           {
            "colorbar": {
             "outlinewidth": 0,
             "ticks": ""
            },
            "colorscale": [
             [
              0,
              "#0d0887"
             ],
             [
              0.1111111111111111,
              "#46039f"
             ],
             [
              0.2222222222222222,
              "#7201a8"
             ],
             [
              0.3333333333333333,
              "#9c179e"
             ],
             [
              0.4444444444444444,
              "#bd3786"
             ],
             [
              0.5555555555555556,
              "#d8576b"
             ],
             [
              0.6666666666666666,
              "#ed7953"
             ],
             [
              0.7777777777777778,
              "#fb9f3a"
             ],
             [
              0.8888888888888888,
              "#fdca26"
             ],
             [
              1,
              "#f0f921"
             ]
            ],
            "type": "surface"
           }
          ],
          "table": [
           {
            "cells": {
             "fill": {
              "color": "#EBF0F8"
             },
             "line": {
              "color": "white"
             }
            },
            "header": {
             "fill": {
              "color": "#C8D4E3"
             },
             "line": {
              "color": "white"
             }
            },
            "type": "table"
           }
          ]
         },
         "layout": {
          "annotationdefaults": {
           "arrowcolor": "#2a3f5f",
           "arrowhead": 0,
           "arrowwidth": 1
          },
          "autotypenumbers": "strict",
          "coloraxis": {
           "colorbar": {
            "outlinewidth": 0,
            "ticks": ""
           }
          },
          "colorscale": {
           "diverging": [
            [
             0,
             "#8e0152"
            ],
            [
             0.1,
             "#c51b7d"
            ],
            [
             0.2,
             "#de77ae"
            ],
            [
             0.3,
             "#f1b6da"
            ],
            [
             0.4,
             "#fde0ef"
            ],
            [
             0.5,
             "#f7f7f7"
            ],
            [
             0.6,
             "#e6f5d0"
            ],
            [
             0.7,
             "#b8e186"
            ],
            [
             0.8,
             "#7fbc41"
            ],
            [
             0.9,
             "#4d9221"
            ],
            [
             1,
             "#276419"
            ]
           ],
           "sequential": [
            [
             0,
             "#0d0887"
            ],
            [
             0.1111111111111111,
             "#46039f"
            ],
            [
             0.2222222222222222,
             "#7201a8"
            ],
            [
             0.3333333333333333,
             "#9c179e"
            ],
            [
             0.4444444444444444,
             "#bd3786"
            ],
            [
             0.5555555555555556,
             "#d8576b"
            ],
            [
             0.6666666666666666,
             "#ed7953"
            ],
            [
             0.7777777777777778,
             "#fb9f3a"
            ],
            [
             0.8888888888888888,
             "#fdca26"
            ],
            [
             1,
             "#f0f921"
            ]
           ],
           "sequentialminus": [
            [
             0,
             "#0d0887"
            ],
            [
             0.1111111111111111,
             "#46039f"
            ],
            [
             0.2222222222222222,
             "#7201a8"
            ],
            [
             0.3333333333333333,
             "#9c179e"
            ],
            [
             0.4444444444444444,
             "#bd3786"
            ],
            [
             0.5555555555555556,
             "#d8576b"
            ],
            [
             0.6666666666666666,
             "#ed7953"
            ],
            [
             0.7777777777777778,
             "#fb9f3a"
            ],
            [
             0.8888888888888888,
             "#fdca26"
            ],
            [
             1,
             "#f0f921"
            ]
           ]
          },
          "colorway": [
           "#636efa",
           "#EF553B",
           "#00cc96",
           "#ab63fa",
           "#FFA15A",
           "#19d3f3",
           "#FF6692",
           "#B6E880",
           "#FF97FF",
           "#FECB52"
          ],
          "font": {
           "color": "#2a3f5f"
          },
          "geo": {
           "bgcolor": "white",
           "lakecolor": "white",
           "landcolor": "#E5ECF6",
           "showlakes": true,
           "showland": true,
           "subunitcolor": "white"
          },
          "hoverlabel": {
           "align": "left"
          },
          "hovermode": "closest",
          "mapbox": {
           "style": "light"
          },
          "paper_bgcolor": "white",
          "plot_bgcolor": "#E5ECF6",
          "polar": {
           "angularaxis": {
            "gridcolor": "white",
            "linecolor": "white",
            "ticks": ""
           },
           "bgcolor": "#E5ECF6",
           "radialaxis": {
            "gridcolor": "white",
            "linecolor": "white",
            "ticks": ""
           }
          },
          "scene": {
           "xaxis": {
            "backgroundcolor": "#E5ECF6",
            "gridcolor": "white",
            "gridwidth": 2,
            "linecolor": "white",
            "showbackground": true,
            "ticks": "",
            "zerolinecolor": "white"
           },
           "yaxis": {
            "backgroundcolor": "#E5ECF6",
            "gridcolor": "white",
            "gridwidth": 2,
            "linecolor": "white",
            "showbackground": true,
            "ticks": "",
            "zerolinecolor": "white"
           },
           "zaxis": {
            "backgroundcolor": "#E5ECF6",
            "gridcolor": "white",
            "gridwidth": 2,
            "linecolor": "white",
            "showbackground": true,
            "ticks": "",
            "zerolinecolor": "white"
           }
          },
          "shapedefaults": {
           "line": {
            "color": "#2a3f5f"
           }
          },
          "ternary": {
           "aaxis": {
            "gridcolor": "white",
            "linecolor": "white",
            "ticks": ""
           },
           "baxis": {
            "gridcolor": "white",
            "linecolor": "white",
            "ticks": ""
           },
           "bgcolor": "#E5ECF6",
           "caxis": {
            "gridcolor": "white",
            "linecolor": "white",
            "ticks": ""
           }
          },
          "title": {
           "x": 0.05
          },
          "xaxis": {
           "automargin": true,
           "gridcolor": "white",
           "linecolor": "white",
           "ticks": "",
           "title": {
            "standoff": 15
           },
           "zerolinecolor": "white",
           "zerolinewidth": 2
          },
          "yaxis": {
           "automargin": true,
           "gridcolor": "white",
           "linecolor": "white",
           "ticks": "",
           "title": {
            "standoff": 15
           },
           "zerolinecolor": "white",
           "zerolinewidth": 2
          }
         }
        },
        "title": {
         "text": "Predicted Temperatures for the Year 2023"
        },
        "xaxis": {
         "title": {
          "text": "Year"
         }
        },
        "yaxis": {
         "title": {
          "text": "Temperature (C)"
         }
        }
       }
      },
      "text/html": [
       "<div>                            <div id=\"e5f93ad2-7438-4c22-a05a-8e92c3730764\" class=\"plotly-graph-div\" style=\"height:525px; width:100%;\"></div>            <script type=\"text/javascript\">                require([\"plotly\"], function(Plotly) {                    window.PLOTLYENV=window.PLOTLYENV || {};                                    if (document.getElementById(\"e5f93ad2-7438-4c22-a05a-8e92c3730764\")) {                    Plotly.newPlot(                        \"e5f93ad2-7438-4c22-a05a-8e92c3730764\",                        [{\"mode\":\"lines\",\"name\":\"Average Temperature\",\"x\":[\"January\",\"February\",\"March\",\"April\",\"May\",\"June\",\"July\",\"August\",\"September\",\"October\",\"November\",\"December\"],\"y\":[9.523218462685254,9.523218462684842,9.523218462684522,9.523218462684277,9.523218462684087,9.523218462683941,9.523218462683829,9.523218462683742,9.523218462683674,9.523218462683623,9.523218462683584,9.523218462683552],\"type\":\"scatter\"}],                        {\"template\":{\"data\":{\"barpolar\":[{\"marker\":{\"line\":{\"color\":\"#E5ECF6\",\"width\":0.5},\"pattern\":{\"fillmode\":\"overlay\",\"size\":10,\"solidity\":0.2}},\"type\":\"barpolar\"}],\"bar\":[{\"error_x\":{\"color\":\"#2a3f5f\"},\"error_y\":{\"color\":\"#2a3f5f\"},\"marker\":{\"line\":{\"color\":\"#E5ECF6\",\"width\":0.5},\"pattern\":{\"fillmode\":\"overlay\",\"size\":10,\"solidity\":0.2}},\"type\":\"bar\"}],\"carpet\":[{\"aaxis\":{\"endlinecolor\":\"#2a3f5f\",\"gridcolor\":\"white\",\"linecolor\":\"white\",\"minorgridcolor\":\"white\",\"startlinecolor\":\"#2a3f5f\"},\"baxis\":{\"endlinecolor\":\"#2a3f5f\",\"gridcolor\":\"white\",\"linecolor\":\"white\",\"minorgridcolor\":\"white\",\"startlinecolor\":\"#2a3f5f\"},\"type\":\"carpet\"}],\"choropleth\":[{\"colorbar\":{\"outlinewidth\":0,\"ticks\":\"\"},\"type\":\"choropleth\"}],\"contourcarpet\":[{\"colorbar\":{\"outlinewidth\":0,\"ticks\":\"\"},\"type\":\"contourcarpet\"}],\"contour\":[{\"colorbar\":{\"outlinewidth\":0,\"ticks\":\"\"},\"colorscale\":[[0.0,\"#0d0887\"],[0.1111111111111111,\"#46039f\"],[0.2222222222222222,\"#7201a8\"],[0.3333333333333333,\"#9c179e\"],[0.4444444444444444,\"#bd3786\"],[0.5555555555555556,\"#d8576b\"],[0.6666666666666666,\"#ed7953\"],[0.7777777777777778,\"#fb9f3a\"],[0.8888888888888888,\"#fdca26\"],[1.0,\"#f0f921\"]],\"type\":\"contour\"}],\"heatmapgl\":[{\"colorbar\":{\"outlinewidth\":0,\"ticks\":\"\"},\"colorscale\":[[0.0,\"#0d0887\"],[0.1111111111111111,\"#46039f\"],[0.2222222222222222,\"#7201a8\"],[0.3333333333333333,\"#9c179e\"],[0.4444444444444444,\"#bd3786\"],[0.5555555555555556,\"#d8576b\"],[0.6666666666666666,\"#ed7953\"],[0.7777777777777778,\"#fb9f3a\"],[0.8888888888888888,\"#fdca26\"],[1.0,\"#f0f921\"]],\"type\":\"heatmapgl\"}],\"heatmap\":[{\"colorbar\":{\"outlinewidth\":0,\"ticks\":\"\"},\"colorscale\":[[0.0,\"#0d0887\"],[0.1111111111111111,\"#46039f\"],[0.2222222222222222,\"#7201a8\"],[0.3333333333333333,\"#9c179e\"],[0.4444444444444444,\"#bd3786\"],[0.5555555555555556,\"#d8576b\"],[0.6666666666666666,\"#ed7953\"],[0.7777777777777778,\"#fb9f3a\"],[0.8888888888888888,\"#fdca26\"],[1.0,\"#f0f921\"]],\"type\":\"heatmap\"}],\"histogram2dcontour\":[{\"colorbar\":{\"outlinewidth\":0,\"ticks\":\"\"},\"colorscale\":[[0.0,\"#0d0887\"],[0.1111111111111111,\"#46039f\"],[0.2222222222222222,\"#7201a8\"],[0.3333333333333333,\"#9c179e\"],[0.4444444444444444,\"#bd3786\"],[0.5555555555555556,\"#d8576b\"],[0.6666666666666666,\"#ed7953\"],[0.7777777777777778,\"#fb9f3a\"],[0.8888888888888888,\"#fdca26\"],[1.0,\"#f0f921\"]],\"type\":\"histogram2dcontour\"}],\"histogram2d\":[{\"colorbar\":{\"outlinewidth\":0,\"ticks\":\"\"},\"colorscale\":[[0.0,\"#0d0887\"],[0.1111111111111111,\"#46039f\"],[0.2222222222222222,\"#7201a8\"],[0.3333333333333333,\"#9c179e\"],[0.4444444444444444,\"#bd3786\"],[0.5555555555555556,\"#d8576b\"],[0.6666666666666666,\"#ed7953\"],[0.7777777777777778,\"#fb9f3a\"],[0.8888888888888888,\"#fdca26\"],[1.0,\"#f0f921\"]],\"type\":\"histogram2d\"}],\"histogram\":[{\"marker\":{\"pattern\":{\"fillmode\":\"overlay\",\"size\":10,\"solidity\":0.2}},\"type\":\"histogram\"}],\"mesh3d\":[{\"colorbar\":{\"outlinewidth\":0,\"ticks\":\"\"},\"type\":\"mesh3d\"}],\"parcoords\":[{\"line\":{\"colorbar\":{\"outlinewidth\":0,\"ticks\":\"\"}},\"type\":\"parcoords\"}],\"pie\":[{\"automargin\":true,\"type\":\"pie\"}],\"scatter3d\":[{\"line\":{\"colorbar\":{\"outlinewidth\":0,\"ticks\":\"\"}},\"marker\":{\"colorbar\":{\"outlinewidth\":0,\"ticks\":\"\"}},\"type\":\"scatter3d\"}],\"scattercarpet\":[{\"marker\":{\"colorbar\":{\"outlinewidth\":0,\"ticks\":\"\"}},\"type\":\"scattercarpet\"}],\"scattergeo\":[{\"marker\":{\"colorbar\":{\"outlinewidth\":0,\"ticks\":\"\"}},\"type\":\"scattergeo\"}],\"scattergl\":[{\"marker\":{\"colorbar\":{\"outlinewidth\":0,\"ticks\":\"\"}},\"type\":\"scattergl\"}],\"scattermapbox\":[{\"marker\":{\"colorbar\":{\"outlinewidth\":0,\"ticks\":\"\"}},\"type\":\"scattermapbox\"}],\"scatterpolargl\":[{\"marker\":{\"colorbar\":{\"outlinewidth\":0,\"ticks\":\"\"}},\"type\":\"scatterpolargl\"}],\"scatterpolar\":[{\"marker\":{\"colorbar\":{\"outlinewidth\":0,\"ticks\":\"\"}},\"type\":\"scatterpolar\"}],\"scatter\":[{\"marker\":{\"colorbar\":{\"outlinewidth\":0,\"ticks\":\"\"}},\"type\":\"scatter\"}],\"scatterternary\":[{\"marker\":{\"colorbar\":{\"outlinewidth\":0,\"ticks\":\"\"}},\"type\":\"scatterternary\"}],\"surface\":[{\"colorbar\":{\"outlinewidth\":0,\"ticks\":\"\"},\"colorscale\":[[0.0,\"#0d0887\"],[0.1111111111111111,\"#46039f\"],[0.2222222222222222,\"#7201a8\"],[0.3333333333333333,\"#9c179e\"],[0.4444444444444444,\"#bd3786\"],[0.5555555555555556,\"#d8576b\"],[0.6666666666666666,\"#ed7953\"],[0.7777777777777778,\"#fb9f3a\"],[0.8888888888888888,\"#fdca26\"],[1.0,\"#f0f921\"]],\"type\":\"surface\"}],\"table\":[{\"cells\":{\"fill\":{\"color\":\"#EBF0F8\"},\"line\":{\"color\":\"white\"}},\"header\":{\"fill\":{\"color\":\"#C8D4E3\"},\"line\":{\"color\":\"white\"}},\"type\":\"table\"}]},\"layout\":{\"annotationdefaults\":{\"arrowcolor\":\"#2a3f5f\",\"arrowhead\":0,\"arrowwidth\":1},\"autotypenumbers\":\"strict\",\"coloraxis\":{\"colorbar\":{\"outlinewidth\":0,\"ticks\":\"\"}},\"colorscale\":{\"diverging\":[[0,\"#8e0152\"],[0.1,\"#c51b7d\"],[0.2,\"#de77ae\"],[0.3,\"#f1b6da\"],[0.4,\"#fde0ef\"],[0.5,\"#f7f7f7\"],[0.6,\"#e6f5d0\"],[0.7,\"#b8e186\"],[0.8,\"#7fbc41\"],[0.9,\"#4d9221\"],[1,\"#276419\"]],\"sequential\":[[0.0,\"#0d0887\"],[0.1111111111111111,\"#46039f\"],[0.2222222222222222,\"#7201a8\"],[0.3333333333333333,\"#9c179e\"],[0.4444444444444444,\"#bd3786\"],[0.5555555555555556,\"#d8576b\"],[0.6666666666666666,\"#ed7953\"],[0.7777777777777778,\"#fb9f3a\"],[0.8888888888888888,\"#fdca26\"],[1.0,\"#f0f921\"]],\"sequentialminus\":[[0.0,\"#0d0887\"],[0.1111111111111111,\"#46039f\"],[0.2222222222222222,\"#7201a8\"],[0.3333333333333333,\"#9c179e\"],[0.4444444444444444,\"#bd3786\"],[0.5555555555555556,\"#d8576b\"],[0.6666666666666666,\"#ed7953\"],[0.7777777777777778,\"#fb9f3a\"],[0.8888888888888888,\"#fdca26\"],[1.0,\"#f0f921\"]]},\"colorway\":[\"#636efa\",\"#EF553B\",\"#00cc96\",\"#ab63fa\",\"#FFA15A\",\"#19d3f3\",\"#FF6692\",\"#B6E880\",\"#FF97FF\",\"#FECB52\"],\"font\":{\"color\":\"#2a3f5f\"},\"geo\":{\"bgcolor\":\"white\",\"lakecolor\":\"white\",\"landcolor\":\"#E5ECF6\",\"showlakes\":true,\"showland\":true,\"subunitcolor\":\"white\"},\"hoverlabel\":{\"align\":\"left\"},\"hovermode\":\"closest\",\"mapbox\":{\"style\":\"light\"},\"paper_bgcolor\":\"white\",\"plot_bgcolor\":\"#E5ECF6\",\"polar\":{\"angularaxis\":{\"gridcolor\":\"white\",\"linecolor\":\"white\",\"ticks\":\"\"},\"bgcolor\":\"#E5ECF6\",\"radialaxis\":{\"gridcolor\":\"white\",\"linecolor\":\"white\",\"ticks\":\"\"}},\"scene\":{\"xaxis\":{\"backgroundcolor\":\"#E5ECF6\",\"gridcolor\":\"white\",\"gridwidth\":2,\"linecolor\":\"white\",\"showbackground\":true,\"ticks\":\"\",\"zerolinecolor\":\"white\"},\"yaxis\":{\"backgroundcolor\":\"#E5ECF6\",\"gridcolor\":\"white\",\"gridwidth\":2,\"linecolor\":\"white\",\"showbackground\":true,\"ticks\":\"\",\"zerolinecolor\":\"white\"},\"zaxis\":{\"backgroundcolor\":\"#E5ECF6\",\"gridcolor\":\"white\",\"gridwidth\":2,\"linecolor\":\"white\",\"showbackground\":true,\"ticks\":\"\",\"zerolinecolor\":\"white\"}},\"shapedefaults\":{\"line\":{\"color\":\"#2a3f5f\"}},\"ternary\":{\"aaxis\":{\"gridcolor\":\"white\",\"linecolor\":\"white\",\"ticks\":\"\"},\"baxis\":{\"gridcolor\":\"white\",\"linecolor\":\"white\",\"ticks\":\"\"},\"bgcolor\":\"#E5ECF6\",\"caxis\":{\"gridcolor\":\"white\",\"linecolor\":\"white\",\"ticks\":\"\"}},\"title\":{\"x\":0.05},\"xaxis\":{\"automargin\":true,\"gridcolor\":\"white\",\"linecolor\":\"white\",\"ticks\":\"\",\"title\":{\"standoff\":15},\"zerolinecolor\":\"white\",\"zerolinewidth\":2},\"yaxis\":{\"automargin\":true,\"gridcolor\":\"white\",\"linecolor\":\"white\",\"ticks\":\"\",\"title\":{\"standoff\":15},\"zerolinecolor\":\"white\",\"zerolinewidth\":2}}},\"title\":{\"text\":\"Predicted Temperatures for the Year 2023\"},\"xaxis\":{\"title\":{\"text\":\"Year\"}},\"yaxis\":{\"title\":{\"text\":\"Temperature (C)\"}}},                        {\"responsive\": true}                    ).then(function(){\n",
       "                            \n",
       "var gd = document.getElementById('e5f93ad2-7438-4c22-a05a-8e92c3730764');\n",
       "var x = new MutationObserver(function (mutations, observer) {{\n",
       "        var display = window.getComputedStyle(gd).display;\n",
       "        if (!display || display === 'none') {{\n",
       "            console.log([gd, 'removed!']);\n",
       "            Plotly.purge(gd);\n",
       "            observer.disconnect();\n",
       "        }}\n",
       "}});\n",
       "\n",
       "// Listen for the removal of the full notebook cells\n",
       "var notebookContainer = gd.closest('#notebook-container');\n",
       "if (notebookContainer) {{\n",
       "    x.observe(notebookContainer, {childList: true});\n",
       "}}\n",
       "\n",
       "// Listen for the clearing of the current output cell\n",
       "var outputEl = gd.closest('.output');\n",
       "if (outputEl) {{\n",
       "    x.observe(outputEl, {childList: true});\n",
       "}}\n",
       "\n",
       "                        })                };                });            </script>        </div>"
      ]
     },
     "metadata": {},
     "output_type": "display_data"
    }
   ],
   "source": [
    "# plotting the predicted values for the nth year\n",
    "\n",
    "trace = go.Scatter(\n",
    "    x = [\"January\", \"February\", \"March\", \"April\", \"May\", \"June\", \"July\", \"August\", \"September\", \"October\", \"November\", \"December\"],\n",
    "    y = out_of_sample_forecast[-12:],\n",
    "    mode = 'lines',\n",
    "    name = 'Average Temperature'\n",
    ")\n",
    "\n",
    "layout = go.Layout(\n",
    "    title='Predicted Temperatures for the Year %d' % (2013+num_years),\n",
    "    xaxis=dict(\n",
    "        title='Year',\n",
    "    ),\n",
    "    yaxis=dict(\n",
    "        title='Temperature (C)',\n",
    "    )\n",
    ")\n",
    "data = [trace]\n",
    "\n",
    "fig = go.Figure(data=data, layout=layout)\n",
    "iplot(fig)"
   ]
  },
  {
   "cell_type": "code",
   "execution_count": 86,
   "metadata": {},
   "outputs": [
    {
     "data": {
      "text/plain": [
       "3122    12.341947\n",
       "3123    11.696675\n",
       "3124    11.199121\n",
       "3125    10.815468\n",
       "3126    10.519642\n",
       "          ...    \n",
       "3237     9.523218\n",
       "3238     9.523218\n",
       "3239     9.523218\n",
       "3240     9.523218\n",
       "3241     9.523218\n",
       "Name: predicted_mean, Length: 120, dtype: float64"
      ]
     },
     "execution_count": 86,
     "metadata": {},
     "output_type": "execute_result"
    }
   ],
   "source": [
    "out_of_sample_forecast"
   ]
  },
  {
   "cell_type": "markdown",
   "metadata": {},
   "source": [
    "### OBJECTIVE 1: Predicting the Temperature Change of a Given City across a Specified Time Period ###"
   ]
  },
  {
   "cell_type": "code",
   "execution_count": 87,
   "metadata": {},
   "outputs": [
    {
     "data": {
      "image/png": "[encoded data removed]",
      "text/plain": [
       "<Figure size 432x288 with 12 Axes>"
      ]
     },
     "metadata": {
      "needs_background": "light"
     },
     "output_type": "display_data"
    }
   ],
   "source": [
    "# plotting monthly temperature changes from 2013 to 2013+n years\n",
    "\n",
    "fig, ax = plt.subplots(nrows=4, ncols=3)\n",
    "\n",
    "monthly_change = {}\n",
    "\n",
    "for month in range(12):\n",
    "    temp = month\n",
    "    for year in range(num_years):\n",
    "        if month not in monthly_change:\n",
    "            monthly_change[month] = [out_of_sample_forecast]\n",
    "        else:\n",
    "            monthly_change[month].append(out_of_sample_forecast)\n",
    "        temp+=12"
   ]
  },
  {
   "cell_type": "code",
   "execution_count": 88,
   "metadata": {},
   "outputs": [
    {
     "data": {
      "image/png": "[encoded data removed]",
      "text/plain": [
       "<Figure size 1440x1440 with 12 Axes>"
      ]
     },
     "metadata": {
      "needs_background": "light"
     },
     "output_type": "display_data"
    }
   ],
   "source": [
    "plt.figure(figsize=(20,20))\n",
    "for pos in range(0,12):\n",
    "    plt.subplot(4,3,pos+1)\n",
    "    plt.plot(monthly_change[pos])\n",
    "    plt.xticks(np.array(range(num_years)), [i for i in range(2014,2014+num_years)])\n",
    "    plt.title(months[pos])\n",
    "    plt.xlabel('Years')\n",
    "    plt.ylabel('Temperature(C)')\n",
    "\n",
    "plt.show()"
   ]
  },
  {
   "cell_type": "code",
   "execution_count": 90,
   "metadata": {},
   "outputs": [
    {
     "data": {
      "text/html": [
       "<div>\n",
       "<style scoped>\n",
       "    .dataframe tbody tr th:only-of-type {\n",
       "        vertical-align: middle;\n",
       "    }\n",
       "\n",
       "    .dataframe tbody tr th {\n",
       "        vertical-align: top;\n",
       "    }\n",
       "\n",
       "    .dataframe thead th {\n",
       "        text-align: right;\n",
       "    }\n",
       "</style>\n",
       "<table border=\"1\" class=\"dataframe\">\n",
       "  <thead>\n",
       "    <tr style=\"text-align: right;\">\n",
       "      <th></th>\n",
       "      <th>AverageTemperature</th>\n",
       "      <th>City</th>\n",
       "    </tr>\n",
       "    <tr>\n",
       "      <th>dt</th>\n",
       "      <th></th>\n",
       "      <th></th>\n",
       "    </tr>\n",
       "  </thead>\n",
       "  <tbody>\n",
       "    <tr>\n",
       "      <th>1743-11-01</th>\n",
       "      <td>5.436</td>\n",
       "      <td>Chicago</td>\n",
       "    </tr>\n",
       "    <tr>\n",
       "      <th>1744-04-01</th>\n",
       "      <td>8.766</td>\n",
       "      <td>Chicago</td>\n",
       "    </tr>\n",
       "    <tr>\n",
       "      <th>1744-05-01</th>\n",
       "      <td>11.605</td>\n",
       "      <td>Chicago</td>\n",
       "    </tr>\n",
       "    <tr>\n",
       "      <th>1744-06-01</th>\n",
       "      <td>17.965</td>\n",
       "      <td>Chicago</td>\n",
       "    </tr>\n",
       "    <tr>\n",
       "      <th>1744-07-01</th>\n",
       "      <td>21.680</td>\n",
       "      <td>Chicago</td>\n",
       "    </tr>\n",
       "  </tbody>\n",
       "</table>\n",
       "</div>"
      ],
      "text/plain": [
       "            AverageTemperature     City\n",
       "dt                                     \n",
       "1743-11-01               5.436  Chicago\n",
       "1744-04-01               8.766  Chicago\n",
       "1744-05-01              11.605  Chicago\n",
       "1744-06-01              17.965  Chicago\n",
       "1744-07-01              21.680  Chicago"
      ]
     },
     "execution_count": 90,
     "metadata": {},
     "output_type": "execute_result"
    }
   ],
   "source": [
    "# read the csv file into a DataFrame\n",
    "df = pd.read_csv(\"E:\\\\Python Projects\\\\Mounica\\\\GlobalLandTemperaturesByMajorCity.csv\")\n",
    "\n",
    "# convert first column to DateTime format\n",
    "df['dt'] = pd.to_datetime(df['dt'])\n",
    "\n",
    "# set first column (dt) as the index column\n",
    "df.index = df['dt']\n",
    "del df['dt']\n",
    "df = df.drop({\"AverageTemperatureUncertainty\"}, 1)\n",
    "df = df.dropna()\n",
    "\n",
    "# while estimating top 10 US cities using the whole data, we got multiple cities with identical latitude and longitude values, making plotting difficult\n",
    "# therefore, we only consider US cities with unique latitude and longitude values\n",
    "\n",
    "# getting the first city for each unique latitude-Longitude pair\n",
    "new_us_cities_df = df[df.Country=='United States'].drop('Country', 1)\n",
    "new_us_cities_df['latlon'] = new_us_cities_df['Latitude'] + ', ' + new_us_cities_df['Longitude']\n",
    "new_us_cities_df = new_us_cities_df.sort_values('latlon')\n",
    "unique_latlon_values = set(list(new_us_cities_df.latlon))\n",
    "\n",
    "cities = list(new_us_cities_df.City)\n",
    "\n",
    "unique_latlon_first_cities = []\n",
    "\n",
    "for x in unique_latlon_values:\n",
    "    i = list(new_us_cities_df.latlon).index(x)\n",
    "    unique_latlon_first_cities.append(cities[i])\n",
    "\n",
    "part_2_df = df[df['City'].isin(unique_latlon_first_cities)].drop(['Country', 'Latitude', 'Longitude'], 1)\n",
    "part_2_df.head()"
   ]
  },
  {
   "cell_type": "code",
   "execution_count": 93,
   "metadata": {},
   "outputs": [],
   "source": [
    "# hide warnings\n",
    "import warnings\n",
    "warnings.simplefilter(\"ignore\")\n",
    "\n",
    "changes = []  # stores temperature change for cities\n",
    "avg_2013 = []  # stores average of 2013 temperature for each city\n",
    "avg_2023 = []  # stores average of 2023 temperature for each city\n",
    "\n",
    "for each_city in set(unique_latlon_first_cities):\n",
    "    new_city_df = part_2_df[part_2_df.City == each_city].drop(\"City\", 1)  # new df for each city\n",
    "    new_city_df_mean = new_city_df.resample(\"A\").mean()  # stores yearly mean temperature values for city\n",
    "    new_city_df_mean = new_city_df_mean.dropna()\n",
    "    last_year_average = new_city_df_mean['AverageTemperature'][-1]  # average of last year temperature for comparison later\n",
    "    avg_2013.append(last_year_average)\n",
    "    \n",
    "    # making predictions for city for next 10 years\n",
    "    p_range = q_range = [i for i in range(0,3)]  # taking values from 0 to 2\n",
    "\n",
    "    aic_values = []\n",
    "    bic_values = []\n",
    "    pq_values = []\n",
    "\n",
    "    for p in p_range:\n",
    "        for q in q_range:\n",
    "            try:\n",
    "                model = ARIMA(new_city_df, order=(p, 0, q))\n",
    "                results = model.fit()\n",
    "                aic_values.append(results.aic)\n",
    "                bic_values.append(results.bic)\n",
    "                pq_values.append((p, q))\n",
    "            except:\n",
    "                pass\n",
    "    \n",
    "    best_pq = pq_values[aic_values.index(min(aic_values))]  # (p,q) corresponding to lowest AIC score\n",
    "    \n",
    "    arima_model = ARIMA(new_city_df, order=(best_pq[0], 0, best_pq[1])).fit()\n",
    "    \n",
    "    # make prediction for next 10 years using 120 steps\n",
    "    out_of_sample_forecast = arima_model.forecast(steps=120)\n",
    "    average_after_10_years = np.mean(out_of_sample_forecast[-9:])  # average of 10th year's values (after 10 years) i.e. average of last 9 values (Jan-Sep because 2013 values end at September)\n",
    "    avg_2023.append(average_after_10_years)\n",
    "    \n",
    "    changes.append(abs(last_year_average - average_after_10_years))\n",
    "    \n",
    "    top_10_changes_indices = sorted(range(len(changes)), key=lambda i: changes[i], reverse=True)[:10]\n",
    "    top_10_cities = [unique_latlon_first_cities[x] for x in top_10_changes_indices]\n",
    "    top_10_cities"
   ]
  },
  {
   "cell_type": "code",
   "execution_count": 94,
   "metadata": {},
   "outputs": [],
   "source": [
    "# plotting the top-10 cities using plotly\n",
    "\n",
    "top10_df = pd.DataFrame()\n",
    "top10_df['city'] = top_10_cities\n",
    "top10_df['latitude'] = [new_us_cities_df.Latitude[new_us_cities_df.City==x][-1] for x in top_10_cities]\n",
    "top10_df['longitude'] = [new_us_cities_df.Longitude[new_us_cities_df.City==x][-1] for x in top_10_cities]\n",
    "top10_df['2013_average'] = [avg_2013[x] for x in top_10_changes_indices]\n",
    "top10_df['2023_average'] = [avg_2023[x] for x in top_10_changes_indices]\n",
    "top10_df['change'] =  [changes[x] for x in top_10_changes_indices]\n",
    "top10_df = top10_df.round({'2013_average':2, '2023_average':2, 'change':2})\n",
    "top10_df['text'] = top10_df['city'] + ', Avg. Temperature in 2013: ' + top10_df['2013_average'].astype(str) + 'C, Avg. Temperature in 2023: ' + top10_df['2023_average'].astype(str) +'C'\n",
    "\n",
    "# convert latitude and longitude to numeric values for plotting i.e. remove 'N' and 'W' from values and also make longitudes negative\n",
    "top10_df['latitude'] = [float(x[:-1]) for x in list(top10_df['latitude'])]\n",
    "top10_df['longitude'] = [-float(x[:-1]) for x in list(top10_df['longitude'])]"
   ]
  },
  {
   "cell_type": "markdown",
   "metadata": {},
   "source": [
    "### OBJECTIVE 2: Top-10 Cities in the US with Maximum Temperature Change ###"
   ]
  },
  {
   "cell_type": "code",
   "execution_count": 95,
   "metadata": {},
   "outputs": [
    {
     "data": {
      "application/vnd.plotly.v1+json": {
       "config": {
        "linkText": "Export to plot.ly",
        "plotlyServerURL": "https://plot.ly",
        "showLink": false
       },
       "data": [
        {
         "lat": [
          42.59,
          40.99,
          34.56
         ],
         "locationmode": "USA-states",
         "lon": [
          -87.27,
          -74.56,
          -118.7
         ],
         "marker": {
          "autocolorscale": false,
          "cmax": 1.62,
          "cmin": 0,
          "color": [
           1.62,
           1.07,
           0.66
          ],
          "colorbar": {
           "title": "Temperature Change"
          },
          "colorscale": [
           [
            0,
            "rgb(172, 5, 5)"
           ],
           [
            0.35,
            "rgb(190, 40, 40)"
           ],
           [
            0.5,
            "rgb(245, 70, 70)"
           ],
           [
            0.6,
            "rgb(245, 89, 89)"
           ],
           [
            0.7,
            "rgb(247, 106, 106)"
           ],
           [
            1,
            "rgb(220, 220, 220)"
           ]
          ],
          "line": {
           "color": "rgba(102, 102, 102)",
           "width": 1
          },
          "opacity": 0.8,
          "reversescale": true,
          "size": 8,
          "symbol": "square"
         },
         "mode": "markers",
         "text": [
          "Chicago, Avg. Temperature in 2013: 18.12C, Avg. Temperature in 2023: 16.5C",
          "New York, Avg. Temperature in 2013: 12.16C, Avg. Temperature in 2023: 11.1C",
          "Los Angeles, Avg. Temperature in 2013: 11.59C, Avg. Temperature in 2023: 10.93C"
         ],
         "type": "scattergeo"
        }
       ],
       "layout": {
        "colorbar": true,
        "geo": {
         "countrycolor": "rgb(217, 217, 217)",
         "countrywidth": 0.5,
         "landcolor": "rgb(250, 250, 250)",
         "projection": {
          "type": "albers usa"
         },
         "scope": "usa",
         "showland": true,
         "subunitcolor": "rgb(217, 217, 217)",
         "subunitwidth": 0.5
        },
        "title": "Top 10 Cities with most Temperature Change in 10 Years<br><i>Hover for Details</i>"
       }
      },
      "text/html": [
       "<div>                            <div id=\"296efc52-f757-4813-ad9c-ad9afe6078ba\" class=\"plotly-graph-div\" style=\"height:525px; width:100%;\"></div>            <script type=\"text/javascript\">                require([\"plotly\"], function(Plotly) {                    window.PLOTLYENV=window.PLOTLYENV || {};                                    if (document.getElementById(\"296efc52-f757-4813-ad9c-ad9afe6078ba\")) {                    Plotly.newPlot(                        \"296efc52-f757-4813-ad9c-ad9afe6078ba\",                        [{\"type\":\"scattergeo\",\"locationmode\":\"USA-states\",\"lon\":[-87.27,-74.56,-118.7],\"lat\":[42.59,40.99,34.56],\"text\":[\"Chicago, Avg. Temperature in 2013: 18.12C, Avg. Temperature in 2023: 16.5C\",\"New York, Avg. Temperature in 2013: 12.16C, Avg. Temperature in 2023: 11.1C\",\"Los Angeles, Avg. Temperature in 2013: 11.59C, Avg. Temperature in 2023: 10.93C\"],\"mode\":\"markers\",\"marker\":{\"size\":8,\"opacity\":0.8,\"reversescale\":true,\"autocolorscale\":false,\"symbol\":\"square\",\"line\":{\"width\":1,\"color\":\"rgba(102, 102, 102)\"},\"colorscale\":[[0,\"rgb(172, 5, 5)\"],[0.35,\"rgb(190, 40, 40)\"],[0.5,\"rgb(245, 70, 70)\"],[0.6,\"rgb(245, 89, 89)\"],[0.7,\"rgb(247, 106, 106)\"],[1,\"rgb(220, 220, 220)\"]],\"cmin\":0,\"color\":[1.62,1.07,0.66],\"cmax\":1.62,\"colorbar\":{\"title\":\"Temperature Change\"}}}],                        {\"title\":\"Top 10 Cities with most Temperature Change in 10 Years<br><i>Hover for Details</i>\",\"colorbar\":true,\"geo\":{\"scope\":\"usa\",\"projection\":{\"type\":\"albers usa\"},\"showland\":true,\"landcolor\":\"rgb(250, 250, 250)\",\"subunitcolor\":\"rgb(217, 217, 217)\",\"countrycolor\":\"rgb(217, 217, 217)\",\"countrywidth\":0.5,\"subunitwidth\":0.5}},                        {\"responsive\": true}                    ).then(function(){\n",
       "                            \n",
       "var gd = document.getElementById('296efc52-f757-4813-ad9c-ad9afe6078ba');\n",
       "var x = new MutationObserver(function (mutations, observer) {{\n",
       "        var display = window.getComputedStyle(gd).display;\n",
       "        if (!display || display === 'none') {{\n",
       "            console.log([gd, 'removed!']);\n",
       "            Plotly.purge(gd);\n",
       "            observer.disconnect();\n",
       "        }}\n",
       "}});\n",
       "\n",
       "// Listen for the removal of the full notebook cells\n",
       "var notebookContainer = gd.closest('#notebook-container');\n",
       "if (notebookContainer) {{\n",
       "    x.observe(notebookContainer, {childList: true});\n",
       "}}\n",
       "\n",
       "// Listen for the clearing of the current output cell\n",
       "var outputEl = gd.closest('.output');\n",
       "if (outputEl) {{\n",
       "    x.observe(outputEl, {childList: true});\n",
       "}}\n",
       "\n",
       "                        })                };                });            </script>        </div>"
      ]
     },
     "metadata": {},
     "output_type": "display_data"
    }
   ],
   "source": [
    "scl = [ [0,\"rgb(172, 5, 5)\"],[0.35,\"rgb(190, 40, 40)\"],[0.5,\"rgb(245, 70, 70)\"],[0.6,\"rgb(245, 89, 89)\"],[0.7,\"rgb(247, 106, 106)\"],[1,\"rgb(220, 220, 220)\"] ]\n",
    "\n",
    "data = [ dict(\n",
    "        type = 'scattergeo',\n",
    "        locationmode = 'USA-states',\n",
    "        lon = top10_df['longitude'],\n",
    "        lat = top10_df['latitude'],\n",
    "        text = top10_df['text'],\n",
    "        mode = 'markers',\n",
    "        marker = dict(\n",
    "            size = 8,\n",
    "            opacity = 0.8,\n",
    "            reversescale = True,\n",
    "            autocolorscale = False,\n",
    "            symbol = 'square',\n",
    "            line = dict(\n",
    "                width=1,\n",
    "                color='rgba(102, 102, 102)'\n",
    "            ),\n",
    "            colorscale = scl,\n",
    "            cmin = 0,\n",
    "            color = top10_df['change'],\n",
    "            cmax = top10_df['change'].max(),\n",
    "            colorbar=dict(\n",
    "                title=\"Temperature Change\"\n",
    "            )\n",
    "        ))]\n",
    "\n",
    "layout = dict(\n",
    "        title = 'Top 10 Cities with most Temperature Change in 10 Years<br><i>Hover for Details</i>',\n",
    "        colorbar = True,\n",
    "        geo = dict(\n",
    "            scope='usa',\n",
    "            projection=dict( type='albers usa' ),\n",
    "            showland = True,\n",
    "            landcolor = \"rgb(250, 250, 250)\",\n",
    "            subunitcolor = \"rgb(217, 217, 217)\",\n",
    "            countrycolor = \"rgb(217, 217, 217)\",\n",
    "            countrywidth = 0.5,\n",
    "            subunitwidth = 0.5\n",
    "        ),\n",
    "    )\n",
    "\n",
    "fig = dict(data=data, layout=layout)\n",
    "iplot(fig, validate=False, filename='top-10-cities')"
   ]
  },
  {
   "cell_type": "markdown",
   "metadata": {},
   "source": [
    "### OBJECTIVE 3: The Effect of Pollution and Greenhouse Gases on Temperature Change ###"
   ]
  },
  {
   "cell_type": "code",
   "execution_count": 138,
   "metadata": {},
   "outputs": [
    {
     "ename": "NameError",
     "evalue": "name 'edges' is not defined",
     "output_type": "error",
     "traceback": [
      "\u001b[1;31m---------------------------------------------------------------------------\u001b[0m",
      "\u001b[1;31mNameError\u001b[0m                                 Traceback (most recent call last)",
      "\u001b[1;32m<ipython-input-138-324a5dab61ac>\u001b[0m in \u001b[0;36m<module>\u001b[1;34m\u001b[0m\n\u001b[1;32m----> 1\u001b[1;33m \u001b[0mmask\u001b[0m \u001b[1;33m=\u001b[0m \u001b[0mnp\u001b[0m\u001b[1;33m.\u001b[0m\u001b[0mzeros\u001b[0m\u001b[1;33m(\u001b[0m\u001b[0medges\u001b[0m\u001b[1;33m.\u001b[0m\u001b[0mshape\u001b[0m\u001b[1;33m,\u001b[0m\u001b[0mdtype\u001b[0m\u001b[1;33m=\u001b[0m\u001b[1;34m'uint8'\u001b[0m\u001b[1;33m)\u001b[0m\u001b[1;33m\u001b[0m\u001b[1;33m\u001b[0m\u001b[0m\n\u001b[0m",
      "\u001b[1;31mNameError\u001b[0m: name 'edges' is not defined"
     ]
    }
   ],
   "source": [
    "#mask = np.zeros(edges.shape,dtype='uint8')"
   ]
  },
  {
   "cell_type": "code",
   "execution_count": 114,
   "metadata": {},
   "outputs": [],
   "source": [
    "# Dataframes implement the Pandas API\n",
    "# import dask.dataframe as dd\n",
    "# df = dd.read_csv(filename)"
   ]
  },
  {
   "cell_type": "code",
   "execution_count": 32,
   "metadata": {},
   "outputs": [],
   "source": [
    "df = pd.read_csv('E:\\\\Python Projects\\\\Mounica\\\\pollutions_2008_2010.csv')\n",
    "# new_df = df.drop(['Unnamed: 0','State Code', 'County Code', 'Site Num', 'Address',\n",
    "#        'State', 'County', 'NO2 Units', 'NO2 Mean',\n",
    "#        'NO2 1st Max Value', 'NO2 1st Max Hour', 'O3 Units',\n",
    "#        'O3 Mean', 'O3 1st Max Value', 'O3 1st Max Hour', 'SO2 Units',\n",
    "#        'SO2 Mean', 'SO2 1st Max Value', 'SO2 1st Max Hour','CO Units', 'CO Mean','CO 1st Max Value', 'CO 1st Max Hour'],axis = 1)\n",
    "\n",
    "new_df =df"
   ]
  },
  {
   "cell_type": "code",
   "execution_count": 33,
   "metadata": {},
   "outputs": [
    {
     "data": {
      "text/html": [
       "<div>\n",
       "<style scoped>\n",
       "    .dataframe tbody tr th:only-of-type {\n",
       "        vertical-align: middle;\n",
       "    }\n",
       "\n",
       "    .dataframe tbody tr th {\n",
       "        vertical-align: top;\n",
       "    }\n",
       "\n",
       "    .dataframe thead th {\n",
       "        text-align: right;\n",
       "    }\n",
       "</style>\n",
       "<table border=\"1\" class=\"dataframe\">\n",
       "  <thead>\n",
       "    <tr style=\"text-align: right;\">\n",
       "      <th></th>\n",
       "      <th>City</th>\n",
       "      <th>Date Local</th>\n",
       "      <th>NO2 AQI</th>\n",
       "      <th>O3 AQI</th>\n",
       "      <th>SO2 AQI</th>\n",
       "      <th>CO AQI</th>\n",
       "    </tr>\n",
       "  </thead>\n",
       "  <tbody>\n",
       "    <tr>\n",
       "      <th>0</th>\n",
       "      <td>Phoenix</td>\n",
       "      <td>01-01-2008</td>\n",
       "      <td>50</td>\n",
       "      <td>31</td>\n",
       "      <td>4.0</td>\n",
       "      <td>NaN</td>\n",
       "    </tr>\n",
       "    <tr>\n",
       "      <th>1</th>\n",
       "      <td>Phoenix</td>\n",
       "      <td>01-01-2008</td>\n",
       "      <td>50</td>\n",
       "      <td>31</td>\n",
       "      <td>4.0</td>\n",
       "      <td>22.0</td>\n",
       "    </tr>\n",
       "    <tr>\n",
       "      <th>2</th>\n",
       "      <td>Phoenix</td>\n",
       "      <td>01-01-2008</td>\n",
       "      <td>50</td>\n",
       "      <td>31</td>\n",
       "      <td>NaN</td>\n",
       "      <td>NaN</td>\n",
       "    </tr>\n",
       "    <tr>\n",
       "      <th>3</th>\n",
       "      <td>Phoenix</td>\n",
       "      <td>01-01-2008</td>\n",
       "      <td>50</td>\n",
       "      <td>31</td>\n",
       "      <td>NaN</td>\n",
       "      <td>22.0</td>\n",
       "    </tr>\n",
       "    <tr>\n",
       "      <th>4</th>\n",
       "      <td>Phoenix</td>\n",
       "      <td>02-01-2008</td>\n",
       "      <td>36</td>\n",
       "      <td>29</td>\n",
       "      <td>1.0</td>\n",
       "      <td>NaN</td>\n",
       "    </tr>\n",
       "    <tr>\n",
       "      <th>...</th>\n",
       "      <td>...</td>\n",
       "      <td>...</td>\n",
       "      <td>...</td>\n",
       "      <td>...</td>\n",
       "      <td>...</td>\n",
       "      <td>...</td>\n",
       "    </tr>\n",
       "    <tr>\n",
       "      <th>303887</th>\n",
       "      <td>Portland</td>\n",
       "      <td>05-06-2010</td>\n",
       "      <td>26</td>\n",
       "      <td>33</td>\n",
       "      <td>3.0</td>\n",
       "      <td>NaN</td>\n",
       "    </tr>\n",
       "    <tr>\n",
       "      <th>303888</th>\n",
       "      <td>Portland</td>\n",
       "      <td>05-06-2010</td>\n",
       "      <td>26</td>\n",
       "      <td>33</td>\n",
       "      <td>3.0</td>\n",
       "      <td>7.0</td>\n",
       "    </tr>\n",
       "    <tr>\n",
       "      <th>303889</th>\n",
       "      <td>Portland</td>\n",
       "      <td>05-06-2010</td>\n",
       "      <td>26</td>\n",
       "      <td>33</td>\n",
       "      <td>NaN</td>\n",
       "      <td>NaN</td>\n",
       "    </tr>\n",
       "    <tr>\n",
       "      <th>303890</th>\n",
       "      <td>Portland</td>\n",
       "      <td>05-06-2010</td>\n",
       "      <td>26</td>\n",
       "      <td>33</td>\n",
       "      <td>NaN</td>\n",
       "      <td>7.0</td>\n",
       "    </tr>\n",
       "    <tr>\n",
       "      <th>303891</th>\n",
       "      <td>Portland</td>\n",
       "      <td>06-06-2010</td>\n",
       "      <td>19</td>\n",
       "      <td>18</td>\n",
       "      <td>1.0</td>\n",
       "      <td>NaN</td>\n",
       "    </tr>\n",
       "  </tbody>\n",
       "</table>\n",
       "<p>303892 rows × 6 columns</p>\n",
       "</div>"
      ],
      "text/plain": [
       "            City  Date Local  NO2 AQI  O3 AQI  SO2 AQI  CO AQI\n",
       "0        Phoenix  01-01-2008       50      31      4.0     NaN\n",
       "1        Phoenix  01-01-2008       50      31      4.0    22.0\n",
       "2        Phoenix  01-01-2008       50      31      NaN     NaN\n",
       "3        Phoenix  01-01-2008       50      31      NaN    22.0\n",
       "4        Phoenix  02-01-2008       36      29      1.0     NaN\n",
       "...          ...         ...      ...     ...      ...     ...\n",
       "303887  Portland  05-06-2010       26      33      3.0     NaN\n",
       "303888  Portland  05-06-2010       26      33      3.0     7.0\n",
       "303889  Portland  05-06-2010       26      33      NaN     NaN\n",
       "303890  Portland  05-06-2010       26      33      NaN     7.0\n",
       "303891  Portland  06-06-2010       19      18      1.0     NaN\n",
       "\n",
       "[303892 rows x 6 columns]"
      ]
     },
     "execution_count": 33,
     "metadata": {},
     "output_type": "execute_result"
    }
   ],
   "source": [
    "new_df"
   ]
  },
  {
   "cell_type": "code",
   "execution_count": 34,
   "metadata": {},
   "outputs": [
    {
     "data": {
      "text/plain": [
       "<bound method NDFrame.describe of             City  Date Local  NO2 AQI  O3 AQI  SO2 AQI  CO AQI\n",
       "0        Phoenix  01-01-2008       50      31      4.0     NaN\n",
       "1        Phoenix  01-01-2008       50      31      4.0    22.0\n",
       "2        Phoenix  01-01-2008       50      31      NaN     NaN\n",
       "3        Phoenix  01-01-2008       50      31      NaN    22.0\n",
       "4        Phoenix  02-01-2008       36      29      1.0     NaN\n",
       "...          ...         ...      ...     ...      ...     ...\n",
       "303887  Portland  05-06-2010       26      33      3.0     NaN\n",
       "303888  Portland  05-06-2010       26      33      3.0     7.0\n",
       "303889  Portland  05-06-2010       26      33      NaN     NaN\n",
       "303890  Portland  05-06-2010       26      33      NaN     7.0\n",
       "303891  Portland  06-06-2010       19      18      1.0     NaN\n",
       "\n",
       "[303892 rows x 6 columns]>"
      ]
     },
     "execution_count": 34,
     "metadata": {},
     "output_type": "execute_result"
    }
   ],
   "source": [
    "new_df.describe"
   ]
  },
  {
   "cell_type": "code",
   "execution_count": 35,
   "metadata": {},
   "outputs": [
    {
     "data": {
      "text/plain": [
       "Index(['City', 'Date Local', 'NO2 AQI', 'O3 AQI', 'SO2 AQI', 'CO AQI'], dtype='object')"
      ]
     },
     "execution_count": 35,
     "metadata": {},
     "output_type": "execute_result"
    }
   ],
   "source": [
    "new_df.columns"
   ]
  },
  {
   "cell_type": "code",
   "execution_count": 37,
   "metadata": {},
   "outputs": [],
   "source": [
    "#Data Cleaning : \n",
    "#-----------------------------------------------------------------------------------------------------------------#\n",
    "\n",
    "# For NO2\n",
    "\n",
    "# Get only the NO2 AQI values and Date Local\n",
    "no2_df = new_df.drop(['O3 AQI', 'SO2 AQI', 'CO AQI'],1)\n",
    "\n",
    "# Every day has multiple values, so we will take only the maximum values of NO2 AQI every day\n",
    "no2_df = no2_df.sort_values('NO2 AQI', ascending = 0).drop_duplicates(subset='Date Local', keep='first')\n",
    "\n",
    "# Convert Date Local to datatime format\n",
    "no2_df['Date Local'] = pd.to_datetime(no2_df['Date Local'])\n",
    "no2_df.index = no2_df['Date Local']\n",
    "del no2_df['Date Local']\n",
    "\n",
    "# Consider only New York City\n",
    "no2_df = no2_df[no2_df['City'] == 'New York']\n",
    "\n",
    "# Calculate mean N02 AQI per year\n",
    "no2_df = no2_df.resample(\"A\").mean()\n",
    "no2_df= no2_df.sort_index()\n",
    "no2_df = no2_df.dropna()\n",
    "\n",
    "#-----------------------------------------------------------------------------------------------------------------#\n",
    "\n",
    "# For SO2\n",
    "so2_df = new_df.drop(['O3 AQI', 'NO2 AQI', 'CO AQI'],1)\n",
    "so2_df = so2_df.sort_values('SO2 AQI',ascending = 0).drop_duplicates(subset='Date Local', keep='first')\n",
    "so2_df['Date Local'] = pd.to_datetime(so2_df['Date Local'])\n",
    "so2_df.index = so2_df['Date Local']\n",
    "del so2_df['Date Local']\n",
    "so2_df = so2_df[so2_df['City'] == 'New York']\n",
    "so2_df = so2_df.resample(\"A\").mean()\n",
    "so2_df= so2_df.sort_index()\n",
    "so2_df = so2_df.dropna()\n",
    "so2_df.head()\n",
    "\n",
    "#-----------------------------------------------------------------------------------------------------------------#\n",
    "\n",
    "# For CO\n",
    "co_df = new_df.drop(['SO2 AQI', 'NO2 AQI', 'O3 AQI'],1)\n",
    "co_df = co_df.sort_values('CO AQI',ascending = 0).drop_duplicates(subset='Date Local', keep='first')\n",
    "co_df['Date Local'] = pd.to_datetime(co_df['Date Local'])\n",
    "co_df.index = co_df['Date Local']\n",
    "del co_df['Date Local']\n",
    "co_df = co_df[co_df['City'] == 'New York']\n",
    "co_df = co_df.resample(\"A\").mean()\n",
    "co_df= co_df.sort_index()\n",
    "co_df = co_df.dropna()"
   ]
  },
  {
   "cell_type": "code",
   "execution_count": 40,
   "metadata": {},
   "outputs": [],
   "source": [
    "# Data Cleaning for Temperature Data where we are only considering the Temperature for New York City\n",
    "df = pd.read_csv(\"E:\\\\Python Projects\\\\Mounica\\\\GlobalLandTemperaturesByMajorCity.csv\")\n",
    "df = df[df['Country'] == 'United States']\n",
    "df = df[df['City'] == 'New York']\n",
    "df = df.drop({\"AverageTemperatureUncertainty\", \"Latitude\", \"Longitude\"}, 1)\n",
    "\n",
    "# Convert the Date Local column to date time format\n",
    "df['Date Local'] = pd.to_datetime(df['dt'])\n",
    "# set first column (dt) as the index column\n",
    "df.index = df['Date Local']\n",
    "del df['dt'],df['City'],df['Country']\n",
    "df.dropna()\n",
    "\n",
    "# As we have only one value per day we dont need to drop duplicates so this will calculate the Annual Mean Temperature\n",
    "df = df.resample(\"A\").mean()\n",
    "\n",
    "df = df.dropna()\n",
    "df = df.sort_index()"
   ]
  },
  {
   "cell_type": "code",
   "execution_count": 41,
   "metadata": {},
   "outputs": [
    {
     "data": {
      "text/html": [
       "<div>\n",
       "<style scoped>\n",
       "    .dataframe tbody tr th:only-of-type {\n",
       "        vertical-align: middle;\n",
       "    }\n",
       "\n",
       "    .dataframe tbody tr th {\n",
       "        vertical-align: top;\n",
       "    }\n",
       "\n",
       "    .dataframe thead th {\n",
       "        text-align: right;\n",
       "    }\n",
       "</style>\n",
       "<table border=\"1\" class=\"dataframe\">\n",
       "  <thead>\n",
       "    <tr style=\"text-align: right;\">\n",
       "      <th></th>\n",
       "      <th>CO AQI</th>\n",
       "      <th>SO2 AQI</th>\n",
       "      <th>AverageTemperature</th>\n",
       "      <th>NO2 AQI</th>\n",
       "    </tr>\n",
       "    <tr>\n",
       "      <th>Date Local</th>\n",
       "      <th></th>\n",
       "      <th></th>\n",
       "      <th></th>\n",
       "      <th></th>\n",
       "    </tr>\n",
       "  </thead>\n",
       "  <tbody>\n",
       "    <tr>\n",
       "      <th>2008-12-31</th>\n",
       "      <td>13.750000</td>\n",
       "      <td>45.733333</td>\n",
       "      <td>10.641667</td>\n",
       "      <td>53.523810</td>\n",
       "    </tr>\n",
       "    <tr>\n",
       "      <th>2009-12-31</th>\n",
       "      <td>13.700000</td>\n",
       "      <td>43.594595</td>\n",
       "      <td>10.141833</td>\n",
       "      <td>55.175439</td>\n",
       "    </tr>\n",
       "    <tr>\n",
       "      <th>2010-12-31</th>\n",
       "      <td>10.266667</td>\n",
       "      <td>32.500000</td>\n",
       "      <td>11.357583</td>\n",
       "      <td>56.639344</td>\n",
       "    </tr>\n",
       "  </tbody>\n",
       "</table>\n",
       "</div>"
      ],
      "text/plain": [
       "               CO AQI    SO2 AQI  AverageTemperature    NO2 AQI\n",
       "Date Local                                                     \n",
       "2008-12-31  13.750000  45.733333           10.641667  53.523810\n",
       "2009-12-31  13.700000  43.594595           10.141833  55.175439\n",
       "2010-12-31  10.266667  32.500000           11.357583  56.639344"
      ]
     },
     "execution_count": 41,
     "metadata": {},
     "output_type": "execute_result"
    }
   ],
   "source": [
    "# Joining different Pollution Data with the Temperature Data\n",
    "\n",
    "j1 = pd.merge(df, no2_df, left_index = True, right_index = True, how='inner')\n",
    "j2 = pd.merge(so2_df, j1, left_index = True, right_index = True, how='inner')\n",
    "j3 = pd.merge(co_df, j2, left_index = True, right_index = True, how='inner')\n",
    "j3.head()"
   ]
  },
  {
   "cell_type": "code",
   "execution_count": 42,
   "metadata": {},
   "outputs": [
    {
     "data": {
      "text/html": [
       "<div>\n",
       "<style scoped>\n",
       "    .dataframe tbody tr th:only-of-type {\n",
       "        vertical-align: middle;\n",
       "    }\n",
       "\n",
       "    .dataframe tbody tr th {\n",
       "        vertical-align: top;\n",
       "    }\n",
       "\n",
       "    .dataframe thead th {\n",
       "        text-align: right;\n",
       "    }\n",
       "</style>\n",
       "<table border=\"1\" class=\"dataframe\">\n",
       "  <thead>\n",
       "    <tr style=\"text-align: right;\">\n",
       "      <th></th>\n",
       "      <th>CO AQI</th>\n",
       "      <th>SO2 AQI</th>\n",
       "      <th>AverageTemperature</th>\n",
       "      <th>NO2 AQI</th>\n",
       "    </tr>\n",
       "    <tr>\n",
       "      <th>Date Local</th>\n",
       "      <th></th>\n",
       "      <th></th>\n",
       "      <th></th>\n",
       "      <th></th>\n",
       "    </tr>\n",
       "  </thead>\n",
       "  <tbody>\n",
       "    <tr>\n",
       "      <th>2008-12-31</th>\n",
       "      <td>0.338118</td>\n",
       "      <td>0.387206</td>\n",
       "      <td>-0.059246</td>\n",
       "      <td>-0.510042</td>\n",
       "    </tr>\n",
       "    <tr>\n",
       "      <th>2009-12-31</th>\n",
       "      <td>0.323764</td>\n",
       "      <td>0.225588</td>\n",
       "      <td>-0.470377</td>\n",
       "      <td>0.020085</td>\n",
       "    </tr>\n",
       "    <tr>\n",
       "      <th>2010-12-31</th>\n",
       "      <td>-0.661882</td>\n",
       "      <td>-0.612794</td>\n",
       "      <td>0.529623</td>\n",
       "      <td>0.489958</td>\n",
       "    </tr>\n",
       "  </tbody>\n",
       "</table>\n",
       "</div>"
      ],
      "text/plain": [
       "              CO AQI   SO2 AQI  AverageTemperature   NO2 AQI\n",
       "Date Local                                                  \n",
       "2008-12-31  0.338118  0.387206           -0.059246 -0.510042\n",
       "2009-12-31  0.323764  0.225588           -0.470377  0.020085\n",
       "2010-12-31 -0.661882 -0.612794            0.529623  0.489958"
      ]
     },
     "execution_count": 42,
     "metadata": {},
     "output_type": "execute_result"
    }
   ],
   "source": [
    "# Normalize the data so that all the column data can be compared\n",
    "j3_norm = (j3 - j3.mean()) / (j3.max() - j3.min())\n",
    "j3_norm.head()"
   ]
  },
  {
   "cell_type": "code",
   "execution_count": 43,
   "metadata": {},
   "outputs": [
    {
     "data": {
      "application/vnd.plotly.v1+json": {
       "config": {
        "linkText": "Export to plot.ly",
        "plotlyServerURL": "https://plot.ly",
        "showLink": false
       },
       "data": [
        {
         "mode": "lines",
         "name": "Temperature",
         "type": "scatter",
         "x": [
          "2008-12-31T00:00:00",
          "2009-12-31T00:00:00",
          "2010-12-31T00:00:00"
         ],
         "y": [
          -0.05924555030045534,
          -0.47037722484977235,
          0.5296227751502277
         ]
        },
        {
         "mode": "lines",
         "name": "Carbon Monoxide",
         "type": "scatter",
         "x": [
          "2008-12-31T00:00:00",
          "2009-12-31T00:00:00",
          "2010-12-31T00:00:00"
         ],
         "y": [
          0.33811802232854854,
          0.3237639553429024,
          -0.6618819776714514
         ]
        },
        {
         "mode": "lines",
         "name": "Sulphur Dioxide",
         "type": "scatter",
         "x": [
          "2008-12-31T00:00:00",
          "2009-12-31T00:00:00",
          "2010-12-31T00:00:00"
         ],
         "y": [
          0.3872058456441328,
          0.22558830871173446,
          -0.6127941543558673
         ]
        },
        {
         "mode": "lines",
         "name": "Nitrogen Dioxide",
         "type": "scatter",
         "x": [
          "2008-12-31T00:00:00",
          "2009-12-31T00:00:00",
          "2010-12-31T00:00:00"
         ],
         "y": [
          -0.510042332089305,
          0.020084664178612436,
          0.48995766791069495
         ]
        }
       ],
       "layout": {
        "template": {
         "data": {
          "bar": [
           {
            "error_x": {
             "color": "#2a3f5f"
            },
            "error_y": {
             "color": "#2a3f5f"
            },
            "marker": {
             "line": {
              "color": "#E5ECF6",
              "width": 0.5
             },
             "pattern": {
              "fillmode": "overlay",
              "size": 10,
              "solidity": 0.2
             }
            },
            "type": "bar"
           }
          ],
          "barpolar": [
           {
            "marker": {
             "line": {
              "color": "#E5ECF6",
              "width": 0.5
             },
             "pattern": {
              "fillmode": "overlay",
              "size": 10,
              "solidity": 0.2
             }
            },
            "type": "barpolar"
           }
          ],
          "carpet": [
           {
            "aaxis": {
             "endlinecolor": "#2a3f5f",
             "gridcolor": "white",
             "linecolor": "white",
             "minorgridcolor": "white",
             "startlinecolor": "#2a3f5f"
            },
            "baxis": {
             "endlinecolor": "#2a3f5f",
             "gridcolor": "white",
             "linecolor": "white",
             "minorgridcolor": "white",
             "startlinecolor": "#2a3f5f"
            },
            "type": "carpet"
           }
          ],
          "choropleth": [
           {
            "colorbar": {
             "outlinewidth": 0,
             "ticks": ""
            },
            "type": "choropleth"
           }
          ],
          "contour": [
           {
            "colorbar": {
             "outlinewidth": 0,
             "ticks": ""
            },
            "colorscale": [
             [
              0,
              "#0d0887"
             ],
             [
              0.1111111111111111,
              "#46039f"
             ],
             [
              0.2222222222222222,
              "#7201a8"
             ],
             [
              0.3333333333333333,
              "#9c179e"
             ],
             [
              0.4444444444444444,
              "#bd3786"
             ],
             [
              0.5555555555555556,
              "#d8576b"
             ],
             [
              0.6666666666666666,
              "#ed7953"
             ],
             [
              0.7777777777777778,
              "#fb9f3a"
             ],
             [
              0.8888888888888888,
              "#fdca26"
             ],
             [
              1,
              "#f0f921"
             ]
            ],
            "type": "contour"
           }
          ],
          "contourcarpet": [
           {
            "colorbar": {
             "outlinewidth": 0,
             "ticks": ""
            },
            "type": "contourcarpet"
           }
          ],
          "heatmap": [
           {
            "colorbar": {
             "outlinewidth": 0,
             "ticks": ""
            },
            "colorscale": [
             [
              0,
              "#0d0887"
             ],
             [
              0.1111111111111111,
              "#46039f"
             ],
             [
              0.2222222222222222,
              "#7201a8"
             ],
             [
              0.3333333333333333,
              "#9c179e"
             ],
             [
              0.4444444444444444,
              "#bd3786"
             ],
             [
              0.5555555555555556,
              "#d8576b"
             ],
             [
              0.6666666666666666,
              "#ed7953"
             ],
             [
              0.7777777777777778,
              "#fb9f3a"
             ],
             [
              0.8888888888888888,
              "#fdca26"
             ],
             [
              1,
              "#f0f921"
             ]
            ],
            "type": "heatmap"
           }
          ],
          "heatmapgl": [
           {
            "colorbar": {
             "outlinewidth": 0,
             "ticks": ""
            },
            "colorscale": [
             [
              0,
              "#0d0887"
             ],
             [
              0.1111111111111111,
              "#46039f"
             ],
             [
              0.2222222222222222,
              "#7201a8"
             ],
             [
              0.3333333333333333,
              "#9c179e"
             ],
             [
              0.4444444444444444,
              "#bd3786"
             ],
             [
              0.5555555555555556,
              "#d8576b"
             ],
             [
              0.6666666666666666,
              "#ed7953"
             ],
             [
              0.7777777777777778,
              "#fb9f3a"
             ],
             [
              0.8888888888888888,
              "#fdca26"
             ],
             [
              1,
              "#f0f921"
             ]
            ],
            "type": "heatmapgl"
           }
          ],
          "histogram": [
           {
            "marker": {
             "pattern": {
              "fillmode": "overlay",
              "size": 10,
              "solidity": 0.2
             }
            },
            "type": "histogram"
           }
          ],
          "histogram2d": [
           {
            "colorbar": {
             "outlinewidth": 0,
             "ticks": ""
            },
            "colorscale": [
             [
              0,
              "#0d0887"
             ],
             [
              0.1111111111111111,
              "#46039f"
             ],
             [
              0.2222222222222222,
              "#7201a8"
             ],
             [
              0.3333333333333333,
              "#9c179e"
             ],
             [
              0.4444444444444444,
              "#bd3786"
             ],
             [
              0.5555555555555556,
              "#d8576b"
             ],
             [
              0.6666666666666666,
              "#ed7953"
             ],
             [
              0.7777777777777778,
              "#fb9f3a"
             ],
             [
              0.8888888888888888,
              "#fdca26"
             ],
             [
              1,
              "#f0f921"
             ]
            ],
            "type": "histogram2d"
           }
          ],
          "histogram2dcontour": [
           {
            "colorbar": {
             "outlinewidth": 0,
             "ticks": ""
            },
            "colorscale": [
             [
              0,
              "#0d0887"
             ],
             [
              0.1111111111111111,
              "#46039f"
             ],
             [
              0.2222222222222222,
              "#7201a8"
             ],
             [
              0.3333333333333333,
              "#9c179e"
             ],
             [
              0.4444444444444444,
              "#bd3786"
             ],
             [
              0.5555555555555556,
              "#d8576b"
             ],
             [
              0.6666666666666666,
              "#ed7953"
             ],
             [
              0.7777777777777778,
              "#fb9f3a"
             ],
             [
              0.8888888888888888,
              "#fdca26"
             ],
             [
              1,
              "#f0f921"
             ]
            ],
            "type": "histogram2dcontour"
           }
          ],
          "mesh3d": [
           {
            "colorbar": {
             "outlinewidth": 0,
             "ticks": ""
            },
            "type": "mesh3d"
           }
          ],
          "parcoords": [
           {
            "line": {
             "colorbar": {
              "outlinewidth": 0,
              "ticks": ""
             }
            },
            "type": "parcoords"
           }
          ],
          "pie": [
           {
            "automargin": true,
            "type": "pie"
           }
          ],
          "scatter": [
           {
            "marker": {
             "colorbar": {
              "outlinewidth": 0,
              "ticks": ""
             }
            },
            "type": "scatter"
           }
          ],
          "scatter3d": [
           {
            "line": {
             "colorbar": {
              "outlinewidth": 0,
              "ticks": ""
             }
            },
            "marker": {
             "colorbar": {
              "outlinewidth": 0,
              "ticks": ""
             }
            },
            "type": "scatter3d"
           }
          ],
          "scattercarpet": [
           {
            "marker": {
             "colorbar": {
              "outlinewidth": 0,
              "ticks": ""
             }
            },
            "type": "scattercarpet"
           }
          ],
          "scattergeo": [
           {
            "marker": {
             "colorbar": {
              "outlinewidth": 0,
              "ticks": ""
             }
            },
            "type": "scattergeo"
           }
          ],
          "scattergl": [
           {
            "marker": {
             "colorbar": {
              "outlinewidth": 0,
              "ticks": ""
             }
            },
            "type": "scattergl"
           }
          ],
          "scattermapbox": [
           {
            "marker": {
             "colorbar": {
              "outlinewidth": 0,
              "ticks": ""
             }
            },
            "type": "scattermapbox"
           }
          ],
          "scatterpolar": [
           {
            "marker": {
             "colorbar": {
              "outlinewidth": 0,
              "ticks": ""
             }
            },
            "type": "scatterpolar"
           }
          ],
          "scatterpolargl": [
           {
            "marker": {
             "colorbar": {
              "outlinewidth": 0,
              "ticks": ""
             }
            },
            "type": "scatterpolargl"
           }
          ],
          "scatterternary": [
           {
            "marker": {
             "colorbar": {
              "outlinewidth": 0,
              "ticks": ""
             }
            },
            "type": "scatterternary"
           }
          ],
          "surface": [
           {
            "colorbar": {
             "outlinewidth": 0,
             "ticks": ""
            },
            "colorscale": [
             [
              0,
              "#0d0887"
             ],
             [
              0.1111111111111111,
              "#46039f"
             ],
             [
              0.2222222222222222,
              "#7201a8"
             ],
             [
              0.3333333333333333,
              "#9c179e"
             ],
             [
              0.4444444444444444,
              "#bd3786"
             ],
             [
              0.5555555555555556,
              "#d8576b"
             ],
             [
              0.6666666666666666,
              "#ed7953"
             ],
             [
              0.7777777777777778,
              "#fb9f3a"
             ],
             [
              0.8888888888888888,
              "#fdca26"
             ],
             [
              1,
              "#f0f921"
             ]
            ],
            "type": "surface"
           }
          ],
          "table": [
           {
            "cells": {
             "fill": {
              "color": "#EBF0F8"
             },
             "line": {
              "color": "white"
             }
            },
            "header": {
             "fill": {
              "color": "#C8D4E3"
             },
             "line": {
              "color": "white"
             }
            },
            "type": "table"
           }
          ]
         },
         "layout": {
          "annotationdefaults": {
           "arrowcolor": "#2a3f5f",
           "arrowhead": 0,
           "arrowwidth": 1
          },
          "autotypenumbers": "strict",
          "coloraxis": {
           "colorbar": {
            "outlinewidth": 0,
            "ticks": ""
           }
          },
          "colorscale": {
           "diverging": [
            [
             0,
             "#8e0152"
            ],
            [
             0.1,
             "#c51b7d"
            ],
            [
             0.2,
             "#de77ae"
            ],
            [
             0.3,
             "#f1b6da"
            ],
            [
             0.4,
             "#fde0ef"
            ],
            [
             0.5,
             "#f7f7f7"
            ],
            [
             0.6,
             "#e6f5d0"
            ],
            [
             0.7,
             "#b8e186"
            ],
            [
             0.8,
             "#7fbc41"
            ],
            [
             0.9,
             "#4d9221"
            ],
            [
             1,
             "#276419"
            ]
           ],
           "sequential": [
            [
             0,
             "#0d0887"
            ],
            [
             0.1111111111111111,
             "#46039f"
            ],
            [
             0.2222222222222222,
             "#7201a8"
            ],
            [
             0.3333333333333333,
             "#9c179e"
            ],
            [
             0.4444444444444444,
             "#bd3786"
            ],
            [
             0.5555555555555556,
             "#d8576b"
            ],
            [
             0.6666666666666666,
             "#ed7953"
            ],
            [
             0.7777777777777778,
             "#fb9f3a"
            ],
            [
             0.8888888888888888,
             "#fdca26"
            ],
            [
             1,
             "#f0f921"
            ]
           ],
           "sequentialminus": [
            [
             0,
             "#0d0887"
            ],
            [
             0.1111111111111111,
             "#46039f"
            ],
            [
             0.2222222222222222,
             "#7201a8"
            ],
            [
             0.3333333333333333,
             "#9c179e"
            ],
            [
             0.4444444444444444,
             "#bd3786"
            ],
            [
             0.5555555555555556,
             "#d8576b"
            ],
            [
             0.6666666666666666,
             "#ed7953"
            ],
            [
             0.7777777777777778,
             "#fb9f3a"
            ],
            [
             0.8888888888888888,
             "#fdca26"
            ],
            [
             1,
             "#f0f921"
            ]
           ]
          },
          "colorway": [
           "#636efa",
           "#EF553B",
           "#00cc96",
           "#ab63fa",
           "#FFA15A",
           "#19d3f3",
           "#FF6692",
           "#B6E880",
           "#FF97FF",
           "#FECB52"
          ],
          "font": {
           "color": "#2a3f5f"
          },
          "geo": {
           "bgcolor": "white",
           "lakecolor": "white",
           "landcolor": "#E5ECF6",
           "showlakes": true,
           "showland": true,
           "subunitcolor": "white"
          },
          "hoverlabel": {
           "align": "left"
          },
          "hovermode": "closest",
          "mapbox": {
           "style": "light"
          },
          "paper_bgcolor": "white",
          "plot_bgcolor": "#E5ECF6",
          "polar": {
           "angularaxis": {
            "gridcolor": "white",
            "linecolor": "white",
            "ticks": ""
           },
           "bgcolor": "#E5ECF6",
           "radialaxis": {
            "gridcolor": "white",
            "linecolor": "white",
            "ticks": ""
           }
          },
          "scene": {
           "xaxis": {
            "backgroundcolor": "#E5ECF6",
            "gridcolor": "white",
            "gridwidth": 2,
            "linecolor": "white",
            "showbackground": true,
            "ticks": "",
            "zerolinecolor": "white"
           },
           "yaxis": {
            "backgroundcolor": "#E5ECF6",
            "gridcolor": "white",
            "gridwidth": 2,
            "linecolor": "white",
            "showbackground": true,
            "ticks": "",
            "zerolinecolor": "white"
           },
           "zaxis": {
            "backgroundcolor": "#E5ECF6",
            "gridcolor": "white",
            "gridwidth": 2,
            "linecolor": "white",
            "showbackground": true,
            "ticks": "",
            "zerolinecolor": "white"
           }
          },
          "shapedefaults": {
           "line": {
            "color": "#2a3f5f"
           }
          },
          "ternary": {
           "aaxis": {
            "gridcolor": "white",
            "linecolor": "white",
            "ticks": ""
           },
           "baxis": {
            "gridcolor": "white",
            "linecolor": "white",
            "ticks": ""
           },
           "bgcolor": "#E5ECF6",
           "caxis": {
            "gridcolor": "white",
            "linecolor": "white",
            "ticks": ""
           }
          },
          "title": {
           "x": 0.05
          },
          "xaxis": {
           "automargin": true,
           "gridcolor": "white",
           "linecolor": "white",
           "ticks": "",
           "title": {
            "standoff": 15
           },
           "zerolinecolor": "white",
           "zerolinewidth": 2
          },
          "yaxis": {
           "automargin": true,
           "gridcolor": "white",
           "linecolor": "white",
           "ticks": "",
           "title": {
            "standoff": 15
           },
           "zerolinecolor": "white",
           "zerolinewidth": 2
          }
         }
        },
        "title": {
         "text": "Temperature and Pollution Plots"
        },
        "xaxis": {
         "title": {
          "text": "Year"
         }
        },
        "yaxis": {
         "title": {
          "text": "Normalized Values"
         }
        }
       }
      },
      "text/html": [
       "<div>                            <div id=\"fba6e823-f64d-4b5c-ade7-820da6f93de2\" class=\"plotly-graph-div\" style=\"height:525px; width:100%;\"></div>            <script type=\"text/javascript\">                require([\"plotly\"], function(Plotly) {                    window.PLOTLYENV=window.PLOTLYENV || {};                                    if (document.getElementById(\"fba6e823-f64d-4b5c-ade7-820da6f93de2\")) {                    Plotly.newPlot(                        \"fba6e823-f64d-4b5c-ade7-820da6f93de2\",                        [{\"mode\":\"lines\",\"name\":\"Temperature\",\"x\":[\"2008-12-31T00:00:00\",\"2009-12-31T00:00:00\",\"2010-12-31T00:00:00\"],\"y\":[-0.05924555030045534,-0.47037722484977235,0.5296227751502277],\"type\":\"scatter\"},{\"mode\":\"lines\",\"name\":\"Carbon Monoxide\",\"x\":[\"2008-12-31T00:00:00\",\"2009-12-31T00:00:00\",\"2010-12-31T00:00:00\"],\"y\":[0.33811802232854854,0.3237639553429024,-0.6618819776714514],\"type\":\"scatter\"},{\"mode\":\"lines\",\"name\":\"Sulphur Dioxide\",\"x\":[\"2008-12-31T00:00:00\",\"2009-12-31T00:00:00\",\"2010-12-31T00:00:00\"],\"y\":[0.3872058456441328,0.22558830871173446,-0.6127941543558673],\"type\":\"scatter\"},{\"mode\":\"lines\",\"name\":\"Nitrogen Dioxide\",\"x\":[\"2008-12-31T00:00:00\",\"2009-12-31T00:00:00\",\"2010-12-31T00:00:00\"],\"y\":[-0.510042332089305,0.020084664178612436,0.48995766791069495],\"type\":\"scatter\"}],                        {\"template\":{\"data\":{\"barpolar\":[{\"marker\":{\"line\":{\"color\":\"#E5ECF6\",\"width\":0.5},\"pattern\":{\"fillmode\":\"overlay\",\"size\":10,\"solidity\":0.2}},\"type\":\"barpolar\"}],\"bar\":[{\"error_x\":{\"color\":\"#2a3f5f\"},\"error_y\":{\"color\":\"#2a3f5f\"},\"marker\":{\"line\":{\"color\":\"#E5ECF6\",\"width\":0.5},\"pattern\":{\"fillmode\":\"overlay\",\"size\":10,\"solidity\":0.2}},\"type\":\"bar\"}],\"carpet\":[{\"aaxis\":{\"endlinecolor\":\"#2a3f5f\",\"gridcolor\":\"white\",\"linecolor\":\"white\",\"minorgridcolor\":\"white\",\"startlinecolor\":\"#2a3f5f\"},\"baxis\":{\"endlinecolor\":\"#2a3f5f\",\"gridcolor\":\"white\",\"linecolor\":\"white\",\"minorgridcolor\":\"white\",\"startlinecolor\":\"#2a3f5f\"},\"type\":\"carpet\"}],\"choropleth\":[{\"colorbar\":{\"outlinewidth\":0,\"ticks\":\"\"},\"type\":\"choropleth\"}],\"contourcarpet\":[{\"colorbar\":{\"outlinewidth\":0,\"ticks\":\"\"},\"type\":\"contourcarpet\"}],\"contour\":[{\"colorbar\":{\"outlinewidth\":0,\"ticks\":\"\"},\"colorscale\":[[0.0,\"#0d0887\"],[0.1111111111111111,\"#46039f\"],[0.2222222222222222,\"#7201a8\"],[0.3333333333333333,\"#9c179e\"],[0.4444444444444444,\"#bd3786\"],[0.5555555555555556,\"#d8576b\"],[0.6666666666666666,\"#ed7953\"],[0.7777777777777778,\"#fb9f3a\"],[0.8888888888888888,\"#fdca26\"],[1.0,\"#f0f921\"]],\"type\":\"contour\"}],\"heatmapgl\":[{\"colorbar\":{\"outlinewidth\":0,\"ticks\":\"\"},\"colorscale\":[[0.0,\"#0d0887\"],[0.1111111111111111,\"#46039f\"],[0.2222222222222222,\"#7201a8\"],[0.3333333333333333,\"#9c179e\"],[0.4444444444444444,\"#bd3786\"],[0.5555555555555556,\"#d8576b\"],[0.6666666666666666,\"#ed7953\"],[0.7777777777777778,\"#fb9f3a\"],[0.8888888888888888,\"#fdca26\"],[1.0,\"#f0f921\"]],\"type\":\"heatmapgl\"}],\"heatmap\":[{\"colorbar\":{\"outlinewidth\":0,\"ticks\":\"\"},\"colorscale\":[[0.0,\"#0d0887\"],[0.1111111111111111,\"#46039f\"],[0.2222222222222222,\"#7201a8\"],[0.3333333333333333,\"#9c179e\"],[0.4444444444444444,\"#bd3786\"],[0.5555555555555556,\"#d8576b\"],[0.6666666666666666,\"#ed7953\"],[0.7777777777777778,\"#fb9f3a\"],[0.8888888888888888,\"#fdca26\"],[1.0,\"#f0f921\"]],\"type\":\"heatmap\"}],\"histogram2dcontour\":[{\"colorbar\":{\"outlinewidth\":0,\"ticks\":\"\"},\"colorscale\":[[0.0,\"#0d0887\"],[0.1111111111111111,\"#46039f\"],[0.2222222222222222,\"#7201a8\"],[0.3333333333333333,\"#9c179e\"],[0.4444444444444444,\"#bd3786\"],[0.5555555555555556,\"#d8576b\"],[0.6666666666666666,\"#ed7953\"],[0.7777777777777778,\"#fb9f3a\"],[0.8888888888888888,\"#fdca26\"],[1.0,\"#f0f921\"]],\"type\":\"histogram2dcontour\"}],\"histogram2d\":[{\"colorbar\":{\"outlinewidth\":0,\"ticks\":\"\"},\"colorscale\":[[0.0,\"#0d0887\"],[0.1111111111111111,\"#46039f\"],[0.2222222222222222,\"#7201a8\"],[0.3333333333333333,\"#9c179e\"],[0.4444444444444444,\"#bd3786\"],[0.5555555555555556,\"#d8576b\"],[0.6666666666666666,\"#ed7953\"],[0.7777777777777778,\"#fb9f3a\"],[0.8888888888888888,\"#fdca26\"],[1.0,\"#f0f921\"]],\"type\":\"histogram2d\"}],\"histogram\":[{\"marker\":{\"pattern\":{\"fillmode\":\"overlay\",\"size\":10,\"solidity\":0.2}},\"type\":\"histogram\"}],\"mesh3d\":[{\"colorbar\":{\"outlinewidth\":0,\"ticks\":\"\"},\"type\":\"mesh3d\"}],\"parcoords\":[{\"line\":{\"colorbar\":{\"outlinewidth\":0,\"ticks\":\"\"}},\"type\":\"parcoords\"}],\"pie\":[{\"automargin\":true,\"type\":\"pie\"}],\"scatter3d\":[{\"line\":{\"colorbar\":{\"outlinewidth\":0,\"ticks\":\"\"}},\"marker\":{\"colorbar\":{\"outlinewidth\":0,\"ticks\":\"\"}},\"type\":\"scatter3d\"}],\"scattercarpet\":[{\"marker\":{\"colorbar\":{\"outlinewidth\":0,\"ticks\":\"\"}},\"type\":\"scattercarpet\"}],\"scattergeo\":[{\"marker\":{\"colorbar\":{\"outlinewidth\":0,\"ticks\":\"\"}},\"type\":\"scattergeo\"}],\"scattergl\":[{\"marker\":{\"colorbar\":{\"outlinewidth\":0,\"ticks\":\"\"}},\"type\":\"scattergl\"}],\"scattermapbox\":[{\"marker\":{\"colorbar\":{\"outlinewidth\":0,\"ticks\":\"\"}},\"type\":\"scattermapbox\"}],\"scatterpolargl\":[{\"marker\":{\"colorbar\":{\"outlinewidth\":0,\"ticks\":\"\"}},\"type\":\"scatterpolargl\"}],\"scatterpolar\":[{\"marker\":{\"colorbar\":{\"outlinewidth\":0,\"ticks\":\"\"}},\"type\":\"scatterpolar\"}],\"scatter\":[{\"marker\":{\"colorbar\":{\"outlinewidth\":0,\"ticks\":\"\"}},\"type\":\"scatter\"}],\"scatterternary\":[{\"marker\":{\"colorbar\":{\"outlinewidth\":0,\"ticks\":\"\"}},\"type\":\"scatterternary\"}],\"surface\":[{\"colorbar\":{\"outlinewidth\":0,\"ticks\":\"\"},\"colorscale\":[[0.0,\"#0d0887\"],[0.1111111111111111,\"#46039f\"],[0.2222222222222222,\"#7201a8\"],[0.3333333333333333,\"#9c179e\"],[0.4444444444444444,\"#bd3786\"],[0.5555555555555556,\"#d8576b\"],[0.6666666666666666,\"#ed7953\"],[0.7777777777777778,\"#fb9f3a\"],[0.8888888888888888,\"#fdca26\"],[1.0,\"#f0f921\"]],\"type\":\"surface\"}],\"table\":[{\"cells\":{\"fill\":{\"color\":\"#EBF0F8\"},\"line\":{\"color\":\"white\"}},\"header\":{\"fill\":{\"color\":\"#C8D4E3\"},\"line\":{\"color\":\"white\"}},\"type\":\"table\"}]},\"layout\":{\"annotationdefaults\":{\"arrowcolor\":\"#2a3f5f\",\"arrowhead\":0,\"arrowwidth\":1},\"autotypenumbers\":\"strict\",\"coloraxis\":{\"colorbar\":{\"outlinewidth\":0,\"ticks\":\"\"}},\"colorscale\":{\"diverging\":[[0,\"#8e0152\"],[0.1,\"#c51b7d\"],[0.2,\"#de77ae\"],[0.3,\"#f1b6da\"],[0.4,\"#fde0ef\"],[0.5,\"#f7f7f7\"],[0.6,\"#e6f5d0\"],[0.7,\"#b8e186\"],[0.8,\"#7fbc41\"],[0.9,\"#4d9221\"],[1,\"#276419\"]],\"sequential\":[[0.0,\"#0d0887\"],[0.1111111111111111,\"#46039f\"],[0.2222222222222222,\"#7201a8\"],[0.3333333333333333,\"#9c179e\"],[0.4444444444444444,\"#bd3786\"],[0.5555555555555556,\"#d8576b\"],[0.6666666666666666,\"#ed7953\"],[0.7777777777777778,\"#fb9f3a\"],[0.8888888888888888,\"#fdca26\"],[1.0,\"#f0f921\"]],\"sequentialminus\":[[0.0,\"#0d0887\"],[0.1111111111111111,\"#46039f\"],[0.2222222222222222,\"#7201a8\"],[0.3333333333333333,\"#9c179e\"],[0.4444444444444444,\"#bd3786\"],[0.5555555555555556,\"#d8576b\"],[0.6666666666666666,\"#ed7953\"],[0.7777777777777778,\"#fb9f3a\"],[0.8888888888888888,\"#fdca26\"],[1.0,\"#f0f921\"]]},\"colorway\":[\"#636efa\",\"#EF553B\",\"#00cc96\",\"#ab63fa\",\"#FFA15A\",\"#19d3f3\",\"#FF6692\",\"#B6E880\",\"#FF97FF\",\"#FECB52\"],\"font\":{\"color\":\"#2a3f5f\"},\"geo\":{\"bgcolor\":\"white\",\"lakecolor\":\"white\",\"landcolor\":\"#E5ECF6\",\"showlakes\":true,\"showland\":true,\"subunitcolor\":\"white\"},\"hoverlabel\":{\"align\":\"left\"},\"hovermode\":\"closest\",\"mapbox\":{\"style\":\"light\"},\"paper_bgcolor\":\"white\",\"plot_bgcolor\":\"#E5ECF6\",\"polar\":{\"angularaxis\":{\"gridcolor\":\"white\",\"linecolor\":\"white\",\"ticks\":\"\"},\"bgcolor\":\"#E5ECF6\",\"radialaxis\":{\"gridcolor\":\"white\",\"linecolor\":\"white\",\"ticks\":\"\"}},\"scene\":{\"xaxis\":{\"backgroundcolor\":\"#E5ECF6\",\"gridcolor\":\"white\",\"gridwidth\":2,\"linecolor\":\"white\",\"showbackground\":true,\"ticks\":\"\",\"zerolinecolor\":\"white\"},\"yaxis\":{\"backgroundcolor\":\"#E5ECF6\",\"gridcolor\":\"white\",\"gridwidth\":2,\"linecolor\":\"white\",\"showbackground\":true,\"ticks\":\"\",\"zerolinecolor\":\"white\"},\"zaxis\":{\"backgroundcolor\":\"#E5ECF6\",\"gridcolor\":\"white\",\"gridwidth\":2,\"linecolor\":\"white\",\"showbackground\":true,\"ticks\":\"\",\"zerolinecolor\":\"white\"}},\"shapedefaults\":{\"line\":{\"color\":\"#2a3f5f\"}},\"ternary\":{\"aaxis\":{\"gridcolor\":\"white\",\"linecolor\":\"white\",\"ticks\":\"\"},\"baxis\":{\"gridcolor\":\"white\",\"linecolor\":\"white\",\"ticks\":\"\"},\"bgcolor\":\"#E5ECF6\",\"caxis\":{\"gridcolor\":\"white\",\"linecolor\":\"white\",\"ticks\":\"\"}},\"title\":{\"x\":0.05},\"xaxis\":{\"automargin\":true,\"gridcolor\":\"white\",\"linecolor\":\"white\",\"ticks\":\"\",\"title\":{\"standoff\":15},\"zerolinecolor\":\"white\",\"zerolinewidth\":2},\"yaxis\":{\"automargin\":true,\"gridcolor\":\"white\",\"linecolor\":\"white\",\"ticks\":\"\",\"title\":{\"standoff\":15},\"zerolinecolor\":\"white\",\"zerolinewidth\":2}}},\"title\":{\"text\":\"Temperature and Pollution Plots\"},\"xaxis\":{\"title\":{\"text\":\"Year\"}},\"yaxis\":{\"title\":{\"text\":\"Normalized Values\"}}},                        {\"responsive\": true}                    ).then(function(){\n",
       "                            \n",
       "var gd = document.getElementById('fba6e823-f64d-4b5c-ade7-820da6f93de2');\n",
       "var x = new MutationObserver(function (mutations, observer) {{\n",
       "        var display = window.getComputedStyle(gd).display;\n",
       "        if (!display || display === 'none') {{\n",
       "            console.log([gd, 'removed!']);\n",
       "            Plotly.purge(gd);\n",
       "            observer.disconnect();\n",
       "        }}\n",
       "}});\n",
       "\n",
       "// Listen for the removal of the full notebook cells\n",
       "var notebookContainer = gd.closest('#notebook-container');\n",
       "if (notebookContainer) {{\n",
       "    x.observe(notebookContainer, {childList: true});\n",
       "}}\n",
       "\n",
       "// Listen for the clearing of the current output cell\n",
       "var outputEl = gd.closest('.output');\n",
       "if (outputEl) {{\n",
       "    x.observe(outputEl, {childList: true});\n",
       "}}\n",
       "\n",
       "                        })                };                });            </script>        </div>"
      ]
     },
     "metadata": {},
     "output_type": "display_data"
    }
   ],
   "source": [
    "# Plotting the data\n",
    "trace0 = go.Scatter(\n",
    "    x = j3_norm.index,\n",
    "    y = j3_norm['AverageTemperature'],\n",
    "    mode = 'lines',\n",
    "    name = 'Temperature'\n",
    ")\n",
    "\n",
    "trace1 = go.Scatter(\n",
    "    x = j3_norm.index,\n",
    "    y = j3_norm['CO AQI'],\n",
    "    mode = 'lines',\n",
    "    name = 'Carbon Monoxide'\n",
    ")\n",
    "\n",
    "trace3 = go.Scatter(\n",
    "    x = j3_norm.index,\n",
    "    y = j3_norm['SO2 AQI'],\n",
    "    mode = 'lines',\n",
    "    name = 'Sulphur Dioxide'\n",
    ")\n",
    "\n",
    "trace4 = go.Scatter(\n",
    "    x = j3_norm.index,\n",
    "    y = j3_norm['NO2 AQI'],\n",
    "    mode = 'lines',\n",
    "    name = 'Nitrogen Dioxide'\n",
    ")\n",
    "\n",
    "layout = go.Layout(\n",
    "    title='Temperature and Pollution Plots',\n",
    "    xaxis=dict(\n",
    "        title='Year',\n",
    "    ),\n",
    "    yaxis=dict(\n",
    "        title='Normalized Values',\n",
    "    )\n",
    ")\n",
    "\n",
    "data = [trace0,trace1,trace3,trace4]\n",
    "fig = go.Figure(data=data, layout=layout)\n",
    "iplot(fig)"
   ]
  },
  {
   "cell_type": "code",
   "execution_count": 44,
   "metadata": {},
   "outputs": [
    {
     "data": {
      "image/png": "[encoded data removed]",
      "text/plain": [
       "<Figure size 450x300 with 2 Axes>"
      ]
     },
     "metadata": {
      "needs_background": "light"
     },
     "output_type": "display_data"
    }
   ],
   "source": [
    "# Plotting the correlation matrix for Pollution vs. Temperature\n",
    "\n",
    "fig = plt.figure(dpi = 75)\n",
    "\n",
    "ax = fig.add_axes([0.1, 0.1, 0.75, 0.8]) \n",
    "sns.heatmap(j3_norm.corr(method='pearson'), annot = True, cmap=\"YlGnBu\")\n",
    "ax.set_title(\"Correlation of Pollution with Temperature in 2013\", fontsize=10)\n",
    "plt.show()"
   ]
  },
  {
   "cell_type": "markdown",
   "metadata": {},
   "source": [
    "### SECTION 2: Greenhouse Gases and Temperature Change ###"
   ]
  },
  {
   "cell_type": "code",
   "execution_count": 45,
   "metadata": {},
   "outputs": [],
   "source": [
    "df = pd.read_csv(\"E:\\\\Python Projects\\\\Mounica\\\\GlobalLandTemperaturesByMajorCity.csv\")\n",
    "\n",
    "# convert first column to DateTime format\n",
    "df['dt'] = pd.to_datetime(df['dt'])\n",
    "\n",
    "# set first column (dt) as the index column\n",
    "df.index = df['dt']\n",
    "del df['dt']\n",
    "\n",
    "df = df.drop({\"AverageTemperatureUncertainty\", \"Latitude\", \"Longitude\",\"Country\"}, 1)\n",
    "\n",
    "df = df.dropna()\n",
    "\n",
    "df = df[df['City']=='New York']\n",
    "df = df.drop({'City'},1)\n",
    "df = df.resample(\"A\").mean()"
   ]
  },
  {
   "cell_type": "code",
   "execution_count": 46,
   "metadata": {},
   "outputs": [],
   "source": [
    "gg_df = pd.read_csv(\"E:\\\\Python Projects\\\\Mounica\\\\greenhouse_gas_inventory_data_data.csv\")\n",
    "\n",
    "df_usa = gg_df[gg_df['country_or_area']=='United States of America'].drop('country_or_area', 1)\n",
    "\n",
    "# getting yearly emissions for the 4 major greenhouse gases i.e. CO2, Methane, Nitrous Oxide and HCFCs\n",
    "df_usa_co2 = df_usa[df_usa['category']=='carbon_dioxide_co2_emissions_without_land_use_land_use_change_and_forestry_lulucf_in_kilotonne_co2_equivalent'].drop('category', 1)\n",
    "df_usa_co2 = df_usa_co2.sort_values('year')\n",
    "df_usa_co2.columns=['year','co2']\n",
    "\n",
    "df_usa_methane = df_usa[df_usa['category']=='methane_ch4_emissions_without_land_use_land_use_change_and_forestry_lulucf_in_kilotonne_co2_equivalent'].drop('category', 1)\n",
    "df_usa_methane = df_usa_methane.sort_values('year')\n",
    "df_usa_methane.columns=['year','methane']\n",
    "\n",
    "df_usa_n2o = df_usa[df_usa['category']=='nitrous_oxide_n2o_emissions_without_land_use_land_use_change_and_forestry_lulucf_in_kilotonne_co2_equivalent'].drop('category', 1)\n",
    "df_usa_n2o = df_usa_n2o.sort_values('year')\n",
    "df_usa_n2o.columns=['year','n2o']\n",
    "\n",
    "df_usa_hcfc = df_usa[df_usa['category']=='hydrofluorocarbons_hfcs_emissions_in_kilotonne_co2_equivalent'].drop('category', 1)\n",
    "df_usa_hcfc = df_usa_hcfc.sort_values('year')\n",
    "df_usa_hcfc.columns=['year','hcfc']\n",
    "\n",
    "# Set Index\n",
    "df_usa_co2.index = df_usa_co2['year']\n",
    "df_usa_methane.index = df_usa_methane['year']\n",
    "df_usa_n2o.index = df_usa_n2o['year']\n",
    "df_usa_hcfc.index = df_usa_hcfc['year']\n",
    "\n",
    "del df_usa_co2['year'],df_usa_methane['year'],df_usa_n2o['year'],df_usa_hcfc['year']"
   ]
  },
  {
   "cell_type": "code",
   "execution_count": 47,
   "metadata": {},
   "outputs": [
    {
     "data": {
      "text/html": [
       "<div>\n",
       "<style scoped>\n",
       "    .dataframe tbody tr th:only-of-type {\n",
       "        vertical-align: middle;\n",
       "    }\n",
       "\n",
       "    .dataframe tbody tr th {\n",
       "        vertical-align: top;\n",
       "    }\n",
       "\n",
       "    .dataframe thead th {\n",
       "        text-align: right;\n",
       "    }\n",
       "</style>\n",
       "<table border=\"1\" class=\"dataframe\">\n",
       "  <thead>\n",
       "    <tr style=\"text-align: right;\">\n",
       "      <th></th>\n",
       "      <th>co2</th>\n",
       "      <th>n2o</th>\n",
       "      <th>methane</th>\n",
       "      <th>hcfc</th>\n",
       "      <th>temp</th>\n",
       "    </tr>\n",
       "    <tr>\n",
       "      <th>year</th>\n",
       "      <th></th>\n",
       "      <th></th>\n",
       "      <th></th>\n",
       "      <th></th>\n",
       "      <th></th>\n",
       "    </tr>\n",
       "  </thead>\n",
       "  <tbody>\n",
       "    <tr>\n",
       "      <th>1990</th>\n",
       "      <td>5.115095e+06</td>\n",
       "      <td>406228.526626</td>\n",
       "      <td>773854.896420</td>\n",
       "      <td>46288.814184</td>\n",
       "      <td>9.661333</td>\n",
       "    </tr>\n",
       "    <tr>\n",
       "      <th>1991</th>\n",
       "      <td>5.064880e+06</td>\n",
       "      <td>396113.656867</td>\n",
       "      <td>777034.220915</td>\n",
       "      <td>41618.413588</td>\n",
       "      <td>11.322500</td>\n",
       "    </tr>\n",
       "    <tr>\n",
       "      <th>1992</th>\n",
       "      <td>5.170274e+06</td>\n",
       "      <td>404052.107073</td>\n",
       "      <td>776869.789752</td>\n",
       "      <td>47427.662176</td>\n",
       "      <td>11.357250</td>\n",
       "    </tr>\n",
       "    <tr>\n",
       "      <th>1993</th>\n",
       "      <td>5.284759e+06</td>\n",
       "      <td>420503.190940</td>\n",
       "      <td>764089.671267</td>\n",
       "      <td>47500.262267</td>\n",
       "      <td>9.572667</td>\n",
       "    </tr>\n",
       "    <tr>\n",
       "      <th>1994</th>\n",
       "      <td>5.377492e+06</td>\n",
       "      <td>402478.930460</td>\n",
       "      <td>770450.426146</td>\n",
       "      <td>53246.654974</td>\n",
       "      <td>10.040917</td>\n",
       "    </tr>\n",
       "  </tbody>\n",
       "</table>\n",
       "</div>"
      ],
      "text/plain": [
       "               co2            n2o        methane          hcfc       temp\n",
       "year                                                                     \n",
       "1990  5.115095e+06  406228.526626  773854.896420  46288.814184   9.661333\n",
       "1991  5.064880e+06  396113.656867  777034.220915  41618.413588  11.322500\n",
       "1992  5.170274e+06  404052.107073  776869.789752  47427.662176  11.357250\n",
       "1993  5.284759e+06  420503.190940  764089.671267  47500.262267   9.572667\n",
       "1994  5.377492e+06  402478.930460  770450.426146  53246.654974  10.040917"
      ]
     },
     "execution_count": 47,
     "metadata": {},
     "output_type": "execute_result"
    }
   ],
   "source": [
    "co2 = df_usa_co2['co2']\n",
    "n2o = df_usa_n2o['n2o']\n",
    "methane = df_usa_methane['methane']\n",
    "hcfc = df_usa_hcfc['hcfc']\n",
    "temp = list(df['AverageTemperature'])[-25:]\n",
    "\n",
    "part3 = pd.DataFrame({'co2':co2,'n2o':n2o,'methane':methane,'hcfc':hcfc,'temp': temp},columns = ['co2','n2o','methane','hcfc','temp'])\n",
    "part3.head()"
   ]
  },
  {
   "cell_type": "code",
   "execution_count": 48,
   "metadata": {},
   "outputs": [],
   "source": [
    "# normalizing the values\n",
    "\n",
    "part3_norm = (part3 - part3.mean()) / (part3.max() - part3.min())"
   ]
  },
  {
   "cell_type": "code",
   "execution_count": 49,
   "metadata": {},
   "outputs": [
    {
     "data": {
      "application/vnd.plotly.v1+json": {
       "config": {
        "linkText": "Export to plot.ly",
        "plotlyServerURL": "https://plot.ly",
        "showLink": false
       },
       "data": [
        {
         "mode": "lines",
         "name": "Temperature",
         "type": "scatter",
         "x": [
          1990,
          1991,
          1992,
          1993,
          1994,
          1995,
          1996,
          1997,
          1998,
          1999,
          2000,
          2001,
          2002,
          2003,
          2004,
          2005,
          2006,
          2007,
          2008,
          2009,
          2010,
          2011,
          2012,
          2013,
          2014
         ],
         "y": [
          -0.4045178165601825,
          0.23655675142575242,
          0.24996741134599626,
          -0.43873590326315337,
          -0.2580296728270659,
          -0.27562111401740996,
          -0.18258265082972475,
          -0.3482702285493769,
          -0.27237296856910204,
          0.43006260451953165,
          0.1748419879078933,
          -0.285751468633421,
          0.08546974829552684,
          0.20941383302602795,
          -0.33711075854380224,
          -0.12350499549762074,
          -0.010849020196390504,
          0.31248617126195216,
          -0.03172076669096533,
          -0.02618927147206469,
          -0.21908408730328907,
          0.2500960507696918,
          0.21716435830367425,
          0.487017709360662,
          0.5612640967368466
         ]
        },
        {
         "mode": "lines",
         "name": "Carbon Dioxide",
         "type": "scatter",
         "x": [
          1990,
          1991,
          1992,
          1993,
          1994,
          1995,
          1996,
          1997,
          1998,
          1999,
          2000,
          2001,
          2002,
          2003,
          2004,
          2005,
          2006,
          2007,
          2008,
          2009,
          2010,
          2011,
          2012,
          2013,
          2014
         ],
         "y": [
          -0.5192238699267286,
          -0.5666923170272108,
          -0.46706295535896875,
          -0.35884114230821046,
          -0.2711802081774611,
          -0.2105799430693334,
          -0.03237747487830286,
          0.038409460470073764,
          0.0759144893571461,
          0.14615035013952907,
          0.3101271799984246,
          0.21751146262518525,
          0.2565294559074037,
          0.3005334654943834,
          0.4089489950044758,
          0.43330768297278927,
          0.35735011221306573,
          0.43227470913890464,
          0.24467786262786567,
          -0.1664146020461605,
          0.02305699582363337,
          -0.09912127185390938,
          -0.29790499921802743,
          -0.15296259397307083,
          -0.10243084393546552
         ]
        },
        {
         "mode": "lines",
         "name": "Nitrous Oxide",
         "type": "scatter",
         "x": [
          1990,
          1991,
          1992,
          1993,
          1994,
          1995,
          1996,
          1997,
          1998,
          1999,
          2000,
          2001,
          2002,
          2003,
          2004,
          2005,
          2006,
          2007,
          2008,
          2009,
          2010,
          2011,
          2012,
          2013,
          2014
         ],
         "y": [
          -0.07239179610300826,
          -0.3402715552229781,
          -0.13003156403050217,
          0.30565495380661056,
          -0.17169519214602838,
          0.3078413902280089,
          0.5286566967242377,
          0.0888798994185865,
          0.659728444777022,
          -0.20695892000592558,
          -0.20026339238471244,
          -0.2552383637543504,
          -0.21303709881889543,
          -0.19032980627742785,
          0.5188751736908376,
          -0.302186235959721,
          0.029243973246435545,
          0.26545185749750927,
          -0.32270135923095344,
          -0.25057555994793607,
          0.03581323254992529,
          0.20021220929793193,
          0.008570563883438544,
          -0.1486327071814402,
          -0.14461484405670152
         ]
        },
        {
         "mode": "lines",
         "name": "Methane",
         "type": "scatter",
         "x": [
          1990,
          1991,
          1992,
          1993,
          1994,
          1995,
          1996,
          1997,
          1998,
          1999,
          2000,
          2001,
          2002,
          2003,
          2004,
          2005,
          2006,
          2007,
          2008,
          2009,
          2010,
          2011,
          2012,
          2013,
          2014
         ],
         "y": [
          0.5277257461546627,
          0.5717927886687365,
          0.569513689738705,
          0.3923747957487252,
          0.48053806947825434,
          0.44578950075374696,
          0.366236307965421,
          0.15795816060996157,
          0.028283580791894764,
          -0.1708440130103254,
          -0.2537428385013669,
          -0.3202340402287699,
          -0.4082000538765126,
          -0.37737047756628683,
          -0.42820721133126344,
          -0.255374643718932,
          -0.22454212547505523,
          -0.13591877384559772,
          0.04308826767166243,
          -0.005851036629165453,
          -0.18531864213242832,
          -0.2544392602207199,
          -0.2963328815073377,
          -0.19828529043589105,
          -0.06863961910212939
         ]
        },
        {
         "mode": "lines",
         "name": "Hydrofluorocarbon",
         "type": "scatter",
         "x": [
          1990,
          1991,
          1992,
          1993,
          1994,
          1995,
          1996,
          1997,
          1998,
          1999,
          2000,
          2001,
          2002,
          2003,
          2004,
          2005,
          2006,
          2007,
          2008,
          2009,
          2010,
          2011,
          2012,
          2013,
          2014
         ],
         "y": [
          -0.49792338636835404,
          -0.5383181603308881,
          -0.48807337322905253,
          -0.48744544759465674,
          -0.43774430745577775,
          -0.28182459142403016,
          -0.2108488056410528,
          -0.12790741782722134,
          0.03283317507581005,
          0.003794483402485299,
          0.047025780004691854,
          0.006402056233681097,
          0.05986824948562269,
          -0.010379757627750192,
          0.07098452177980558,
          0.08817382301341514,
          0.12280064143962992,
          0.2211365138166148,
          0.2568173426031612,
          0.2433234983240257,
          0.326725160023641,
          0.3651859715528716,
          0.3752981141977195,
          0.39841407687650077,
          0.46168183966911197
         ]
        }
       ],
       "layout": {
        "template": {
         "data": {
          "bar": [
           {
            "error_x": {
             "color": "#2a3f5f"
            },
            "error_y": {
             "color": "#2a3f5f"
            },
            "marker": {
             "line": {
              "color": "#E5ECF6",
              "width": 0.5
             },
             "pattern": {
              "fillmode": "overlay",
              "size": 10,
              "solidity": 0.2
             }
            },
            "type": "bar"
           }
          ],
          "barpolar": [
           {
            "marker": {
             "line": {
              "color": "#E5ECF6",
              "width": 0.5
             },
             "pattern": {
              "fillmode": "overlay",
              "size": 10,
              "solidity": 0.2
             }
            },
            "type": "barpolar"
           }
          ],
          "carpet": [
           {
            "aaxis": {
             "endlinecolor": "#2a3f5f",
             "gridcolor": "white",
             "linecolor": "white",
             "minorgridcolor": "white",
             "startlinecolor": "#2a3f5f"
            },
            "baxis": {
             "endlinecolor": "#2a3f5f",
             "gridcolor": "white",
             "linecolor": "white",
             "minorgridcolor": "white",
             "startlinecolor": "#2a3f5f"
            },
            "type": "carpet"
           }
          ],
          "choropleth": [
           {
            "colorbar": {
             "outlinewidth": 0,
             "ticks": ""
            },
            "type": "choropleth"
           }
          ],
          "contour": [
           {
            "colorbar": {
             "outlinewidth": 0,
             "ticks": ""
            },
            "colorscale": [
             [
              0,
              "#0d0887"
             ],
             [
              0.1111111111111111,
              "#46039f"
             ],
             [
              0.2222222222222222,
              "#7201a8"
             ],
             [
              0.3333333333333333,
              "#9c179e"
             ],
             [
              0.4444444444444444,
              "#bd3786"
             ],
             [
              0.5555555555555556,
              "#d8576b"
             ],
             [
              0.6666666666666666,
              "#ed7953"
             ],
             [
              0.7777777777777778,
              "#fb9f3a"
             ],
             [
              0.8888888888888888,
              "#fdca26"
             ],
             [
              1,
              "#f0f921"
             ]
            ],
            "type": "contour"
           }
          ],
          "contourcarpet": [
           {
            "colorbar": {
             "outlinewidth": 0,
             "ticks": ""
            },
            "type": "contourcarpet"
           }
          ],
          "heatmap": [
           {
            "colorbar": {
             "outlinewidth": 0,
             "ticks": ""
            },
            "colorscale": [
             [
              0,
              "#0d0887"
             ],
             [
              0.1111111111111111,
              "#46039f"
             ],
             [
              0.2222222222222222,
              "#7201a8"
             ],
             [
              0.3333333333333333,
              "#9c179e"
             ],
             [
              0.4444444444444444,
              "#bd3786"
             ],
             [
              0.5555555555555556,
              "#d8576b"
             ],
             [
              0.6666666666666666,
              "#ed7953"
             ],
             [
              0.7777777777777778,
              "#fb9f3a"
             ],
             [
              0.8888888888888888,
              "#fdca26"
             ],
             [
              1,
              "#f0f921"
             ]
            ],
            "type": "heatmap"
           }
          ],
          "heatmapgl": [
           {
            "colorbar": {
             "outlinewidth": 0,
             "ticks": ""
            },
            "colorscale": [
             [
              0,
              "#0d0887"
             ],
             [
              0.1111111111111111,
              "#46039f"
             ],
             [
              0.2222222222222222,
              "#7201a8"
             ],
             [
              0.3333333333333333,
              "#9c179e"
             ],
             [
              0.4444444444444444,
              "#bd3786"
             ],
             [
              0.5555555555555556,
              "#d8576b"
             ],
             [
              0.6666666666666666,
              "#ed7953"
             ],
             [
              0.7777777777777778,
              "#fb9f3a"
             ],
             [
              0.8888888888888888,
              "#fdca26"
             ],
             [
              1,
              "#f0f921"
             ]
            ],
            "type": "heatmapgl"
           }
          ],
          "histogram": [
           {
            "marker": {
             "pattern": {
              "fillmode": "overlay",
              "size": 10,
              "solidity": 0.2
             }
            },
            "type": "histogram"
           }
          ],
          "histogram2d": [
           {
            "colorbar": {
             "outlinewidth": 0,
             "ticks": ""
            },
            "colorscale": [
             [
              0,
              "#0d0887"
             ],
             [
              0.1111111111111111,
              "#46039f"
             ],
             [
              0.2222222222222222,
              "#7201a8"
             ],
             [
              0.3333333333333333,
              "#9c179e"
             ],
             [
              0.4444444444444444,
              "#bd3786"
             ],
             [
              0.5555555555555556,
              "#d8576b"
             ],
             [
              0.6666666666666666,
              "#ed7953"
             ],
             [
              0.7777777777777778,
              "#fb9f3a"
             ],
             [
              0.8888888888888888,
              "#fdca26"
             ],
             [
              1,
              "#f0f921"
             ]
            ],
            "type": "histogram2d"
           }
          ],
          "histogram2dcontour": [
           {
            "colorbar": {
             "outlinewidth": 0,
             "ticks": ""
            },
            "colorscale": [
             [
              0,
              "#0d0887"
             ],
             [
              0.1111111111111111,
              "#46039f"
             ],
             [
              0.2222222222222222,
              "#7201a8"
             ],
             [
              0.3333333333333333,
              "#9c179e"
             ],
             [
              0.4444444444444444,
              "#bd3786"
             ],
             [
              0.5555555555555556,
              "#d8576b"
             ],
             [
              0.6666666666666666,
              "#ed7953"
             ],
             [
              0.7777777777777778,
              "#fb9f3a"
             ],
             [
              0.8888888888888888,
              "#fdca26"
             ],
             [
              1,
              "#f0f921"
             ]
            ],
            "type": "histogram2dcontour"
           }
          ],
          "mesh3d": [
           {
            "colorbar": {
             "outlinewidth": 0,
             "ticks": ""
            },
            "type": "mesh3d"
           }
          ],
          "parcoords": [
           {
            "line": {
             "colorbar": {
              "outlinewidth": 0,
              "ticks": ""
             }
            },
            "type": "parcoords"
           }
          ],
          "pie": [
           {
            "automargin": true,
            "type": "pie"
           }
          ],
          "scatter": [
           {
            "marker": {
             "colorbar": {
              "outlinewidth": 0,
              "ticks": ""
             }
            },
            "type": "scatter"
           }
          ],
          "scatter3d": [
           {
            "line": {
             "colorbar": {
              "outlinewidth": 0,
              "ticks": ""
             }
            },
            "marker": {
             "colorbar": {
              "outlinewidth": 0,
              "ticks": ""
             }
            },
            "type": "scatter3d"
           }
          ],
          "scattercarpet": [
           {
            "marker": {
             "colorbar": {
              "outlinewidth": 0,
              "ticks": ""
             }
            },
            "type": "scattercarpet"
           }
          ],
          "scattergeo": [
           {
            "marker": {
             "colorbar": {
              "outlinewidth": 0,
              "ticks": ""
             }
            },
            "type": "scattergeo"
           }
          ],
          "scattergl": [
           {
            "marker": {
             "colorbar": {
              "outlinewidth": 0,
              "ticks": ""
             }
            },
            "type": "scattergl"
           }
          ],
          "scattermapbox": [
           {
            "marker": {
             "colorbar": {
              "outlinewidth": 0,
              "ticks": ""
             }
            },
            "type": "scattermapbox"
           }
          ],
          "scatterpolar": [
           {
            "marker": {
             "colorbar": {
              "outlinewidth": 0,
              "ticks": ""
             }
            },
            "type": "scatterpolar"
           }
          ],
          "scatterpolargl": [
           {
            "marker": {
             "colorbar": {
              "outlinewidth": 0,
              "ticks": ""
             }
            },
            "type": "scatterpolargl"
           }
          ],
          "scatterternary": [
           {
            "marker": {
             "colorbar": {
              "outlinewidth": 0,
              "ticks": ""
             }
            },
            "type": "scatterternary"
           }
          ],
          "surface": [
           {
            "colorbar": {
             "outlinewidth": 0,
             "ticks": ""
            },
            "colorscale": [
             [
              0,
              "#0d0887"
             ],
             [
              0.1111111111111111,
              "#46039f"
             ],
             [
              0.2222222222222222,
              "#7201a8"
             ],
             [
              0.3333333333333333,
              "#9c179e"
             ],
             [
              0.4444444444444444,
              "#bd3786"
             ],
             [
              0.5555555555555556,
              "#d8576b"
             ],
             [
              0.6666666666666666,
              "#ed7953"
             ],
             [
              0.7777777777777778,
              "#fb9f3a"
             ],
             [
              0.8888888888888888,
              "#fdca26"
             ],
             [
              1,
              "#f0f921"
             ]
            ],
            "type": "surface"
           }
          ],
          "table": [
           {
            "cells": {
             "fill": {
              "color": "#EBF0F8"
             },
             "line": {
              "color": "white"
             }
            },
            "header": {
             "fill": {
              "color": "#C8D4E3"
             },
             "line": {
              "color": "white"
             }
            },
            "type": "table"
           }
          ]
         },
         "layout": {
          "annotationdefaults": {
           "arrowcolor": "#2a3f5f",
           "arrowhead": 0,
           "arrowwidth": 1
          },
          "autotypenumbers": "strict",
          "coloraxis": {
           "colorbar": {
            "outlinewidth": 0,
            "ticks": ""
           }
          },
          "colorscale": {
           "diverging": [
            [
             0,
             "#8e0152"
            ],
            [
             0.1,
             "#c51b7d"
            ],
            [
             0.2,
             "#de77ae"
            ],
            [
             0.3,
             "#f1b6da"
            ],
            [
             0.4,
             "#fde0ef"
            ],
            [
             0.5,
             "#f7f7f7"
            ],
            [
             0.6,
             "#e6f5d0"
            ],
            [
             0.7,
             "#b8e186"
            ],
            [
             0.8,
             "#7fbc41"
            ],
            [
             0.9,
             "#4d9221"
            ],
            [
             1,
             "#276419"
            ]
           ],
           "sequential": [
            [
             0,
             "#0d0887"
            ],
            [
             0.1111111111111111,
             "#46039f"
            ],
            [
             0.2222222222222222,
             "#7201a8"
            ],
            [
             0.3333333333333333,
             "#9c179e"
            ],
            [
             0.4444444444444444,
             "#bd3786"
            ],
            [
             0.5555555555555556,
             "#d8576b"
            ],
            [
             0.6666666666666666,
             "#ed7953"
            ],
            [
             0.7777777777777778,
             "#fb9f3a"
            ],
            [
             0.8888888888888888,
             "#fdca26"
            ],
            [
             1,
             "#f0f921"
            ]
           ],
           "sequentialminus": [
            [
             0,
             "#0d0887"
            ],
            [
             0.1111111111111111,
             "#46039f"
            ],
            [
             0.2222222222222222,
             "#7201a8"
            ],
            [
             0.3333333333333333,
             "#9c179e"
            ],
            [
             0.4444444444444444,
             "#bd3786"
            ],
            [
             0.5555555555555556,
             "#d8576b"
            ],
            [
             0.6666666666666666,
             "#ed7953"
            ],
            [
             0.7777777777777778,
             "#fb9f3a"
            ],
            [
             0.8888888888888888,
             "#fdca26"
            ],
            [
             1,
             "#f0f921"
            ]
           ]
          },
          "colorway": [
           "#636efa",
           "#EF553B",
           "#00cc96",
           "#ab63fa",
           "#FFA15A",
           "#19d3f3",
           "#FF6692",
           "#B6E880",
           "#FF97FF",
           "#FECB52"
          ],
          "font": {
           "color": "#2a3f5f"
          },
          "geo": {
           "bgcolor": "white",
           "lakecolor": "white",
           "landcolor": "#E5ECF6",
           "showlakes": true,
           "showland": true,
           "subunitcolor": "white"
          },
          "hoverlabel": {
           "align": "left"
          },
          "hovermode": "closest",
          "mapbox": {
           "style": "light"
          },
          "paper_bgcolor": "white",
          "plot_bgcolor": "#E5ECF6",
          "polar": {
           "angularaxis": {
            "gridcolor": "white",
            "linecolor": "white",
            "ticks": ""
           },
           "bgcolor": "#E5ECF6",
           "radialaxis": {
            "gridcolor": "white",
            "linecolor": "white",
            "ticks": ""
           }
          },
          "scene": {
           "xaxis": {
            "backgroundcolor": "#E5ECF6",
            "gridcolor": "white",
            "gridwidth": 2,
            "linecolor": "white",
            "showbackground": true,
            "ticks": "",
            "zerolinecolor": "white"
           },
           "yaxis": {
            "backgroundcolor": "#E5ECF6",
            "gridcolor": "white",
            "gridwidth": 2,
            "linecolor": "white",
            "showbackground": true,
            "ticks": "",
            "zerolinecolor": "white"
           },
           "zaxis": {
            "backgroundcolor": "#E5ECF6",
            "gridcolor": "white",
            "gridwidth": 2,
            "linecolor": "white",
            "showbackground": true,
            "ticks": "",
            "zerolinecolor": "white"
           }
          },
          "shapedefaults": {
           "line": {
            "color": "#2a3f5f"
           }
          },
          "ternary": {
           "aaxis": {
            "gridcolor": "white",
            "linecolor": "white",
            "ticks": ""
           },
           "baxis": {
            "gridcolor": "white",
            "linecolor": "white",
            "ticks": ""
           },
           "bgcolor": "#E5ECF6",
           "caxis": {
            "gridcolor": "white",
            "linecolor": "white",
            "ticks": ""
           }
          },
          "title": {
           "x": 0.05
          },
          "xaxis": {
           "automargin": true,
           "gridcolor": "white",
           "linecolor": "white",
           "ticks": "",
           "title": {
            "standoff": 15
           },
           "zerolinecolor": "white",
           "zerolinewidth": 2
          },
          "yaxis": {
           "automargin": true,
           "gridcolor": "white",
           "linecolor": "white",
           "ticks": "",
           "title": {
            "standoff": 15
           },
           "zerolinecolor": "white",
           "zerolinewidth": 2
          }
         }
        },
        "title": {
         "text": "Temperature and Greenhouse Gases Plots"
        },
        "xaxis": {
         "title": {
          "text": "Year"
         }
        },
        "yaxis": {
         "title": {
          "text": "Normalized Values"
         }
        }
       }
      },
      "text/html": [
       "<div>                            <div id=\"ab63535f-cc61-4fdf-bd8e-1cb82e673b7c\" class=\"plotly-graph-div\" style=\"height:525px; width:100%;\"></div>            <script type=\"text/javascript\">                require([\"plotly\"], function(Plotly) {                    window.PLOTLYENV=window.PLOTLYENV || {};                                    if (document.getElementById(\"ab63535f-cc61-4fdf-bd8e-1cb82e673b7c\")) {                    Plotly.newPlot(                        \"ab63535f-cc61-4fdf-bd8e-1cb82e673b7c\",                        [{\"mode\":\"lines\",\"name\":\"Temperature\",\"x\":[1990,1991,1992,1993,1994,1995,1996,1997,1998,1999,2000,2001,2002,2003,2004,2005,2006,2007,2008,2009,2010,2011,2012,2013,2014],\"y\":[-0.4045178165601825,0.23655675142575242,0.24996741134599626,-0.43873590326315337,-0.2580296728270659,-0.27562111401740996,-0.18258265082972475,-0.3482702285493769,-0.27237296856910204,0.43006260451953165,0.1748419879078933,-0.285751468633421,0.08546974829552684,0.20941383302602795,-0.33711075854380224,-0.12350499549762074,-0.010849020196390504,0.31248617126195216,-0.03172076669096533,-0.02618927147206469,-0.21908408730328907,0.2500960507696918,0.21716435830367425,0.487017709360662,0.5612640967368466],\"type\":\"scatter\"},{\"mode\":\"lines\",\"name\":\"Carbon Dioxide\",\"x\":[1990,1991,1992,1993,1994,1995,1996,1997,1998,1999,2000,2001,2002,2003,2004,2005,2006,2007,2008,2009,2010,2011,2012,2013,2014],\"y\":[-0.5192238699267286,-0.5666923170272108,-0.46706295535896875,-0.35884114230821046,-0.2711802081774611,-0.2105799430693334,-0.03237747487830286,0.038409460470073764,0.0759144893571461,0.14615035013952907,0.3101271799984246,0.21751146262518525,0.2565294559074037,0.3005334654943834,0.4089489950044758,0.43330768297278927,0.35735011221306573,0.43227470913890464,0.24467786262786567,-0.1664146020461605,0.02305699582363337,-0.09912127185390938,-0.29790499921802743,-0.15296259397307083,-0.10243084393546552],\"type\":\"scatter\"},{\"mode\":\"lines\",\"name\":\"Nitrous Oxide\",\"x\":[1990,1991,1992,1993,1994,1995,1996,1997,1998,1999,2000,2001,2002,2003,2004,2005,2006,2007,2008,2009,2010,2011,2012,2013,2014],\"y\":[-0.07239179610300826,-0.3402715552229781,-0.13003156403050217,0.30565495380661056,-0.17169519214602838,0.3078413902280089,0.5286566967242377,0.0888798994185865,0.659728444777022,-0.20695892000592558,-0.20026339238471244,-0.2552383637543504,-0.21303709881889543,-0.19032980627742785,0.5188751736908376,-0.302186235959721,0.029243973246435545,0.26545185749750927,-0.32270135923095344,-0.25057555994793607,0.03581323254992529,0.20021220929793193,0.008570563883438544,-0.1486327071814402,-0.14461484405670152],\"type\":\"scatter\"},{\"mode\":\"lines\",\"name\":\"Methane\",\"x\":[1990,1991,1992,1993,1994,1995,1996,1997,1998,1999,2000,2001,2002,2003,2004,2005,2006,2007,2008,2009,2010,2011,2012,2013,2014],\"y\":[0.5277257461546627,0.5717927886687365,0.569513689738705,0.3923747957487252,0.48053806947825434,0.44578950075374696,0.366236307965421,0.15795816060996157,0.028283580791894764,-0.1708440130103254,-0.2537428385013669,-0.3202340402287699,-0.4082000538765126,-0.37737047756628683,-0.42820721133126344,-0.255374643718932,-0.22454212547505523,-0.13591877384559772,0.04308826767166243,-0.005851036629165453,-0.18531864213242832,-0.2544392602207199,-0.2963328815073377,-0.19828529043589105,-0.06863961910212939],\"type\":\"scatter\"},{\"mode\":\"lines\",\"name\":\"Hydrofluorocarbon\",\"x\":[1990,1991,1992,1993,1994,1995,1996,1997,1998,1999,2000,2001,2002,2003,2004,2005,2006,2007,2008,2009,2010,2011,2012,2013,2014],\"y\":[-0.49792338636835404,-0.5383181603308881,-0.48807337322905253,-0.48744544759465674,-0.43774430745577775,-0.28182459142403016,-0.2108488056410528,-0.12790741782722134,0.03283317507581005,0.003794483402485299,0.047025780004691854,0.006402056233681097,0.05986824948562269,-0.010379757627750192,0.07098452177980558,0.08817382301341514,0.12280064143962992,0.2211365138166148,0.2568173426031612,0.2433234983240257,0.326725160023641,0.3651859715528716,0.3752981141977195,0.39841407687650077,0.46168183966911197],\"type\":\"scatter\"}],                        {\"template\":{\"data\":{\"barpolar\":[{\"marker\":{\"line\":{\"color\":\"#E5ECF6\",\"width\":0.5},\"pattern\":{\"fillmode\":\"overlay\",\"size\":10,\"solidity\":0.2}},\"type\":\"barpolar\"}],\"bar\":[{\"error_x\":{\"color\":\"#2a3f5f\"},\"error_y\":{\"color\":\"#2a3f5f\"},\"marker\":{\"line\":{\"color\":\"#E5ECF6\",\"width\":0.5},\"pattern\":{\"fillmode\":\"overlay\",\"size\":10,\"solidity\":0.2}},\"type\":\"bar\"}],\"carpet\":[{\"aaxis\":{\"endlinecolor\":\"#2a3f5f\",\"gridcolor\":\"white\",\"linecolor\":\"white\",\"minorgridcolor\":\"white\",\"startlinecolor\":\"#2a3f5f\"},\"baxis\":{\"endlinecolor\":\"#2a3f5f\",\"gridcolor\":\"white\",\"linecolor\":\"white\",\"minorgridcolor\":\"white\",\"startlinecolor\":\"#2a3f5f\"},\"type\":\"carpet\"}],\"choropleth\":[{\"colorbar\":{\"outlinewidth\":0,\"ticks\":\"\"},\"type\":\"choropleth\"}],\"contourcarpet\":[{\"colorbar\":{\"outlinewidth\":0,\"ticks\":\"\"},\"type\":\"contourcarpet\"}],\"contour\":[{\"colorbar\":{\"outlinewidth\":0,\"ticks\":\"\"},\"colorscale\":[[0.0,\"#0d0887\"],[0.1111111111111111,\"#46039f\"],[0.2222222222222222,\"#7201a8\"],[0.3333333333333333,\"#9c179e\"],[0.4444444444444444,\"#bd3786\"],[0.5555555555555556,\"#d8576b\"],[0.6666666666666666,\"#ed7953\"],[0.7777777777777778,\"#fb9f3a\"],[0.8888888888888888,\"#fdca26\"],[1.0,\"#f0f921\"]],\"type\":\"contour\"}],\"heatmapgl\":[{\"colorbar\":{\"outlinewidth\":0,\"ticks\":\"\"},\"colorscale\":[[0.0,\"#0d0887\"],[0.1111111111111111,\"#46039f\"],[0.2222222222222222,\"#7201a8\"],[0.3333333333333333,\"#9c179e\"],[0.4444444444444444,\"#bd3786\"],[0.5555555555555556,\"#d8576b\"],[0.6666666666666666,\"#ed7953\"],[0.7777777777777778,\"#fb9f3a\"],[0.8888888888888888,\"#fdca26\"],[1.0,\"#f0f921\"]],\"type\":\"heatmapgl\"}],\"heatmap\":[{\"colorbar\":{\"outlinewidth\":0,\"ticks\":\"\"},\"colorscale\":[[0.0,\"#0d0887\"],[0.1111111111111111,\"#46039f\"],[0.2222222222222222,\"#7201a8\"],[0.3333333333333333,\"#9c179e\"],[0.4444444444444444,\"#bd3786\"],[0.5555555555555556,\"#d8576b\"],[0.6666666666666666,\"#ed7953\"],[0.7777777777777778,\"#fb9f3a\"],[0.8888888888888888,\"#fdca26\"],[1.0,\"#f0f921\"]],\"type\":\"heatmap\"}],\"histogram2dcontour\":[{\"colorbar\":{\"outlinewidth\":0,\"ticks\":\"\"},\"colorscale\":[[0.0,\"#0d0887\"],[0.1111111111111111,\"#46039f\"],[0.2222222222222222,\"#7201a8\"],[0.3333333333333333,\"#9c179e\"],[0.4444444444444444,\"#bd3786\"],[0.5555555555555556,\"#d8576b\"],[0.6666666666666666,\"#ed7953\"],[0.7777777777777778,\"#fb9f3a\"],[0.8888888888888888,\"#fdca26\"],[1.0,\"#f0f921\"]],\"type\":\"histogram2dcontour\"}],\"histogram2d\":[{\"colorbar\":{\"outlinewidth\":0,\"ticks\":\"\"},\"colorscale\":[[0.0,\"#0d0887\"],[0.1111111111111111,\"#46039f\"],[0.2222222222222222,\"#7201a8\"],[0.3333333333333333,\"#9c179e\"],[0.4444444444444444,\"#bd3786\"],[0.5555555555555556,\"#d8576b\"],[0.6666666666666666,\"#ed7953\"],[0.7777777777777778,\"#fb9f3a\"],[0.8888888888888888,\"#fdca26\"],[1.0,\"#f0f921\"]],\"type\":\"histogram2d\"}],\"histogram\":[{\"marker\":{\"pattern\":{\"fillmode\":\"overlay\",\"size\":10,\"solidity\":0.2}},\"type\":\"histogram\"}],\"mesh3d\":[{\"colorbar\":{\"outlinewidth\":0,\"ticks\":\"\"},\"type\":\"mesh3d\"}],\"parcoords\":[{\"line\":{\"colorbar\":{\"outlinewidth\":0,\"ticks\":\"\"}},\"type\":\"parcoords\"}],\"pie\":[{\"automargin\":true,\"type\":\"pie\"}],\"scatter3d\":[{\"line\":{\"colorbar\":{\"outlinewidth\":0,\"ticks\":\"\"}},\"marker\":{\"colorbar\":{\"outlinewidth\":0,\"ticks\":\"\"}},\"type\":\"scatter3d\"}],\"scattercarpet\":[{\"marker\":{\"colorbar\":{\"outlinewidth\":0,\"ticks\":\"\"}},\"type\":\"scattercarpet\"}],\"scattergeo\":[{\"marker\":{\"colorbar\":{\"outlinewidth\":0,\"ticks\":\"\"}},\"type\":\"scattergeo\"}],\"scattergl\":[{\"marker\":{\"colorbar\":{\"outlinewidth\":0,\"ticks\":\"\"}},\"type\":\"scattergl\"}],\"scattermapbox\":[{\"marker\":{\"colorbar\":{\"outlinewidth\":0,\"ticks\":\"\"}},\"type\":\"scattermapbox\"}],\"scatterpolargl\":[{\"marker\":{\"colorbar\":{\"outlinewidth\":0,\"ticks\":\"\"}},\"type\":\"scatterpolargl\"}],\"scatterpolar\":[{\"marker\":{\"colorbar\":{\"outlinewidth\":0,\"ticks\":\"\"}},\"type\":\"scatterpolar\"}],\"scatter\":[{\"marker\":{\"colorbar\":{\"outlinewidth\":0,\"ticks\":\"\"}},\"type\":\"scatter\"}],\"scatterternary\":[{\"marker\":{\"colorbar\":{\"outlinewidth\":0,\"ticks\":\"\"}},\"type\":\"scatterternary\"}],\"surface\":[{\"colorbar\":{\"outlinewidth\":0,\"ticks\":\"\"},\"colorscale\":[[0.0,\"#0d0887\"],[0.1111111111111111,\"#46039f\"],[0.2222222222222222,\"#7201a8\"],[0.3333333333333333,\"#9c179e\"],[0.4444444444444444,\"#bd3786\"],[0.5555555555555556,\"#d8576b\"],[0.6666666666666666,\"#ed7953\"],[0.7777777777777778,\"#fb9f3a\"],[0.8888888888888888,\"#fdca26\"],[1.0,\"#f0f921\"]],\"type\":\"surface\"}],\"table\":[{\"cells\":{\"fill\":{\"color\":\"#EBF0F8\"},\"line\":{\"color\":\"white\"}},\"header\":{\"fill\":{\"color\":\"#C8D4E3\"},\"line\":{\"color\":\"white\"}},\"type\":\"table\"}]},\"layout\":{\"annotationdefaults\":{\"arrowcolor\":\"#2a3f5f\",\"arrowhead\":0,\"arrowwidth\":1},\"autotypenumbers\":\"strict\",\"coloraxis\":{\"colorbar\":{\"outlinewidth\":0,\"ticks\":\"\"}},\"colorscale\":{\"diverging\":[[0,\"#8e0152\"],[0.1,\"#c51b7d\"],[0.2,\"#de77ae\"],[0.3,\"#f1b6da\"],[0.4,\"#fde0ef\"],[0.5,\"#f7f7f7\"],[0.6,\"#e6f5d0\"],[0.7,\"#b8e186\"],[0.8,\"#7fbc41\"],[0.9,\"#4d9221\"],[1,\"#276419\"]],\"sequential\":[[0.0,\"#0d0887\"],[0.1111111111111111,\"#46039f\"],[0.2222222222222222,\"#7201a8\"],[0.3333333333333333,\"#9c179e\"],[0.4444444444444444,\"#bd3786\"],[0.5555555555555556,\"#d8576b\"],[0.6666666666666666,\"#ed7953\"],[0.7777777777777778,\"#fb9f3a\"],[0.8888888888888888,\"#fdca26\"],[1.0,\"#f0f921\"]],\"sequentialminus\":[[0.0,\"#0d0887\"],[0.1111111111111111,\"#46039f\"],[0.2222222222222222,\"#7201a8\"],[0.3333333333333333,\"#9c179e\"],[0.4444444444444444,\"#bd3786\"],[0.5555555555555556,\"#d8576b\"],[0.6666666666666666,\"#ed7953\"],[0.7777777777777778,\"#fb9f3a\"],[0.8888888888888888,\"#fdca26\"],[1.0,\"#f0f921\"]]},\"colorway\":[\"#636efa\",\"#EF553B\",\"#00cc96\",\"#ab63fa\",\"#FFA15A\",\"#19d3f3\",\"#FF6692\",\"#B6E880\",\"#FF97FF\",\"#FECB52\"],\"font\":{\"color\":\"#2a3f5f\"},\"geo\":{\"bgcolor\":\"white\",\"lakecolor\":\"white\",\"landcolor\":\"#E5ECF6\",\"showlakes\":true,\"showland\":true,\"subunitcolor\":\"white\"},\"hoverlabel\":{\"align\":\"left\"},\"hovermode\":\"closest\",\"mapbox\":{\"style\":\"light\"},\"paper_bgcolor\":\"white\",\"plot_bgcolor\":\"#E5ECF6\",\"polar\":{\"angularaxis\":{\"gridcolor\":\"white\",\"linecolor\":\"white\",\"ticks\":\"\"},\"bgcolor\":\"#E5ECF6\",\"radialaxis\":{\"gridcolor\":\"white\",\"linecolor\":\"white\",\"ticks\":\"\"}},\"scene\":{\"xaxis\":{\"backgroundcolor\":\"#E5ECF6\",\"gridcolor\":\"white\",\"gridwidth\":2,\"linecolor\":\"white\",\"showbackground\":true,\"ticks\":\"\",\"zerolinecolor\":\"white\"},\"yaxis\":{\"backgroundcolor\":\"#E5ECF6\",\"gridcolor\":\"white\",\"gridwidth\":2,\"linecolor\":\"white\",\"showbackground\":true,\"ticks\":\"\",\"zerolinecolor\":\"white\"},\"zaxis\":{\"backgroundcolor\":\"#E5ECF6\",\"gridcolor\":\"white\",\"gridwidth\":2,\"linecolor\":\"white\",\"showbackground\":true,\"ticks\":\"\",\"zerolinecolor\":\"white\"}},\"shapedefaults\":{\"line\":{\"color\":\"#2a3f5f\"}},\"ternary\":{\"aaxis\":{\"gridcolor\":\"white\",\"linecolor\":\"white\",\"ticks\":\"\"},\"baxis\":{\"gridcolor\":\"white\",\"linecolor\":\"white\",\"ticks\":\"\"},\"bgcolor\":\"#E5ECF6\",\"caxis\":{\"gridcolor\":\"white\",\"linecolor\":\"white\",\"ticks\":\"\"}},\"title\":{\"x\":0.05},\"xaxis\":{\"automargin\":true,\"gridcolor\":\"white\",\"linecolor\":\"white\",\"ticks\":\"\",\"title\":{\"standoff\":15},\"zerolinecolor\":\"white\",\"zerolinewidth\":2},\"yaxis\":{\"automargin\":true,\"gridcolor\":\"white\",\"linecolor\":\"white\",\"ticks\":\"\",\"title\":{\"standoff\":15},\"zerolinecolor\":\"white\",\"zerolinewidth\":2}}},\"title\":{\"text\":\"Temperature and Greenhouse Gases Plots\"},\"xaxis\":{\"title\":{\"text\":\"Year\"}},\"yaxis\":{\"title\":{\"text\":\"Normalized Values\"}}},                        {\"responsive\": true}                    ).then(function(){\n",
       "                            \n",
       "var gd = document.getElementById('ab63535f-cc61-4fdf-bd8e-1cb82e673b7c');\n",
       "var x = new MutationObserver(function (mutations, observer) {{\n",
       "        var display = window.getComputedStyle(gd).display;\n",
       "        if (!display || display === 'none') {{\n",
       "            console.log([gd, 'removed!']);\n",
       "            Plotly.purge(gd);\n",
       "            observer.disconnect();\n",
       "        }}\n",
       "}});\n",
       "\n",
       "// Listen for the removal of the full notebook cells\n",
       "var notebookContainer = gd.closest('#notebook-container');\n",
       "if (notebookContainer) {{\n",
       "    x.observe(notebookContainer, {childList: true});\n",
       "}}\n",
       "\n",
       "// Listen for the clearing of the current output cell\n",
       "var outputEl = gd.closest('.output');\n",
       "if (outputEl) {{\n",
       "    x.observe(outputEl, {childList: true});\n",
       "}}\n",
       "\n",
       "                        })                };                });            </script>        </div>"
      ]
     },
     "metadata": {},
     "output_type": "display_data"
    }
   ],
   "source": [
    "# Plotting values for Greenhouse Gases along with Temperature\n",
    "\n",
    "trace0 = go.Scatter(\n",
    "    x = part3_norm.index,\n",
    "    y = part3_norm['temp'],\n",
    "    mode = 'lines',\n",
    "    name = 'Temperature'\n",
    ")\n",
    "\n",
    "trace1 = go.Scatter(\n",
    "    x = part3_norm.index,\n",
    "    y = part3_norm['co2'],\n",
    "    mode = 'lines',\n",
    "    name = 'Carbon Dioxide'\n",
    ")\n",
    "\n",
    "trace2 = go.Scatter(\n",
    "    x = part3_norm.index,\n",
    "    y = part3_norm['n2o'],\n",
    "    mode = 'lines',\n",
    "    name = 'Nitrous Oxide'\n",
    ")\n",
    "\n",
    "trace3 = go.Scatter(\n",
    "    x = part3_norm.index,\n",
    "    y = part3_norm['methane'],\n",
    "    mode = 'lines',\n",
    "    name = 'Methane'\n",
    ")\n",
    "\n",
    "trace4 = go.Scatter(\n",
    "    x = part3_norm.index,\n",
    "    y = part3_norm['hcfc'],\n",
    "    mode = 'lines',\n",
    "    name = 'Hydrofluorocarbon'\n",
    ")\n",
    "\n",
    "\n",
    "layout = go.Layout(\n",
    "    title='Temperature and Greenhouse Gases Plots',\n",
    "    xaxis=dict(\n",
    "        title='Year',\n",
    "    ),\n",
    "    yaxis=dict(\n",
    "        title='Normalized Values',\n",
    "    )\n",
    ")\n",
    "\n",
    "data = [trace0,trace1,trace2,trace3,trace4]\n",
    "fig = go.Figure(data=data, layout=layout)\n",
    "iplot(fig)"
   ]
  },
  {
   "cell_type": "code",
   "execution_count": 50,
   "metadata": {},
   "outputs": [
    {
     "data": {
      "image/png": "[encoded data removed]",
      "text/plain": [
       "<Figure size 450x300 with 2 Axes>"
      ]
     },
     "metadata": {
      "needs_background": "light"
     },
     "output_type": "display_data"
    }
   ],
   "source": [
    "# Plotting the correlation matrix for the Greenhouse Gases\n",
    "\n",
    "fig = plt.figure(dpi = 75)\n",
    "\n",
    "ax = fig.add_axes([0.1, 0.1, 0.75, 0.8]) \n",
    "sns.heatmap(part3.corr(method='pearson'), annot = True, cmap=\"YlGnBu\")\n",
    "ax.set_title(\"Correlation of Greenhouse Gases with Temperature in 2013\", fontsize=10)\n",
    "plt.show()"
   ]
  },
  {
   "cell_type": "code",
   "execution_count": 96,
   "metadata": {},
   "outputs": [
    {
     "name": "stdout",
     "output_type": "stream",
     "text": [
      "                               SARIMAX Results                                \n",
      "==============================================================================\n",
      "Dep. Variable:                methane   No. Observations:                   25\n",
      "Model:                 ARIMA(1, 1, 1)   Log Likelihood                -250.527\n",
      "Date:                Sat, 27 Nov 2021   AIC                            507.055\n",
      "Time:                        16:12:50   BIC                            510.589\n",
      "Sample:                    01-01-1990   HQIC                           507.992\n",
      "                         - 01-01-2014                                         \n",
      "Covariance Type:                  opg                                         \n",
      "==============================================================================\n",
      "                 coef    std err          z      P>|z|      [0.025      0.975]\n",
      "------------------------------------------------------------------------------\n",
      "ar.L1          0.0641      8.092      0.008      0.994     -15.795      15.924\n",
      "ma.L1         -0.0589      8.101     -0.007      0.994     -15.937      15.819\n",
      "sigma2        5.3e+07   2.08e-06   2.55e+13      0.000     5.3e+07     5.3e+07\n",
      "===================================================================================\n",
      "Ljung-Box (L1) (Q):                    nan   Jarque-Bera (JB):                 0.76\n",
      "Prob(Q):                               nan   Prob(JB):                         0.68\n",
      "Heteroskedasticity (H):               1.00   Skew:                             0.20\n",
      "Prob(H) (two-sided):                  1.00   Kurtosis:                         2.23\n",
      "===================================================================================\n",
      "\n",
      "Warnings:\n",
      "[1] Covariance matrix calculated using the outer product of gradients (complex-step).\n",
      "[2] Covariance matrix is singular or near-singular, with condition number 2.04e+29. Standard errors may be unstable.\n",
      "                               SARIMAX Results                                \n",
      "==============================================================================\n",
      "Dep. Variable:                methane   No. Observations:                   25\n",
      "Model:                 ARIMA(1, 1, 1)   Log Likelihood                -250.527\n",
      "Date:                Sat, 27 Nov 2021   AIC                            507.055\n",
      "Time:                        16:12:50   BIC                            510.589\n",
      "Sample:                    01-01-1990   HQIC                           507.992\n",
      "                         - 01-01-2014                                         \n",
      "Covariance Type:                  opg                                         \n",
      "==============================================================================\n",
      "                 coef    std err          z      P>|z|      [0.025      0.975]\n",
      "------------------------------------------------------------------------------\n",
      "ar.L1          0.0641      8.092      0.008      0.994     -15.795      15.924\n",
      "ma.L1         -0.0589      8.101     -0.007      0.994     -15.937      15.819\n",
      "sigma2        5.3e+07   2.08e-06   2.55e+13      0.000     5.3e+07     5.3e+07\n",
      "===================================================================================\n",
      "Ljung-Box (L1) (Q):                    nan   Jarque-Bera (JB):                 0.76\n",
      "Prob(Q):                               nan   Prob(JB):                         0.68\n",
      "Heteroskedasticity (H):               1.00   Skew:                             0.20\n",
      "Prob(H) (two-sided):                  1.00   Kurtosis:                         2.23\n",
      "===================================================================================\n",
      "\n",
      "Warnings:\n",
      "[1] Covariance matrix calculated using the outer product of gradients (complex-step).\n",
      "[2] Covariance matrix is singular or near-singular, with condition number 2.04e+29. Standard errors may be unstable.\n",
      "                               SARIMAX Results                                \n",
      "==============================================================================\n",
      "Dep. Variable:                methane   No. Observations:                   25\n",
      "Model:                 ARIMA(1, 1, 1)   Log Likelihood                -250.527\n",
      "Date:                Sat, 27 Nov 2021   AIC                            507.055\n",
      "Time:                        16:12:50   BIC                            510.589\n",
      "Sample:                    01-01-1990   HQIC                           507.992\n",
      "                         - 01-01-2014                                         \n",
      "Covariance Type:                  opg                                         \n",
      "==============================================================================\n",
      "                 coef    std err          z      P>|z|      [0.025      0.975]\n",
      "------------------------------------------------------------------------------\n",
      "ar.L1          0.0641      8.092      0.008      0.994     -15.795      15.924\n",
      "ma.L1         -0.0589      8.101     -0.007      0.994     -15.937      15.819\n",
      "sigma2        5.3e+07   2.08e-06   2.55e+13      0.000     5.3e+07     5.3e+07\n",
      "===================================================================================\n",
      "Ljung-Box (L1) (Q):                    nan   Jarque-Bera (JB):                 0.76\n",
      "Prob(Q):                               nan   Prob(JB):                         0.68\n",
      "Heteroskedasticity (H):               1.00   Skew:                             0.20\n",
      "Prob(H) (two-sided):                  1.00   Kurtosis:                         2.23\n",
      "===================================================================================\n",
      "\n",
      "Warnings:\n",
      "[1] Covariance matrix calculated using the outer product of gradients (complex-step).\n",
      "[2] Covariance matrix is singular or near-singular, with condition number 2.04e+29. Standard errors may be unstable.\n",
      "                               SARIMAX Results                                \n",
      "==============================================================================\n",
      "Dep. Variable:                methane   No. Observations:                   25\n",
      "Model:                 ARIMA(1, 1, 1)   Log Likelihood                -250.527\n",
      "Date:                Sat, 27 Nov 2021   AIC                            507.055\n",
      "Time:                        16:12:50   BIC                            510.589\n",
      "Sample:                    01-01-1990   HQIC                           507.992\n",
      "                         - 01-01-2014                                         \n",
      "Covariance Type:                  opg                                         \n",
      "==============================================================================\n",
      "                 coef    std err          z      P>|z|      [0.025      0.975]\n",
      "------------------------------------------------------------------------------\n",
      "ar.L1          0.0641      8.092      0.008      0.994     -15.795      15.924\n",
      "ma.L1         -0.0589      8.101     -0.007      0.994     -15.937      15.819\n",
      "sigma2        5.3e+07   2.08e-06   2.55e+13      0.000     5.3e+07     5.3e+07\n",
      "===================================================================================\n",
      "Ljung-Box (L1) (Q):                    nan   Jarque-Bera (JB):                 0.76\n",
      "Prob(Q):                               nan   Prob(JB):                         0.68\n",
      "Heteroskedasticity (H):               1.00   Skew:                             0.20\n",
      "Prob(H) (two-sided):                  1.00   Kurtosis:                         2.23\n",
      "===================================================================================\n",
      "\n",
      "Warnings:\n",
      "[1] Covariance matrix calculated using the outer product of gradients (complex-step).\n",
      "[2] Covariance matrix is singular or near-singular, with condition number 2.04e+29. Standard errors may be unstable.\n",
      "                               SARIMAX Results                                \n",
      "==============================================================================\n",
      "Dep. Variable:                methane   No. Observations:                   25\n",
      "Model:                 ARIMA(1, 1, 1)   Log Likelihood                -250.527\n",
      "Date:                Sat, 27 Nov 2021   AIC                            507.055\n",
      "Time:                        16:12:50   BIC                            510.589\n",
      "Sample:                    01-01-1990   HQIC                           507.992\n",
      "                         - 01-01-2014                                         \n",
      "Covariance Type:                  opg                                         \n",
      "==============================================================================\n",
      "                 coef    std err          z      P>|z|      [0.025      0.975]\n",
      "------------------------------------------------------------------------------\n",
      "ar.L1          0.0641      8.092      0.008      0.994     -15.795      15.924\n",
      "ma.L1         -0.0589      8.101     -0.007      0.994     -15.937      15.819\n",
      "sigma2        5.3e+07   2.08e-06   2.55e+13      0.000     5.3e+07     5.3e+07\n",
      "===================================================================================\n",
      "Ljung-Box (L1) (Q):                    nan   Jarque-Bera (JB):                 0.76\n",
      "Prob(Q):                               nan   Prob(JB):                         0.68\n",
      "Heteroskedasticity (H):               1.00   Skew:                             0.20\n",
      "Prob(H) (two-sided):                  1.00   Kurtosis:                         2.23\n",
      "===================================================================================\n",
      "\n",
      "Warnings:\n",
      "[1] Covariance matrix calculated using the outer product of gradients (complex-step).\n",
      "[2] Covariance matrix is singular or near-singular, with condition number 2.04e+29. Standard errors may be unstable.\n",
      "                               SARIMAX Results                                \n",
      "==============================================================================\n",
      "Dep. Variable:                methane   No. Observations:                   25\n",
      "Model:                 ARIMA(1, 1, 1)   Log Likelihood                -250.527\n",
      "Date:                Sat, 27 Nov 2021   AIC                            507.055\n",
      "Time:                        16:12:50   BIC                            510.589\n",
      "Sample:                    01-01-1990   HQIC                           507.992\n",
      "                         - 01-01-2014                                         \n",
      "Covariance Type:                  opg                                         \n",
      "==============================================================================\n",
      "                 coef    std err          z      P>|z|      [0.025      0.975]\n",
      "------------------------------------------------------------------------------\n",
      "ar.L1          0.0641      8.092      0.008      0.994     -15.795      15.924\n",
      "ma.L1         -0.0589      8.101     -0.007      0.994     -15.937      15.819\n",
      "sigma2        5.3e+07   2.08e-06   2.55e+13      0.000     5.3e+07     5.3e+07\n",
      "===================================================================================\n",
      "Ljung-Box (L1) (Q):                    nan   Jarque-Bera (JB):                 0.76\n",
      "Prob(Q):                               nan   Prob(JB):                         0.68\n",
      "Heteroskedasticity (H):               1.00   Skew:                             0.20\n",
      "Prob(H) (two-sided):                  1.00   Kurtosis:                         2.23\n",
      "===================================================================================\n",
      "\n",
      "Warnings:\n",
      "[1] Covariance matrix calculated using the outer product of gradients (complex-step).\n",
      "[2] Covariance matrix is singular or near-singular, with condition number 2.04e+29. Standard errors may be unstable.\n",
      "                               SARIMAX Results                                \n",
      "==============================================================================\n",
      "Dep. Variable:                methane   No. Observations:                   25\n",
      "Model:                 ARIMA(1, 1, 1)   Log Likelihood                -250.527\n",
      "Date:                Sat, 27 Nov 2021   AIC                            507.055\n",
      "Time:                        16:12:50   BIC                            510.589\n",
      "Sample:                    01-01-1990   HQIC                           507.992\n",
      "                         - 01-01-2014                                         \n",
      "Covariance Type:                  opg                                         \n",
      "==============================================================================\n",
      "                 coef    std err          z      P>|z|      [0.025      0.975]\n",
      "------------------------------------------------------------------------------\n",
      "ar.L1          0.0641      8.092      0.008      0.994     -15.795      15.924\n",
      "ma.L1         -0.0589      8.101     -0.007      0.994     -15.937      15.819\n",
      "sigma2        5.3e+07   2.08e-06   2.55e+13      0.000     5.3e+07     5.3e+07\n",
      "===================================================================================\n",
      "Ljung-Box (L1) (Q):                    nan   Jarque-Bera (JB):                 0.76\n",
      "Prob(Q):                               nan   Prob(JB):                         0.68\n",
      "Heteroskedasticity (H):               1.00   Skew:                             0.20\n",
      "Prob(H) (two-sided):                  1.00   Kurtosis:                         2.23\n",
      "===================================================================================\n",
      "\n",
      "Warnings:\n",
      "[1] Covariance matrix calculated using the outer product of gradients (complex-step).\n",
      "[2] Covariance matrix is singular or near-singular, with condition number 2.04e+29. Standard errors may be unstable.\n",
      "                               SARIMAX Results                                \n",
      "==============================================================================\n",
      "Dep. Variable:                methane   No. Observations:                   25\n",
      "Model:                 ARIMA(1, 1, 1)   Log Likelihood                -250.527\n",
      "Date:                Sat, 27 Nov 2021   AIC                            507.055\n",
      "Time:                        16:12:51   BIC                            510.589\n",
      "Sample:                    01-01-1990   HQIC                           507.992\n",
      "                         - 01-01-2014                                         \n",
      "Covariance Type:                  opg                                         \n",
      "==============================================================================\n",
      "                 coef    std err          z      P>|z|      [0.025      0.975]\n",
      "------------------------------------------------------------------------------\n",
      "ar.L1          0.0641      8.092      0.008      0.994     -15.795      15.924\n",
      "ma.L1         -0.0589      8.101     -0.007      0.994     -15.937      15.819\n",
      "sigma2        5.3e+07   2.08e-06   2.55e+13      0.000     5.3e+07     5.3e+07\n",
      "===================================================================================\n",
      "Ljung-Box (L1) (Q):                    nan   Jarque-Bera (JB):                 0.76\n",
      "Prob(Q):                               nan   Prob(JB):                         0.68\n",
      "Heteroskedasticity (H):               1.00   Skew:                             0.20\n",
      "Prob(H) (two-sided):                  1.00   Kurtosis:                         2.23\n",
      "===================================================================================\n",
      "\n",
      "Warnings:\n",
      "[1] Covariance matrix calculated using the outer product of gradients (complex-step).\n",
      "[2] Covariance matrix is singular or near-singular, with condition number 2.04e+29. Standard errors may be unstable.\n",
      "                               SARIMAX Results                                \n",
      "==============================================================================\n",
      "Dep. Variable:                methane   No. Observations:                   25\n",
      "Model:                 ARIMA(1, 1, 1)   Log Likelihood                -250.527\n",
      "Date:                Sat, 27 Nov 2021   AIC                            507.055\n",
      "Time:                        16:12:51   BIC                            510.589\n",
      "Sample:                    01-01-1990   HQIC                           507.992\n",
      "                         - 01-01-2014                                         \n",
      "Covariance Type:                  opg                                         \n",
      "==============================================================================\n",
      "                 coef    std err          z      P>|z|      [0.025      0.975]\n",
      "------------------------------------------------------------------------------\n",
      "ar.L1          0.0641      8.092      0.008      0.994     -15.795      15.924\n",
      "ma.L1         -0.0589      8.101     -0.007      0.994     -15.937      15.819\n",
      "sigma2        5.3e+07   2.08e-06   2.55e+13      0.000     5.3e+07     5.3e+07\n",
      "===================================================================================\n",
      "Ljung-Box (L1) (Q):                    nan   Jarque-Bera (JB):                 0.76\n",
      "Prob(Q):                               nan   Prob(JB):                         0.68\n",
      "Heteroskedasticity (H):               1.00   Skew:                             0.20\n",
      "Prob(H) (two-sided):                  1.00   Kurtosis:                         2.23\n",
      "===================================================================================\n",
      "\n",
      "Warnings:\n",
      "[1] Covariance matrix calculated using the outer product of gradients (complex-step).\n",
      "[2] Covariance matrix is singular or near-singular, with condition number 2.04e+29. Standard errors may be unstable.\n",
      "                               SARIMAX Results                                \n",
      "==============================================================================\n",
      "Dep. Variable:                   hcfc   No. Observations:                   25\n",
      "Model:                 ARIMA(1, 1, 1)   Log Likelihood                -245.197\n",
      "Date:                Sat, 27 Nov 2021   AIC                            496.395\n",
      "Time:                        16:12:51   BIC                            499.929\n",
      "Sample:                    01-01-1990   HQIC                           497.332\n",
      "                         - 01-01-2014                                         \n",
      "Covariance Type:                  opg                                         \n",
      "==============================================================================\n",
      "                 coef    std err          z      P>|z|      [0.025      0.975]\n",
      "------------------------------------------------------------------------------\n",
      "ar.L1          0.9999      0.018     54.650      0.000       0.964       1.036\n",
      "ma.L1         -0.9946      0.340     -2.922      0.003      -1.662      -0.327\n",
      "sigma2      4.196e+07   8.74e-09    4.8e+15      0.000     4.2e+07     4.2e+07\n",
      "===================================================================================\n",
      "Ljung-Box (L1) (Q):                    nan   Jarque-Bera (JB):                 0.08\n",
      "Prob(Q):                               nan   Prob(JB):                         0.96\n",
      "Heteroskedasticity (H):               0.26   Skew:                             0.13\n",
      "Prob(H) (two-sided):                  0.08   Kurtosis:                         2.89\n",
      "===================================================================================\n",
      "\n",
      "Warnings:\n",
      "[1] Covariance matrix calculated using the outer product of gradients (complex-step).\n",
      "[2] Covariance matrix is singular or near-singular, with condition number 1.29e+31. Standard errors may be unstable.\n",
      "                               SARIMAX Results                                \n",
      "==============================================================================\n",
      "Dep. Variable:                   hcfc   No. Observations:                   25\n",
      "Model:                 ARIMA(1, 1, 1)   Log Likelihood                -245.197\n",
      "Date:                Sat, 27 Nov 2021   AIC                            496.395\n",
      "Time:                        16:12:51   BIC                            499.929\n",
      "Sample:                    01-01-1990   HQIC                           497.332\n",
      "                         - 01-01-2014                                         \n",
      "Covariance Type:                  opg                                         \n",
      "==============================================================================\n",
      "                 coef    std err          z      P>|z|      [0.025      0.975]\n",
      "------------------------------------------------------------------------------\n",
      "ar.L1          0.9999      0.018     54.650      0.000       0.964       1.036\n",
      "ma.L1         -0.9946      0.340     -2.922      0.003      -1.662      -0.327\n",
      "sigma2      4.196e+07   8.74e-09    4.8e+15      0.000     4.2e+07     4.2e+07\n",
      "===================================================================================\n",
      "Ljung-Box (L1) (Q):                    nan   Jarque-Bera (JB):                 0.08\n",
      "Prob(Q):                               nan   Prob(JB):                         0.96\n",
      "Heteroskedasticity (H):               0.26   Skew:                             0.13\n",
      "Prob(H) (two-sided):                  0.08   Kurtosis:                         2.89\n",
      "===================================================================================\n",
      "\n",
      "Warnings:\n",
      "[1] Covariance matrix calculated using the outer product of gradients (complex-step).\n",
      "[2] Covariance matrix is singular or near-singular, with condition number 1.29e+31. Standard errors may be unstable.\n",
      "                               SARIMAX Results                                \n",
      "==============================================================================\n",
      "Dep. Variable:                   hcfc   No. Observations:                   25\n",
      "Model:                 ARIMA(1, 1, 1)   Log Likelihood                -245.197\n",
      "Date:                Sat, 27 Nov 2021   AIC                            496.395\n",
      "Time:                        16:12:51   BIC                            499.929\n",
      "Sample:                    01-01-1990   HQIC                           497.332\n",
      "                         - 01-01-2014                                         \n",
      "Covariance Type:                  opg                                         \n",
      "==============================================================================\n",
      "                 coef    std err          z      P>|z|      [0.025      0.975]\n",
      "------------------------------------------------------------------------------\n",
      "ar.L1          0.9999      0.018     54.650      0.000       0.964       1.036\n",
      "ma.L1         -0.9946      0.340     -2.922      0.003      -1.662      -0.327\n",
      "sigma2      4.196e+07   8.74e-09    4.8e+15      0.000     4.2e+07     4.2e+07\n",
      "===================================================================================\n",
      "Ljung-Box (L1) (Q):                    nan   Jarque-Bera (JB):                 0.08\n",
      "Prob(Q):                               nan   Prob(JB):                         0.96\n",
      "Heteroskedasticity (H):               0.26   Skew:                             0.13\n",
      "Prob(H) (two-sided):                  0.08   Kurtosis:                         2.89\n",
      "===================================================================================\n",
      "\n",
      "Warnings:\n",
      "[1] Covariance matrix calculated using the outer product of gradients (complex-step).\n",
      "[2] Covariance matrix is singular or near-singular, with condition number 1.29e+31. Standard errors may be unstable.\n",
      "                               SARIMAX Results                                \n",
      "==============================================================================\n",
      "Dep. Variable:                   hcfc   No. Observations:                   25\n",
      "Model:                 ARIMA(1, 1, 1)   Log Likelihood                -245.197\n",
      "Date:                Sat, 27 Nov 2021   AIC                            496.395\n",
      "Time:                        16:12:51   BIC                            499.929\n",
      "Sample:                    01-01-1990   HQIC                           497.332\n",
      "                         - 01-01-2014                                         \n",
      "Covariance Type:                  opg                                         \n",
      "==============================================================================\n",
      "                 coef    std err          z      P>|z|      [0.025      0.975]\n",
      "------------------------------------------------------------------------------\n",
      "ar.L1          0.9999      0.018     54.650      0.000       0.964       1.036\n",
      "ma.L1         -0.9946      0.340     -2.922      0.003      -1.662      -0.327\n",
      "sigma2      4.196e+07   8.74e-09    4.8e+15      0.000     4.2e+07     4.2e+07\n",
      "===================================================================================\n",
      "Ljung-Box (L1) (Q):                    nan   Jarque-Bera (JB):                 0.08\n",
      "Prob(Q):                               nan   Prob(JB):                         0.96\n",
      "Heteroskedasticity (H):               0.26   Skew:                             0.13\n",
      "Prob(H) (two-sided):                  0.08   Kurtosis:                         2.89\n",
      "===================================================================================\n",
      "\n",
      "Warnings:\n",
      "[1] Covariance matrix calculated using the outer product of gradients (complex-step).\n",
      "[2] Covariance matrix is singular or near-singular, with condition number 1.29e+31. Standard errors may be unstable.\n",
      "                               SARIMAX Results                                \n",
      "==============================================================================\n",
      "Dep. Variable:                   hcfc   No. Observations:                   25\n",
      "Model:                 ARIMA(1, 1, 1)   Log Likelihood                -245.197\n",
      "Date:                Sat, 27 Nov 2021   AIC                            496.395\n",
      "Time:                        16:12:51   BIC                            499.929\n",
      "Sample:                    01-01-1990   HQIC                           497.332\n",
      "                         - 01-01-2014                                         \n",
      "Covariance Type:                  opg                                         \n",
      "==============================================================================\n",
      "                 coef    std err          z      P>|z|      [0.025      0.975]\n",
      "------------------------------------------------------------------------------\n",
      "ar.L1          0.9999      0.018     54.650      0.000       0.964       1.036\n",
      "ma.L1         -0.9946      0.340     -2.922      0.003      -1.662      -0.327\n",
      "sigma2      4.196e+07   8.74e-09    4.8e+15      0.000     4.2e+07     4.2e+07\n",
      "===================================================================================\n",
      "Ljung-Box (L1) (Q):                    nan   Jarque-Bera (JB):                 0.08\n",
      "Prob(Q):                               nan   Prob(JB):                         0.96\n",
      "Heteroskedasticity (H):               0.26   Skew:                             0.13\n",
      "Prob(H) (two-sided):                  0.08   Kurtosis:                         2.89\n",
      "===================================================================================\n",
      "\n",
      "Warnings:\n",
      "[1] Covariance matrix calculated using the outer product of gradients (complex-step).\n",
      "[2] Covariance matrix is singular or near-singular, with condition number 1.29e+31. Standard errors may be unstable.\n",
      "                               SARIMAX Results                                \n",
      "==============================================================================\n",
      "Dep. Variable:                   hcfc   No. Observations:                   25\n",
      "Model:                 ARIMA(1, 1, 1)   Log Likelihood                -245.197\n",
      "Date:                Sat, 27 Nov 2021   AIC                            496.395\n",
      "Time:                        16:12:51   BIC                            499.929\n",
      "Sample:                    01-01-1990   HQIC                           497.332\n",
      "                         - 01-01-2014                                         \n",
      "Covariance Type:                  opg                                         \n",
      "==============================================================================\n",
      "                 coef    std err          z      P>|z|      [0.025      0.975]\n",
      "------------------------------------------------------------------------------\n",
      "ar.L1          0.9999      0.018     54.650      0.000       0.964       1.036\n",
      "ma.L1         -0.9946      0.340     -2.922      0.003      -1.662      -0.327\n",
      "sigma2      4.196e+07   8.74e-09    4.8e+15      0.000     4.2e+07     4.2e+07\n",
      "===================================================================================\n",
      "Ljung-Box (L1) (Q):                    nan   Jarque-Bera (JB):                 0.08\n",
      "Prob(Q):                               nan   Prob(JB):                         0.96\n",
      "Heteroskedasticity (H):               0.26   Skew:                             0.13\n",
      "Prob(H) (two-sided):                  0.08   Kurtosis:                         2.89\n",
      "===================================================================================\n",
      "\n",
      "Warnings:\n",
      "[1] Covariance matrix calculated using the outer product of gradients (complex-step).\n",
      "[2] Covariance matrix is singular or near-singular, with condition number 1.29e+31. Standard errors may be unstable.\n",
      "                               SARIMAX Results                                \n",
      "==============================================================================\n",
      "Dep. Variable:                   hcfc   No. Observations:                   25\n",
      "Model:                 ARIMA(1, 1, 1)   Log Likelihood                -245.197\n",
      "Date:                Sat, 27 Nov 2021   AIC                            496.395\n",
      "Time:                        16:12:52   BIC                            499.929\n",
      "Sample:                    01-01-1990   HQIC                           497.332\n",
      "                         - 01-01-2014                                         \n",
      "Covariance Type:                  opg                                         \n",
      "==============================================================================\n",
      "                 coef    std err          z      P>|z|      [0.025      0.975]\n",
      "------------------------------------------------------------------------------\n",
      "ar.L1          0.9999      0.018     54.650      0.000       0.964       1.036\n",
      "ma.L1         -0.9946      0.340     -2.922      0.003      -1.662      -0.327\n",
      "sigma2      4.196e+07   8.74e-09    4.8e+15      0.000     4.2e+07     4.2e+07\n",
      "===================================================================================\n",
      "Ljung-Box (L1) (Q):                    nan   Jarque-Bera (JB):                 0.08\n",
      "Prob(Q):                               nan   Prob(JB):                         0.96\n",
      "Heteroskedasticity (H):               0.26   Skew:                             0.13\n",
      "Prob(H) (two-sided):                  0.08   Kurtosis:                         2.89\n",
      "===================================================================================\n",
      "\n",
      "Warnings:\n",
      "[1] Covariance matrix calculated using the outer product of gradients (complex-step).\n",
      "[2] Covariance matrix is singular or near-singular, with condition number 1.29e+31. Standard errors may be unstable.\n",
      "                               SARIMAX Results                                \n",
      "==============================================================================\n",
      "Dep. Variable:                   hcfc   No. Observations:                   25\n",
      "Model:                 ARIMA(1, 1, 1)   Log Likelihood                -245.197\n",
      "Date:                Sat, 27 Nov 2021   AIC                            496.395\n",
      "Time:                        16:12:52   BIC                            499.929\n",
      "Sample:                    01-01-1990   HQIC                           497.332\n",
      "                         - 01-01-2014                                         \n",
      "Covariance Type:                  opg                                         \n",
      "==============================================================================\n",
      "                 coef    std err          z      P>|z|      [0.025      0.975]\n",
      "------------------------------------------------------------------------------\n",
      "ar.L1          0.9999      0.018     54.650      0.000       0.964       1.036\n",
      "ma.L1         -0.9946      0.340     -2.922      0.003      -1.662      -0.327\n",
      "sigma2      4.196e+07   8.74e-09    4.8e+15      0.000     4.2e+07     4.2e+07\n",
      "===================================================================================\n",
      "Ljung-Box (L1) (Q):                    nan   Jarque-Bera (JB):                 0.08\n",
      "Prob(Q):                               nan   Prob(JB):                         0.96\n",
      "Heteroskedasticity (H):               0.26   Skew:                             0.13\n",
      "Prob(H) (two-sided):                  0.08   Kurtosis:                         2.89\n",
      "===================================================================================\n",
      "\n",
      "Warnings:\n",
      "[1] Covariance matrix calculated using the outer product of gradients (complex-step).\n",
      "[2] Covariance matrix is singular or near-singular, with condition number 1.29e+31. Standard errors may be unstable.\n",
      "                               SARIMAX Results                                \n",
      "==============================================================================\n",
      "Dep. Variable:                   hcfc   No. Observations:                   25\n",
      "Model:                 ARIMA(1, 1, 1)   Log Likelihood                -245.197\n",
      "Date:                Sat, 27 Nov 2021   AIC                            496.395\n",
      "Time:                        16:12:52   BIC                            499.929\n",
      "Sample:                    01-01-1990   HQIC                           497.332\n",
      "                         - 01-01-2014                                         \n",
      "Covariance Type:                  opg                                         \n",
      "==============================================================================\n",
      "                 coef    std err          z      P>|z|      [0.025      0.975]\n",
      "------------------------------------------------------------------------------\n",
      "ar.L1          0.9999      0.018     54.650      0.000       0.964       1.036\n",
      "ma.L1         -0.9946      0.340     -2.922      0.003      -1.662      -0.327\n",
      "sigma2      4.196e+07   8.74e-09    4.8e+15      0.000     4.2e+07     4.2e+07\n",
      "===================================================================================\n",
      "Ljung-Box (L1) (Q):                    nan   Jarque-Bera (JB):                 0.08\n",
      "Prob(Q):                               nan   Prob(JB):                         0.96\n",
      "Heteroskedasticity (H):               0.26   Skew:                             0.13\n",
      "Prob(H) (two-sided):                  0.08   Kurtosis:                         2.89\n",
      "===================================================================================\n",
      "\n",
      "Warnings:\n",
      "[1] Covariance matrix calculated using the outer product of gradients (complex-step).\n",
      "[2] Covariance matrix is singular or near-singular, with condition number 1.29e+31. Standard errors may be unstable.\n",
      "                               SARIMAX Results                                \n",
      "==============================================================================\n",
      "Dep. Variable:                    n2o   No. Observations:                   25\n",
      "Model:                 ARIMA(1, 1, 1)   Log Likelihood                -265.193\n",
      "Date:                Sat, 27 Nov 2021   AIC                            536.385\n",
      "Time:                        16:12:52   BIC                            539.919\n",
      "Sample:                    01-01-1990   HQIC                           537.323\n",
      "                         - 01-01-2014                                         \n",
      "Covariance Type:                  opg                                         \n",
      "==============================================================================\n",
      "                 coef    std err          z      P>|z|      [0.025      0.975]\n",
      "------------------------------------------------------------------------------\n",
      "ar.L1         -0.1389      1.359     -0.102      0.919      -2.803       2.526\n",
      "ma.L1          0.0974      1.370      0.071      0.943      -2.587       2.782\n",
      "sigma2      1.688e+08   9.52e-09   1.77e+16      0.000    1.69e+08    1.69e+08\n",
      "===================================================================================\n",
      "Ljung-Box (L1) (Q):                    nan   Jarque-Bera (JB):                 1.32\n",
      "Prob(Q):                               nan   Prob(JB):                         0.52\n",
      "Heteroskedasticity (H):               0.47   Skew:                            -0.56\n",
      "Prob(H) (two-sided):                  0.31   Kurtosis:                         2.72\n",
      "===================================================================================\n",
      "\n",
      "Warnings:\n",
      "[1] Covariance matrix calculated using the outer product of gradients (complex-step).\n",
      "[2] Covariance matrix is singular or near-singular, with condition number 4.1e+32. Standard errors may be unstable.\n",
      "                               SARIMAX Results                                \n",
      "==============================================================================\n",
      "Dep. Variable:                    n2o   No. Observations:                   25\n",
      "Model:                 ARIMA(1, 1, 1)   Log Likelihood                -265.193\n",
      "Date:                Sat, 27 Nov 2021   AIC                            536.385\n",
      "Time:                        16:12:52   BIC                            539.919\n",
      "Sample:                    01-01-1990   HQIC                           537.323\n",
      "                         - 01-01-2014                                         \n",
      "Covariance Type:                  opg                                         \n",
      "==============================================================================\n",
      "                 coef    std err          z      P>|z|      [0.025      0.975]\n",
      "------------------------------------------------------------------------------\n",
      "ar.L1         -0.1389      1.359     -0.102      0.919      -2.803       2.526\n",
      "ma.L1          0.0974      1.370      0.071      0.943      -2.587       2.782\n",
      "sigma2      1.688e+08   9.52e-09   1.77e+16      0.000    1.69e+08    1.69e+08\n",
      "===================================================================================\n",
      "Ljung-Box (L1) (Q):                    nan   Jarque-Bera (JB):                 1.32\n",
      "Prob(Q):                               nan   Prob(JB):                         0.52\n",
      "Heteroskedasticity (H):               0.47   Skew:                            -0.56\n",
      "Prob(H) (two-sided):                  0.31   Kurtosis:                         2.72\n",
      "===================================================================================\n",
      "\n",
      "Warnings:\n",
      "[1] Covariance matrix calculated using the outer product of gradients (complex-step).\n",
      "[2] Covariance matrix is singular or near-singular, with condition number 4.1e+32. Standard errors may be unstable.\n",
      "                               SARIMAX Results                                \n",
      "==============================================================================\n",
      "Dep. Variable:                    n2o   No. Observations:                   25\n",
      "Model:                 ARIMA(1, 1, 1)   Log Likelihood                -265.193\n",
      "Date:                Sat, 27 Nov 2021   AIC                            536.385\n",
      "Time:                        16:12:52   BIC                            539.919\n",
      "Sample:                    01-01-1990   HQIC                           537.323\n",
      "                         - 01-01-2014                                         \n",
      "Covariance Type:                  opg                                         \n",
      "==============================================================================\n",
      "                 coef    std err          z      P>|z|      [0.025      0.975]\n",
      "------------------------------------------------------------------------------\n",
      "ar.L1         -0.1389      1.359     -0.102      0.919      -2.803       2.526\n",
      "ma.L1          0.0974      1.370      0.071      0.943      -2.587       2.782\n",
      "sigma2      1.688e+08   9.52e-09   1.77e+16      0.000    1.69e+08    1.69e+08\n",
      "===================================================================================\n",
      "Ljung-Box (L1) (Q):                    nan   Jarque-Bera (JB):                 1.32\n",
      "Prob(Q):                               nan   Prob(JB):                         0.52\n",
      "Heteroskedasticity (H):               0.47   Skew:                            -0.56\n",
      "Prob(H) (two-sided):                  0.31   Kurtosis:                         2.72\n",
      "===================================================================================\n",
      "\n",
      "Warnings:\n",
      "[1] Covariance matrix calculated using the outer product of gradients (complex-step).\n",
      "[2] Covariance matrix is singular or near-singular, with condition number 4.1e+32. Standard errors may be unstable.\n",
      "                               SARIMAX Results                                \n",
      "==============================================================================\n",
      "Dep. Variable:                    n2o   No. Observations:                   25\n",
      "Model:                 ARIMA(1, 1, 1)   Log Likelihood                -265.193\n",
      "Date:                Sat, 27 Nov 2021   AIC                            536.385\n",
      "Time:                        16:12:52   BIC                            539.919\n",
      "Sample:                    01-01-1990   HQIC                           537.323\n",
      "                         - 01-01-2014                                         \n",
      "Covariance Type:                  opg                                         \n",
      "==============================================================================\n",
      "                 coef    std err          z      P>|z|      [0.025      0.975]\n",
      "------------------------------------------------------------------------------\n",
      "ar.L1         -0.1389      1.359     -0.102      0.919      -2.803       2.526\n",
      "ma.L1          0.0974      1.370      0.071      0.943      -2.587       2.782\n",
      "sigma2      1.688e+08   9.52e-09   1.77e+16      0.000    1.69e+08    1.69e+08\n",
      "===================================================================================\n",
      "Ljung-Box (L1) (Q):                    nan   Jarque-Bera (JB):                 1.32\n",
      "Prob(Q):                               nan   Prob(JB):                         0.52\n",
      "Heteroskedasticity (H):               0.47   Skew:                            -0.56\n",
      "Prob(H) (two-sided):                  0.31   Kurtosis:                         2.72\n",
      "===================================================================================\n",
      "\n",
      "Warnings:\n",
      "[1] Covariance matrix calculated using the outer product of gradients (complex-step).\n",
      "[2] Covariance matrix is singular or near-singular, with condition number 4.1e+32. Standard errors may be unstable.\n",
      "                               SARIMAX Results                                \n",
      "==============================================================================\n",
      "Dep. Variable:                    n2o   No. Observations:                   25\n",
      "Model:                 ARIMA(1, 1, 1)   Log Likelihood                -265.193\n",
      "Date:                Sat, 27 Nov 2021   AIC                            536.385\n",
      "Time:                        16:12:52   BIC                            539.919\n",
      "Sample:                    01-01-1990   HQIC                           537.323\n",
      "                         - 01-01-2014                                         \n",
      "Covariance Type:                  opg                                         \n",
      "==============================================================================\n",
      "                 coef    std err          z      P>|z|      [0.025      0.975]\n",
      "------------------------------------------------------------------------------\n",
      "ar.L1         -0.1389      1.359     -0.102      0.919      -2.803       2.526\n",
      "ma.L1          0.0974      1.370      0.071      0.943      -2.587       2.782\n",
      "sigma2      1.688e+08   9.52e-09   1.77e+16      0.000    1.69e+08    1.69e+08\n",
      "===================================================================================\n",
      "Ljung-Box (L1) (Q):                    nan   Jarque-Bera (JB):                 1.32\n",
      "Prob(Q):                               nan   Prob(JB):                         0.52\n",
      "Heteroskedasticity (H):               0.47   Skew:                            -0.56\n",
      "Prob(H) (two-sided):                  0.31   Kurtosis:                         2.72\n",
      "===================================================================================\n",
      "\n",
      "Warnings:\n",
      "[1] Covariance matrix calculated using the outer product of gradients (complex-step).\n",
      "[2] Covariance matrix is singular or near-singular, with condition number 4.1e+32. Standard errors may be unstable.\n",
      "                               SARIMAX Results                                \n",
      "==============================================================================\n",
      "Dep. Variable:                    n2o   No. Observations:                   25\n",
      "Model:                 ARIMA(1, 1, 1)   Log Likelihood                -265.193\n",
      "Date:                Sat, 27 Nov 2021   AIC                            536.385\n",
      "Time:                        16:12:52   BIC                            539.919\n",
      "Sample:                    01-01-1990   HQIC                           537.323\n",
      "                         - 01-01-2014                                         \n",
      "Covariance Type:                  opg                                         \n",
      "==============================================================================\n",
      "                 coef    std err          z      P>|z|      [0.025      0.975]\n",
      "------------------------------------------------------------------------------\n",
      "ar.L1         -0.1389      1.359     -0.102      0.919      -2.803       2.526\n",
      "ma.L1          0.0974      1.370      0.071      0.943      -2.587       2.782\n",
      "sigma2      1.688e+08   9.52e-09   1.77e+16      0.000    1.69e+08    1.69e+08\n",
      "===================================================================================\n",
      "Ljung-Box (L1) (Q):                    nan   Jarque-Bera (JB):                 1.32\n",
      "Prob(Q):                               nan   Prob(JB):                         0.52\n",
      "Heteroskedasticity (H):               0.47   Skew:                            -0.56\n",
      "Prob(H) (two-sided):                  0.31   Kurtosis:                         2.72\n",
      "===================================================================================\n",
      "\n",
      "Warnings:\n",
      "[1] Covariance matrix calculated using the outer product of gradients (complex-step).\n",
      "[2] Covariance matrix is singular or near-singular, with condition number 4.1e+32. Standard errors may be unstable.\n",
      "                               SARIMAX Results                                \n",
      "==============================================================================\n",
      "Dep. Variable:                    n2o   No. Observations:                   25\n",
      "Model:                 ARIMA(1, 1, 1)   Log Likelihood                -265.193\n",
      "Date:                Sat, 27 Nov 2021   AIC                            536.385\n",
      "Time:                        16:12:52   BIC                            539.919\n",
      "Sample:                    01-01-1990   HQIC                           537.323\n",
      "                         - 01-01-2014                                         \n",
      "Covariance Type:                  opg                                         \n",
      "==============================================================================\n",
      "                 coef    std err          z      P>|z|      [0.025      0.975]\n",
      "------------------------------------------------------------------------------\n",
      "ar.L1         -0.1389      1.359     -0.102      0.919      -2.803       2.526\n",
      "ma.L1          0.0974      1.370      0.071      0.943      -2.587       2.782\n",
      "sigma2      1.688e+08   9.52e-09   1.77e+16      0.000    1.69e+08    1.69e+08\n",
      "===================================================================================\n",
      "Ljung-Box (L1) (Q):                    nan   Jarque-Bera (JB):                 1.32\n",
      "Prob(Q):                               nan   Prob(JB):                         0.52\n",
      "Heteroskedasticity (H):               0.47   Skew:                            -0.56\n",
      "Prob(H) (two-sided):                  0.31   Kurtosis:                         2.72\n",
      "===================================================================================\n",
      "\n",
      "Warnings:\n",
      "[1] Covariance matrix calculated using the outer product of gradients (complex-step).\n",
      "[2] Covariance matrix is singular or near-singular, with condition number 4.1e+32. Standard errors may be unstable.\n",
      "                               SARIMAX Results                                \n",
      "==============================================================================\n",
      "Dep. Variable:                    n2o   No. Observations:                   25\n",
      "Model:                 ARIMA(1, 1, 1)   Log Likelihood                -265.193\n",
      "Date:                Sat, 27 Nov 2021   AIC                            536.385\n",
      "Time:                        16:12:52   BIC                            539.919\n",
      "Sample:                    01-01-1990   HQIC                           537.323\n",
      "                         - 01-01-2014                                         \n",
      "Covariance Type:                  opg                                         \n",
      "==============================================================================\n",
      "                 coef    std err          z      P>|z|      [0.025      0.975]\n",
      "------------------------------------------------------------------------------\n",
      "ar.L1         -0.1389      1.359     -0.102      0.919      -2.803       2.526\n",
      "ma.L1          0.0974      1.370      0.071      0.943      -2.587       2.782\n",
      "sigma2      1.688e+08   9.52e-09   1.77e+16      0.000    1.69e+08    1.69e+08\n",
      "===================================================================================\n",
      "Ljung-Box (L1) (Q):                    nan   Jarque-Bera (JB):                 1.32\n",
      "Prob(Q):                               nan   Prob(JB):                         0.52\n",
      "Heteroskedasticity (H):               0.47   Skew:                            -0.56\n",
      "Prob(H) (two-sided):                  0.31   Kurtosis:                         2.72\n",
      "===================================================================================\n",
      "\n",
      "Warnings:\n",
      "[1] Covariance matrix calculated using the outer product of gradients (complex-step).\n",
      "[2] Covariance matrix is singular or near-singular, with condition number 4.1e+32. Standard errors may be unstable.\n",
      "                               SARIMAX Results                                \n",
      "==============================================================================\n",
      "Dep. Variable:                    n2o   No. Observations:                   25\n",
      "Model:                 ARIMA(1, 1, 1)   Log Likelihood                -265.193\n",
      "Date:                Sat, 27 Nov 2021   AIC                            536.385\n",
      "Time:                        16:12:53   BIC                            539.919\n",
      "Sample:                    01-01-1990   HQIC                           537.323\n",
      "                         - 01-01-2014                                         \n",
      "Covariance Type:                  opg                                         \n",
      "==============================================================================\n",
      "                 coef    std err          z      P>|z|      [0.025      0.975]\n",
      "------------------------------------------------------------------------------\n",
      "ar.L1         -0.1389      1.359     -0.102      0.919      -2.803       2.526\n",
      "ma.L1          0.0974      1.370      0.071      0.943      -2.587       2.782\n",
      "sigma2      1.688e+08   9.52e-09   1.77e+16      0.000    1.69e+08    1.69e+08\n",
      "===================================================================================\n",
      "Ljung-Box (L1) (Q):                    nan   Jarque-Bera (JB):                 1.32\n",
      "Prob(Q):                               nan   Prob(JB):                         0.52\n",
      "Heteroskedasticity (H):               0.47   Skew:                            -0.56\n",
      "Prob(H) (two-sided):                  0.31   Kurtosis:                         2.72\n",
      "===================================================================================\n",
      "\n",
      "Warnings:\n",
      "[1] Covariance matrix calculated using the outer product of gradients (complex-step).\n",
      "[2] Covariance matrix is singular or near-singular, with condition number 4.1e+32. Standard errors may be unstable.\n",
      "                               SARIMAX Results                                \n",
      "==============================================================================\n",
      "Dep. Variable:                    co2   No. Observations:                   25\n",
      "Model:                 ARIMA(1, 1, 1)   Log Likelihood                -319.719\n",
      "Date:                Sat, 27 Nov 2021   AIC                            645.437\n",
      "Time:                        16:12:53   BIC                            648.972\n",
      "Sample:                    01-01-1990   HQIC                           646.375\n",
      "                         - 01-01-2014                                         \n",
      "Covariance Type:                  opg                                         \n",
      "==============================================================================\n",
      "                 coef    std err          z      P>|z|      [0.025      0.975]\n",
      "------------------------------------------------------------------------------\n",
      "ar.L1         -0.3304      3.341     -0.099      0.921      -6.878       6.217\n",
      "ma.L1          0.3190      3.421      0.093      0.926      -6.385       7.024\n",
      "sigma2      1.706e+10   1.81e-09   9.43e+18      0.000    1.71e+10    1.71e+10\n",
      "===================================================================================\n",
      "Ljung-Box (L1) (Q):                    nan   Jarque-Bera (JB):                12.81\n",
      "Prob(Q):                               nan   Prob(JB):                         0.00\n",
      "Heteroskedasticity (H):               4.63   Skew:                            -1.46\n",
      "Prob(H) (two-sided):                  0.04   Kurtosis:                         5.07\n",
      "===================================================================================\n",
      "\n",
      "Warnings:\n",
      "[1] Covariance matrix calculated using the outer product of gradients (complex-step).\n",
      "[2] Covariance matrix is singular or near-singular, with condition number 2.41e+35. Standard errors may be unstable.\n",
      "                               SARIMAX Results                                \n",
      "==============================================================================\n",
      "Dep. Variable:                    co2   No. Observations:                   25\n",
      "Model:                 ARIMA(1, 1, 1)   Log Likelihood                -319.719\n",
      "Date:                Sat, 27 Nov 2021   AIC                            645.437\n",
      "Time:                        16:12:53   BIC                            648.972\n",
      "Sample:                    01-01-1990   HQIC                           646.375\n",
      "                         - 01-01-2014                                         \n",
      "Covariance Type:                  opg                                         \n",
      "==============================================================================\n",
      "                 coef    std err          z      P>|z|      [0.025      0.975]\n",
      "------------------------------------------------------------------------------\n",
      "ar.L1         -0.3304      3.341     -0.099      0.921      -6.878       6.217\n",
      "ma.L1          0.3190      3.421      0.093      0.926      -6.385       7.024\n",
      "sigma2      1.706e+10   1.81e-09   9.43e+18      0.000    1.71e+10    1.71e+10\n",
      "===================================================================================\n",
      "Ljung-Box (L1) (Q):                    nan   Jarque-Bera (JB):                12.81\n",
      "Prob(Q):                               nan   Prob(JB):                         0.00\n",
      "Heteroskedasticity (H):               4.63   Skew:                            -1.46\n",
      "Prob(H) (two-sided):                  0.04   Kurtosis:                         5.07\n",
      "===================================================================================\n",
      "\n",
      "Warnings:\n",
      "[1] Covariance matrix calculated using the outer product of gradients (complex-step).\n",
      "[2] Covariance matrix is singular or near-singular, with condition number 2.41e+35. Standard errors may be unstable.\n",
      "                               SARIMAX Results                                \n",
      "==============================================================================\n",
      "Dep. Variable:                    co2   No. Observations:                   25\n",
      "Model:                 ARIMA(1, 1, 1)   Log Likelihood                -319.719\n",
      "Date:                Sat, 27 Nov 2021   AIC                            645.437\n",
      "Time:                        16:12:53   BIC                            648.972\n",
      "Sample:                    01-01-1990   HQIC                           646.375\n",
      "                         - 01-01-2014                                         \n",
      "Covariance Type:                  opg                                         \n",
      "==============================================================================\n",
      "                 coef    std err          z      P>|z|      [0.025      0.975]\n",
      "------------------------------------------------------------------------------\n",
      "ar.L1         -0.3304      3.341     -0.099      0.921      -6.878       6.217\n",
      "ma.L1          0.3190      3.421      0.093      0.926      -6.385       7.024\n",
      "sigma2      1.706e+10   1.81e-09   9.43e+18      0.000    1.71e+10    1.71e+10\n",
      "===================================================================================\n",
      "Ljung-Box (L1) (Q):                    nan   Jarque-Bera (JB):                12.81\n",
      "Prob(Q):                               nan   Prob(JB):                         0.00\n",
      "Heteroskedasticity (H):               4.63   Skew:                            -1.46\n",
      "Prob(H) (two-sided):                  0.04   Kurtosis:                         5.07\n",
      "===================================================================================\n",
      "\n",
      "Warnings:\n",
      "[1] Covariance matrix calculated using the outer product of gradients (complex-step).\n",
      "[2] Covariance matrix is singular or near-singular, with condition number 2.41e+35. Standard errors may be unstable.\n",
      "                               SARIMAX Results                                \n",
      "==============================================================================\n",
      "Dep. Variable:                    co2   No. Observations:                   25\n",
      "Model:                 ARIMA(1, 1, 1)   Log Likelihood                -319.719\n",
      "Date:                Sat, 27 Nov 2021   AIC                            645.437\n",
      "Time:                        16:12:53   BIC                            648.972\n",
      "Sample:                    01-01-1990   HQIC                           646.375\n",
      "                         - 01-01-2014                                         \n",
      "Covariance Type:                  opg                                         \n",
      "==============================================================================\n",
      "                 coef    std err          z      P>|z|      [0.025      0.975]\n",
      "------------------------------------------------------------------------------\n",
      "ar.L1         -0.3304      3.341     -0.099      0.921      -6.878       6.217\n",
      "ma.L1          0.3190      3.421      0.093      0.926      -6.385       7.024\n",
      "sigma2      1.706e+10   1.81e-09   9.43e+18      0.000    1.71e+10    1.71e+10\n",
      "===================================================================================\n",
      "Ljung-Box (L1) (Q):                    nan   Jarque-Bera (JB):                12.81\n",
      "Prob(Q):                               nan   Prob(JB):                         0.00\n",
      "Heteroskedasticity (H):               4.63   Skew:                            -1.46\n",
      "Prob(H) (two-sided):                  0.04   Kurtosis:                         5.07\n",
      "===================================================================================\n",
      "\n",
      "Warnings:\n",
      "[1] Covariance matrix calculated using the outer product of gradients (complex-step).\n",
      "[2] Covariance matrix is singular or near-singular, with condition number 2.41e+35. Standard errors may be unstable.\n",
      "                               SARIMAX Results                                \n",
      "==============================================================================\n",
      "Dep. Variable:                    co2   No. Observations:                   25\n",
      "Model:                 ARIMA(1, 1, 1)   Log Likelihood                -319.719\n",
      "Date:                Sat, 27 Nov 2021   AIC                            645.437\n",
      "Time:                        16:12:53   BIC                            648.972\n",
      "Sample:                    01-01-1990   HQIC                           646.375\n",
      "                         - 01-01-2014                                         \n",
      "Covariance Type:                  opg                                         \n",
      "==============================================================================\n",
      "                 coef    std err          z      P>|z|      [0.025      0.975]\n",
      "------------------------------------------------------------------------------\n",
      "ar.L1         -0.3304      3.341     -0.099      0.921      -6.878       6.217\n",
      "ma.L1          0.3190      3.421      0.093      0.926      -6.385       7.024\n",
      "sigma2      1.706e+10   1.81e-09   9.43e+18      0.000    1.71e+10    1.71e+10\n",
      "===================================================================================\n",
      "Ljung-Box (L1) (Q):                    nan   Jarque-Bera (JB):                12.81\n",
      "Prob(Q):                               nan   Prob(JB):                         0.00\n",
      "Heteroskedasticity (H):               4.63   Skew:                            -1.46\n",
      "Prob(H) (two-sided):                  0.04   Kurtosis:                         5.07\n",
      "===================================================================================\n",
      "\n",
      "Warnings:\n",
      "[1] Covariance matrix calculated using the outer product of gradients (complex-step).\n",
      "[2] Covariance matrix is singular or near-singular, with condition number 2.41e+35. Standard errors may be unstable.\n",
      "                               SARIMAX Results                                \n",
      "==============================================================================\n",
      "Dep. Variable:                    co2   No. Observations:                   25\n",
      "Model:                 ARIMA(1, 1, 1)   Log Likelihood                -319.719\n",
      "Date:                Sat, 27 Nov 2021   AIC                            645.437\n",
      "Time:                        16:12:53   BIC                            648.972\n",
      "Sample:                    01-01-1990   HQIC                           646.375\n",
      "                         - 01-01-2014                                         \n",
      "Covariance Type:                  opg                                         \n",
      "==============================================================================\n",
      "                 coef    std err          z      P>|z|      [0.025      0.975]\n",
      "------------------------------------------------------------------------------\n",
      "ar.L1         -0.3304      3.341     -0.099      0.921      -6.878       6.217\n",
      "ma.L1          0.3190      3.421      0.093      0.926      -6.385       7.024\n",
      "sigma2      1.706e+10   1.81e-09   9.43e+18      0.000    1.71e+10    1.71e+10\n",
      "===================================================================================\n",
      "Ljung-Box (L1) (Q):                    nan   Jarque-Bera (JB):                12.81\n",
      "Prob(Q):                               nan   Prob(JB):                         0.00\n",
      "Heteroskedasticity (H):               4.63   Skew:                            -1.46\n",
      "Prob(H) (two-sided):                  0.04   Kurtosis:                         5.07\n",
      "===================================================================================\n",
      "\n",
      "Warnings:\n",
      "[1] Covariance matrix calculated using the outer product of gradients (complex-step).\n",
      "[2] Covariance matrix is singular or near-singular, with condition number 2.41e+35. Standard errors may be unstable.\n",
      "                               SARIMAX Results                                \n",
      "==============================================================================\n",
      "Dep. Variable:                    co2   No. Observations:                   25\n",
      "Model:                 ARIMA(1, 1, 1)   Log Likelihood                -319.719\n",
      "Date:                Sat, 27 Nov 2021   AIC                            645.437\n",
      "Time:                        16:12:53   BIC                            648.972\n",
      "Sample:                    01-01-1990   HQIC                           646.375\n",
      "                         - 01-01-2014                                         \n",
      "Covariance Type:                  opg                                         \n",
      "==============================================================================\n",
      "                 coef    std err          z      P>|z|      [0.025      0.975]\n",
      "------------------------------------------------------------------------------\n",
      "ar.L1         -0.3304      3.341     -0.099      0.921      -6.878       6.217\n",
      "ma.L1          0.3190      3.421      0.093      0.926      -6.385       7.024\n",
      "sigma2      1.706e+10   1.81e-09   9.43e+18      0.000    1.71e+10    1.71e+10\n",
      "===================================================================================\n",
      "Ljung-Box (L1) (Q):                    nan   Jarque-Bera (JB):                12.81\n",
      "Prob(Q):                               nan   Prob(JB):                         0.00\n",
      "Heteroskedasticity (H):               4.63   Skew:                            -1.46\n",
      "Prob(H) (two-sided):                  0.04   Kurtosis:                         5.07\n",
      "===================================================================================\n",
      "\n",
      "Warnings:\n",
      "[1] Covariance matrix calculated using the outer product of gradients (complex-step).\n",
      "[2] Covariance matrix is singular or near-singular, with condition number 2.41e+35. Standard errors may be unstable.\n",
      "                               SARIMAX Results                                \n",
      "==============================================================================\n",
      "Dep. Variable:                    co2   No. Observations:                   25\n",
      "Model:                 ARIMA(1, 1, 1)   Log Likelihood                -319.719\n",
      "Date:                Sat, 27 Nov 2021   AIC                            645.437\n",
      "Time:                        16:12:53   BIC                            648.972\n",
      "Sample:                    01-01-1990   HQIC                           646.375\n",
      "                         - 01-01-2014                                         \n",
      "Covariance Type:                  opg                                         \n",
      "==============================================================================\n",
      "                 coef    std err          z      P>|z|      [0.025      0.975]\n",
      "------------------------------------------------------------------------------\n",
      "ar.L1         -0.3304      3.341     -0.099      0.921      -6.878       6.217\n",
      "ma.L1          0.3190      3.421      0.093      0.926      -6.385       7.024\n",
      "sigma2      1.706e+10   1.81e-09   9.43e+18      0.000    1.71e+10    1.71e+10\n",
      "===================================================================================\n",
      "Ljung-Box (L1) (Q):                    nan   Jarque-Bera (JB):                12.81\n",
      "Prob(Q):                               nan   Prob(JB):                         0.00\n",
      "Heteroskedasticity (H):               4.63   Skew:                            -1.46\n",
      "Prob(H) (two-sided):                  0.04   Kurtosis:                         5.07\n",
      "===================================================================================\n",
      "\n",
      "Warnings:\n",
      "[1] Covariance matrix calculated using the outer product of gradients (complex-step).\n",
      "[2] Covariance matrix is singular or near-singular, with condition number 2.41e+35. Standard errors may be unstable.\n",
      "                               SARIMAX Results                                \n",
      "==============================================================================\n",
      "Dep. Variable:                    co2   No. Observations:                   25\n",
      "Model:                 ARIMA(1, 1, 1)   Log Likelihood                -319.719\n",
      "Date:                Sat, 27 Nov 2021   AIC                            645.437\n",
      "Time:                        16:12:53   BIC                            648.972\n",
      "Sample:                    01-01-1990   HQIC                           646.375\n",
      "                         - 01-01-2014                                         \n",
      "Covariance Type:                  opg                                         \n",
      "==============================================================================\n",
      "                 coef    std err          z      P>|z|      [0.025      0.975]\n",
      "------------------------------------------------------------------------------\n",
      "ar.L1         -0.3304      3.341     -0.099      0.921      -6.878       6.217\n",
      "ma.L1          0.3190      3.421      0.093      0.926      -6.385       7.024\n",
      "sigma2      1.706e+10   1.81e-09   9.43e+18      0.000    1.71e+10    1.71e+10\n",
      "===================================================================================\n",
      "Ljung-Box (L1) (Q):                    nan   Jarque-Bera (JB):                12.81\n",
      "Prob(Q):                               nan   Prob(JB):                         0.00\n",
      "Heteroskedasticity (H):               4.63   Skew:                            -1.46\n",
      "Prob(H) (two-sided):                  0.04   Kurtosis:                         5.07\n",
      "===================================================================================\n",
      "\n",
      "Warnings:\n",
      "[1] Covariance matrix calculated using the outer product of gradients (complex-step).\n",
      "[2] Covariance matrix is singular or near-singular, with condition number 2.41e+35. Standard errors may be unstable.\n"
     ]
    }
   ],
   "source": [
    "l = [df_usa_methane, df_usa_hcfc, df_usa_n2o, df_usa_co2]\n",
    "\n",
    "future_values = []\n",
    "\n",
    "\n",
    "# Model Summary for Greenhouse Gases\n",
    "for gas in l:\n",
    "\n",
    "    p_range = q_range = list(range(0,3))  # taking values from 0 to 2\n",
    "    \n",
    "    # Directly converting the index of gas dataframe changes it to become a DateTimeIndex so we converted and saved it to a temporary dataframe\n",
    "    temp = pd.to_datetime(gas.index,format = '%Y')\n",
    "    gas['year'] = temp\n",
    "    gas.set_index('year',inplace=True)\n",
    "    \n",
    "    aic_values = []\n",
    "    bic_values = []\n",
    "    pq_values = []\n",
    "    \n",
    "    for p in p_range:\n",
    "        for q in q_range:\n",
    "            try:\n",
    "                model = ARIMA(gas, order=(1,1,1))\n",
    "                results = model.fit()\n",
    "                print(results.summary())\n",
    "                #aic_values.append(results.aic)\n",
    "                #bic_values.append(results.bic)\n",
    "                #pq_values.append((p, q))\n",
    "            except:\n",
    "                pass\n",
    "\n",
    "    # (p,q) corresponding to lowest AIC score\n",
    "    #best_pq = pq_values[aic_values.index(min(aic_values))]  \n",
    "\n",
    "    #arima_model = ARIMA(gas, order=(best_pq[0], 0, best_pq[1])).fit()\n",
    "    #out_of_sample_forecast = arima_model.forecast(steps=10)[0]\n",
    "   \n",
    "       #for i in out_of_sample_forecast:\n",
    "#         future_values.append(i)\n",
    "\n",
    "# # Separating and storing them in different lists which will then be converted to a dataframe\n",
    "# future_methane = future_values[:10]\n",
    "# future_co2 = future_values[30:40]\n",
    "# future_hcfc = future_values[10:20]\n",
    "\n",
    "# # Data Frame that stores predicted Greenhouse gas values\n",
    "# future_gg = pd.DataFrame({'Methane':future_methane,'CO2':future_co2,'HCFC':future_hcfc},columns = ['Methane','CO2','HCFC'])\n",
    "# future_gg.head()"
   ]
  },
  {
   "cell_type": "code",
   "execution_count": 98,
   "metadata": {},
   "outputs": [
    {
     "name": "stdout",
     "output_type": "stream",
     "text": [
      "                               SARIMAX Results                                \n",
      "==============================================================================\n",
      "Dep. Variable:                    co2   No. Observations:                   25\n",
      "Model:                 ARIMA(1, 1, 1)   Log Likelihood                -319.719\n",
      "Date:                Sat, 27 Nov 2021   AIC                            645.437\n",
      "Time:                        16:15:12   BIC                            648.972\n",
      "Sample:                    01-01-1990   HQIC                           646.375\n",
      "                         - 01-01-2014                                         \n",
      "Covariance Type:                  opg                                         \n",
      "==============================================================================\n",
      "                 coef    std err          z      P>|z|      [0.025      0.975]\n",
      "------------------------------------------------------------------------------\n",
      "ar.L1         -0.3304      3.341     -0.099      0.921      -6.878       6.217\n",
      "ma.L1          0.3190      3.421      0.093      0.926      -6.385       7.024\n",
      "sigma2      1.706e+10   1.81e-09   9.43e+18      0.000    1.71e+10    1.71e+10\n",
      "===================================================================================\n",
      "Ljung-Box (L1) (Q):                    nan   Jarque-Bera (JB):                12.81\n",
      "Prob(Q):                               nan   Prob(JB):                         0.00\n",
      "Heteroskedasticity (H):               4.63   Skew:                            -1.46\n",
      "Prob(H) (two-sided):                  0.04   Kurtosis:                         5.07\n",
      "===================================================================================\n",
      "\n",
      "Warnings:\n",
      "[1] Covariance matrix calculated using the outer product of gradients (complex-step).\n",
      "[2] Covariance matrix is singular or near-singular, with condition number 2.41e+35. Standard errors may be unstable.\n",
      "                               SARIMAX Results                                \n",
      "==============================================================================\n",
      "Dep. Variable:                    co2   No. Observations:                   25\n",
      "Model:                 ARIMA(1, 1, 1)   Log Likelihood                -319.719\n",
      "Date:                Sat, 27 Nov 2021   AIC                            645.437\n",
      "Time:                        16:15:12   BIC                            648.972\n",
      "Sample:                    01-01-1990   HQIC                           646.375\n",
      "                         - 01-01-2014                                         \n",
      "Covariance Type:                  opg                                         \n",
      "==============================================================================\n",
      "                 coef    std err          z      P>|z|      [0.025      0.975]\n",
      "------------------------------------------------------------------------------\n",
      "ar.L1         -0.3304      3.341     -0.099      0.921      -6.878       6.217\n",
      "ma.L1          0.3190      3.421      0.093      0.926      -6.385       7.024\n",
      "sigma2      1.706e+10   1.81e-09   9.43e+18      0.000    1.71e+10    1.71e+10\n",
      "===================================================================================\n",
      "Ljung-Box (L1) (Q):                    nan   Jarque-Bera (JB):                12.81\n",
      "Prob(Q):                               nan   Prob(JB):                         0.00\n",
      "Heteroskedasticity (H):               4.63   Skew:                            -1.46\n",
      "Prob(H) (two-sided):                  0.04   Kurtosis:                         5.07\n",
      "===================================================================================\n",
      "\n",
      "Warnings:\n",
      "[1] Covariance matrix calculated using the outer product of gradients (complex-step).\n",
      "[2] Covariance matrix is singular or near-singular, with condition number 2.41e+35. Standard errors may be unstable.\n",
      "                               SARIMAX Results                                \n",
      "==============================================================================\n",
      "Dep. Variable:                    co2   No. Observations:                   25\n",
      "Model:                 ARIMA(1, 1, 1)   Log Likelihood                -319.719\n",
      "Date:                Sat, 27 Nov 2021   AIC                            645.437\n",
      "Time:                        16:15:12   BIC                            648.972\n",
      "Sample:                    01-01-1990   HQIC                           646.375\n",
      "                         - 01-01-2014                                         \n",
      "Covariance Type:                  opg                                         \n",
      "==============================================================================\n",
      "                 coef    std err          z      P>|z|      [0.025      0.975]\n",
      "------------------------------------------------------------------------------\n",
      "ar.L1         -0.3304      3.341     -0.099      0.921      -6.878       6.217\n",
      "ma.L1          0.3190      3.421      0.093      0.926      -6.385       7.024\n",
      "sigma2      1.706e+10   1.81e-09   9.43e+18      0.000    1.71e+10    1.71e+10\n",
      "===================================================================================\n",
      "Ljung-Box (L1) (Q):                    nan   Jarque-Bera (JB):                12.81\n",
      "Prob(Q):                               nan   Prob(JB):                         0.00\n",
      "Heteroskedasticity (H):               4.63   Skew:                            -1.46\n",
      "Prob(H) (two-sided):                  0.04   Kurtosis:                         5.07\n",
      "===================================================================================\n",
      "\n",
      "Warnings:\n",
      "[1] Covariance matrix calculated using the outer product of gradients (complex-step).\n",
      "[2] Covariance matrix is singular or near-singular, with condition number 2.41e+35. Standard errors may be unstable.\n",
      "                               SARIMAX Results                                \n",
      "==============================================================================\n",
      "Dep. Variable:                    co2   No. Observations:                   25\n",
      "Model:                 ARIMA(1, 1, 1)   Log Likelihood                -319.719\n",
      "Date:                Sat, 27 Nov 2021   AIC                            645.437\n",
      "Time:                        16:15:12   BIC                            648.972\n",
      "Sample:                    01-01-1990   HQIC                           646.375\n",
      "                         - 01-01-2014                                         \n",
      "Covariance Type:                  opg                                         \n",
      "==============================================================================\n",
      "                 coef    std err          z      P>|z|      [0.025      0.975]\n",
      "------------------------------------------------------------------------------\n",
      "ar.L1         -0.3304      3.341     -0.099      0.921      -6.878       6.217\n",
      "ma.L1          0.3190      3.421      0.093      0.926      -6.385       7.024\n",
      "sigma2      1.706e+10   1.81e-09   9.43e+18      0.000    1.71e+10    1.71e+10\n",
      "===================================================================================\n",
      "Ljung-Box (L1) (Q):                    nan   Jarque-Bera (JB):                12.81\n",
      "Prob(Q):                               nan   Prob(JB):                         0.00\n",
      "Heteroskedasticity (H):               4.63   Skew:                            -1.46\n",
      "Prob(H) (two-sided):                  0.04   Kurtosis:                         5.07\n",
      "===================================================================================\n",
      "\n",
      "Warnings:\n",
      "[1] Covariance matrix calculated using the outer product of gradients (complex-step).\n",
      "[2] Covariance matrix is singular or near-singular, with condition number 2.41e+35. Standard errors may be unstable.\n",
      "                               SARIMAX Results                                \n",
      "==============================================================================\n",
      "Dep. Variable:                    co2   No. Observations:                   25\n",
      "Model:                 ARIMA(1, 1, 1)   Log Likelihood                -319.719\n",
      "Date:                Sat, 27 Nov 2021   AIC                            645.437\n",
      "Time:                        16:15:12   BIC                            648.972\n",
      "Sample:                    01-01-1990   HQIC                           646.375\n",
      "                         - 01-01-2014                                         \n",
      "Covariance Type:                  opg                                         \n",
      "==============================================================================\n",
      "                 coef    std err          z      P>|z|      [0.025      0.975]\n",
      "------------------------------------------------------------------------------\n",
      "ar.L1         -0.3304      3.341     -0.099      0.921      -6.878       6.217\n",
      "ma.L1          0.3190      3.421      0.093      0.926      -6.385       7.024\n",
      "sigma2      1.706e+10   1.81e-09   9.43e+18      0.000    1.71e+10    1.71e+10\n",
      "===================================================================================\n",
      "Ljung-Box (L1) (Q):                    nan   Jarque-Bera (JB):                12.81\n",
      "Prob(Q):                               nan   Prob(JB):                         0.00\n",
      "Heteroskedasticity (H):               4.63   Skew:                            -1.46\n",
      "Prob(H) (two-sided):                  0.04   Kurtosis:                         5.07\n",
      "===================================================================================\n",
      "\n",
      "Warnings:\n",
      "[1] Covariance matrix calculated using the outer product of gradients (complex-step).\n",
      "[2] Covariance matrix is singular or near-singular, with condition number 2.41e+35. Standard errors may be unstable.\n",
      "                               SARIMAX Results                                \n",
      "==============================================================================\n",
      "Dep. Variable:                    co2   No. Observations:                   25\n",
      "Model:                 ARIMA(1, 1, 1)   Log Likelihood                -319.719\n",
      "Date:                Sat, 27 Nov 2021   AIC                            645.437\n",
      "Time:                        16:15:12   BIC                            648.972\n",
      "Sample:                    01-01-1990   HQIC                           646.375\n",
      "                         - 01-01-2014                                         \n",
      "Covariance Type:                  opg                                         \n",
      "==============================================================================\n",
      "                 coef    std err          z      P>|z|      [0.025      0.975]\n",
      "------------------------------------------------------------------------------\n",
      "ar.L1         -0.3304      3.341     -0.099      0.921      -6.878       6.217\n",
      "ma.L1          0.3190      3.421      0.093      0.926      -6.385       7.024\n",
      "sigma2      1.706e+10   1.81e-09   9.43e+18      0.000    1.71e+10    1.71e+10\n",
      "===================================================================================\n",
      "Ljung-Box (L1) (Q):                    nan   Jarque-Bera (JB):                12.81\n",
      "Prob(Q):                               nan   Prob(JB):                         0.00\n",
      "Heteroskedasticity (H):               4.63   Skew:                            -1.46\n",
      "Prob(H) (two-sided):                  0.04   Kurtosis:                         5.07\n",
      "===================================================================================\n",
      "\n",
      "Warnings:\n",
      "[1] Covariance matrix calculated using the outer product of gradients (complex-step).\n",
      "[2] Covariance matrix is singular or near-singular, with condition number 2.41e+35. Standard errors may be unstable.\n",
      "                               SARIMAX Results                                \n",
      "==============================================================================\n",
      "Dep. Variable:                    co2   No. Observations:                   25\n",
      "Model:                 ARIMA(1, 1, 1)   Log Likelihood                -319.719\n",
      "Date:                Sat, 27 Nov 2021   AIC                            645.437\n",
      "Time:                        16:15:12   BIC                            648.972\n",
      "Sample:                    01-01-1990   HQIC                           646.375\n",
      "                         - 01-01-2014                                         \n",
      "Covariance Type:                  opg                                         \n",
      "==============================================================================\n",
      "                 coef    std err          z      P>|z|      [0.025      0.975]\n",
      "------------------------------------------------------------------------------\n",
      "ar.L1         -0.3304      3.341     -0.099      0.921      -6.878       6.217\n",
      "ma.L1          0.3190      3.421      0.093      0.926      -6.385       7.024\n",
      "sigma2      1.706e+10   1.81e-09   9.43e+18      0.000    1.71e+10    1.71e+10\n",
      "===================================================================================\n",
      "Ljung-Box (L1) (Q):                    nan   Jarque-Bera (JB):                12.81\n",
      "Prob(Q):                               nan   Prob(JB):                         0.00\n",
      "Heteroskedasticity (H):               4.63   Skew:                            -1.46\n",
      "Prob(H) (two-sided):                  0.04   Kurtosis:                         5.07\n",
      "===================================================================================\n",
      "\n",
      "Warnings:\n",
      "[1] Covariance matrix calculated using the outer product of gradients (complex-step).\n",
      "[2] Covariance matrix is singular or near-singular, with condition number 2.41e+35. Standard errors may be unstable.\n",
      "                               SARIMAX Results                                \n",
      "==============================================================================\n",
      "Dep. Variable:                    co2   No. Observations:                   25\n",
      "Model:                 ARIMA(1, 1, 1)   Log Likelihood                -319.719\n",
      "Date:                Sat, 27 Nov 2021   AIC                            645.437\n",
      "Time:                        16:15:12   BIC                            648.972\n",
      "Sample:                    01-01-1990   HQIC                           646.375\n",
      "                         - 01-01-2014                                         \n",
      "Covariance Type:                  opg                                         \n",
      "==============================================================================\n",
      "                 coef    std err          z      P>|z|      [0.025      0.975]\n",
      "------------------------------------------------------------------------------\n",
      "ar.L1         -0.3304      3.341     -0.099      0.921      -6.878       6.217\n",
      "ma.L1          0.3190      3.421      0.093      0.926      -6.385       7.024\n",
      "sigma2      1.706e+10   1.81e-09   9.43e+18      0.000    1.71e+10    1.71e+10\n",
      "===================================================================================\n",
      "Ljung-Box (L1) (Q):                    nan   Jarque-Bera (JB):                12.81\n",
      "Prob(Q):                               nan   Prob(JB):                         0.00\n",
      "Heteroskedasticity (H):               4.63   Skew:                            -1.46\n",
      "Prob(H) (two-sided):                  0.04   Kurtosis:                         5.07\n",
      "===================================================================================\n",
      "\n",
      "Warnings:\n",
      "[1] Covariance matrix calculated using the outer product of gradients (complex-step).\n",
      "[2] Covariance matrix is singular or near-singular, with condition number 2.41e+35. Standard errors may be unstable.\n",
      "                               SARIMAX Results                                \n",
      "==============================================================================\n",
      "Dep. Variable:                    co2   No. Observations:                   25\n",
      "Model:                 ARIMA(1, 1, 1)   Log Likelihood                -319.719\n",
      "Date:                Sat, 27 Nov 2021   AIC                            645.437\n",
      "Time:                        16:15:12   BIC                            648.972\n",
      "Sample:                    01-01-1990   HQIC                           646.375\n",
      "                         - 01-01-2014                                         \n",
      "Covariance Type:                  opg                                         \n",
      "==============================================================================\n",
      "                 coef    std err          z      P>|z|      [0.025      0.975]\n",
      "------------------------------------------------------------------------------\n",
      "ar.L1         -0.3304      3.341     -0.099      0.921      -6.878       6.217\n",
      "ma.L1          0.3190      3.421      0.093      0.926      -6.385       7.024\n",
      "sigma2      1.706e+10   1.81e-09   9.43e+18      0.000    1.71e+10    1.71e+10\n",
      "===================================================================================\n",
      "Ljung-Box (L1) (Q):                    nan   Jarque-Bera (JB):                12.81\n",
      "Prob(Q):                               nan   Prob(JB):                         0.00\n",
      "Heteroskedasticity (H):               4.63   Skew:                            -1.46\n",
      "Prob(H) (two-sided):                  0.04   Kurtosis:                         5.07\n",
      "===================================================================================\n",
      "\n",
      "Warnings:\n",
      "[1] Covariance matrix calculated using the outer product of gradients (complex-step).\n",
      "[2] Covariance matrix is singular or near-singular, with condition number 2.41e+35. Standard errors may be unstable.\n"
     ]
    }
   ],
   "source": [
    "# Predicting future annual temperature values across the next 10 years for New York\n",
    "\n",
    "ny_df = pd.read_csv(\"E:\\\\Python Projects\\\\Mounica\\\\GlobalLandTemperaturesByMajorCity.csv\")\n",
    "ny_df = ny_df[ny_df['Country'] == 'United States']\n",
    "ny_df = ny_df[ny_df['City'] == 'New York']\n",
    "ny_df = ny_df.drop({\"AverageTemperatureUncertainty\", \"Latitude\", \"Longitude\"}, 1)\n",
    "\n",
    "# Convert the Date Local column to date time format\n",
    "ny_df['Date Local'] = pd.to_datetime(ny_df['dt'])\n",
    "# set first column (dt) as the index column\n",
    "ny_df.index = ny_df['Date Local']\n",
    "del ny_df['dt'], ny_df['City'], ny_df['Country']\n",
    "ny_df.dropna()\n",
    "\n",
    "# As we have only one value per day we dont need to drop duplicates so this will calculate the Annual Mean Temperature\n",
    "ny_df = ny_df.resample(\"A\").mean()\n",
    "\n",
    "ny_df = ny_df.dropna()\n",
    "ny_df = ny_df.sort_index()\n",
    "\n",
    "# fitting an ARIMA model\n",
    "\n",
    "p_range = q_range = list(range(0,3))  # taking values from 0 to 2\n",
    "\n",
    "aic_values = []\n",
    "bic_values = []\n",
    "pq_values = []\n",
    "\n",
    "for p in p_range:\n",
    "    for q in q_range:\n",
    "        try:\n",
    "            model = ARIMA(gas, order=(1,1,1))\n",
    "            results = model.fit()\n",
    "            print(results.summary())\n",
    "            #aic_values.append(ARMAResults.aic(results))\n",
    "            #bic_values.append(ARMAResults.bic(results))\n",
    "            pq_values.append((p, q))\n",
    "        except:\n",
    "            pass\n",
    "\n",
    "#best_pq = pq_values[aic_values.index(min(aic_values))]  # (p,q) corresponding to lowest AIC score\n",
    "#print(\"(p,q) corresponding to lowest AIC score: \", best_pq)\n",
    "\n",
    "#arima_model = ARIMA(ny_df, order=(best_pq[0], 0, best_pq[1])).fit()\n",
    "\n",
    "#ny_out_of_sample_forecast = arima_model.forecast(steps=10)[0]\n",
    "\n",
    "#future_gg['Temperature'] = ny_out_of_sample_forecast"
   ]
  },
  {
   "cell_type": "code",
   "execution_count": 100,
   "metadata": {},
   "outputs": [
    {
     "data": {
      "text/html": [
       "<div>\n",
       "<style scoped>\n",
       "    .dataframe tbody tr th:only-of-type {\n",
       "        vertical-align: middle;\n",
       "    }\n",
       "\n",
       "    .dataframe tbody tr th {\n",
       "        vertical-align: top;\n",
       "    }\n",
       "\n",
       "    .dataframe thead th {\n",
       "        text-align: right;\n",
       "    }\n",
       "</style>\n",
       "<table border=\"1\" class=\"dataframe\">\n",
       "  <thead>\n",
       "    <tr style=\"text-align: right;\">\n",
       "      <th></th>\n",
       "      <th>co2</th>\n",
       "      <th>n2o</th>\n",
       "      <th>methane</th>\n",
       "      <th>hcfc</th>\n",
       "      <th>temp</th>\n",
       "    </tr>\n",
       "    <tr>\n",
       "      <th>year</th>\n",
       "      <th></th>\n",
       "      <th></th>\n",
       "      <th></th>\n",
       "      <th></th>\n",
       "      <th></th>\n",
       "    </tr>\n",
       "  </thead>\n",
       "  <tbody>\n",
       "    <tr>\n",
       "      <th>1990</th>\n",
       "      <td>-0.519224</td>\n",
       "      <td>-0.072392</td>\n",
       "      <td>0.527726</td>\n",
       "      <td>-0.497923</td>\n",
       "      <td>-0.404518</td>\n",
       "    </tr>\n",
       "    <tr>\n",
       "      <th>1991</th>\n",
       "      <td>-0.566692</td>\n",
       "      <td>-0.340272</td>\n",
       "      <td>0.571793</td>\n",
       "      <td>-0.538318</td>\n",
       "      <td>0.236557</td>\n",
       "    </tr>\n",
       "    <tr>\n",
       "      <th>1992</th>\n",
       "      <td>-0.467063</td>\n",
       "      <td>-0.130032</td>\n",
       "      <td>0.569514</td>\n",
       "      <td>-0.488073</td>\n",
       "      <td>0.249967</td>\n",
       "    </tr>\n",
       "    <tr>\n",
       "      <th>1993</th>\n",
       "      <td>-0.358841</td>\n",
       "      <td>0.305655</td>\n",
       "      <td>0.392375</td>\n",
       "      <td>-0.487445</td>\n",
       "      <td>-0.438736</td>\n",
       "    </tr>\n",
       "    <tr>\n",
       "      <th>1994</th>\n",
       "      <td>-0.271180</td>\n",
       "      <td>-0.171695</td>\n",
       "      <td>0.480538</td>\n",
       "      <td>-0.437744</td>\n",
       "      <td>-0.258030</td>\n",
       "    </tr>\n",
       "    <tr>\n",
       "      <th>1995</th>\n",
       "      <td>-0.210580</td>\n",
       "      <td>0.307841</td>\n",
       "      <td>0.445790</td>\n",
       "      <td>-0.281825</td>\n",
       "      <td>-0.275621</td>\n",
       "    </tr>\n",
       "    <tr>\n",
       "      <th>1996</th>\n",
       "      <td>-0.032377</td>\n",
       "      <td>0.528657</td>\n",
       "      <td>0.366236</td>\n",
       "      <td>-0.210849</td>\n",
       "      <td>-0.182583</td>\n",
       "    </tr>\n",
       "    <tr>\n",
       "      <th>1997</th>\n",
       "      <td>0.038409</td>\n",
       "      <td>0.088880</td>\n",
       "      <td>0.157958</td>\n",
       "      <td>-0.127907</td>\n",
       "      <td>-0.348270</td>\n",
       "    </tr>\n",
       "    <tr>\n",
       "      <th>1998</th>\n",
       "      <td>0.075914</td>\n",
       "      <td>0.659728</td>\n",
       "      <td>0.028284</td>\n",
       "      <td>0.032833</td>\n",
       "      <td>-0.272373</td>\n",
       "    </tr>\n",
       "    <tr>\n",
       "      <th>1999</th>\n",
       "      <td>0.146150</td>\n",
       "      <td>-0.206959</td>\n",
       "      <td>-0.170844</td>\n",
       "      <td>0.003794</td>\n",
       "      <td>0.430063</td>\n",
       "    </tr>\n",
       "    <tr>\n",
       "      <th>2000</th>\n",
       "      <td>0.310127</td>\n",
       "      <td>-0.200263</td>\n",
       "      <td>-0.253743</td>\n",
       "      <td>0.047026</td>\n",
       "      <td>0.174842</td>\n",
       "    </tr>\n",
       "    <tr>\n",
       "      <th>2001</th>\n",
       "      <td>0.217511</td>\n",
       "      <td>-0.255238</td>\n",
       "      <td>-0.320234</td>\n",
       "      <td>0.006402</td>\n",
       "      <td>-0.285751</td>\n",
       "    </tr>\n",
       "    <tr>\n",
       "      <th>2002</th>\n",
       "      <td>0.256529</td>\n",
       "      <td>-0.213037</td>\n",
       "      <td>-0.408200</td>\n",
       "      <td>0.059868</td>\n",
       "      <td>0.085470</td>\n",
       "    </tr>\n",
       "    <tr>\n",
       "      <th>2003</th>\n",
       "      <td>0.300533</td>\n",
       "      <td>-0.190330</td>\n",
       "      <td>-0.377370</td>\n",
       "      <td>-0.010380</td>\n",
       "      <td>0.209414</td>\n",
       "    </tr>\n",
       "    <tr>\n",
       "      <th>2004</th>\n",
       "      <td>0.408949</td>\n",
       "      <td>0.518875</td>\n",
       "      <td>-0.428207</td>\n",
       "      <td>0.070985</td>\n",
       "      <td>-0.337111</td>\n",
       "    </tr>\n",
       "    <tr>\n",
       "      <th>2005</th>\n",
       "      <td>0.433308</td>\n",
       "      <td>-0.302186</td>\n",
       "      <td>-0.255375</td>\n",
       "      <td>0.088174</td>\n",
       "      <td>-0.123505</td>\n",
       "    </tr>\n",
       "    <tr>\n",
       "      <th>2006</th>\n",
       "      <td>0.357350</td>\n",
       "      <td>0.029244</td>\n",
       "      <td>-0.224542</td>\n",
       "      <td>0.122801</td>\n",
       "      <td>-0.010849</td>\n",
       "    </tr>\n",
       "    <tr>\n",
       "      <th>2007</th>\n",
       "      <td>0.432275</td>\n",
       "      <td>0.265452</td>\n",
       "      <td>-0.135919</td>\n",
       "      <td>0.221137</td>\n",
       "      <td>0.312486</td>\n",
       "    </tr>\n",
       "    <tr>\n",
       "      <th>2008</th>\n",
       "      <td>0.244678</td>\n",
       "      <td>-0.322701</td>\n",
       "      <td>0.043088</td>\n",
       "      <td>0.256817</td>\n",
       "      <td>-0.031721</td>\n",
       "    </tr>\n",
       "    <tr>\n",
       "      <th>2009</th>\n",
       "      <td>-0.166415</td>\n",
       "      <td>-0.250576</td>\n",
       "      <td>-0.005851</td>\n",
       "      <td>0.243323</td>\n",
       "      <td>-0.026189</td>\n",
       "    </tr>\n",
       "    <tr>\n",
       "      <th>2010</th>\n",
       "      <td>0.023057</td>\n",
       "      <td>0.035813</td>\n",
       "      <td>-0.185319</td>\n",
       "      <td>0.326725</td>\n",
       "      <td>-0.219084</td>\n",
       "    </tr>\n",
       "    <tr>\n",
       "      <th>2011</th>\n",
       "      <td>-0.099121</td>\n",
       "      <td>0.200212</td>\n",
       "      <td>-0.254439</td>\n",
       "      <td>0.365186</td>\n",
       "      <td>0.250096</td>\n",
       "    </tr>\n",
       "    <tr>\n",
       "      <th>2012</th>\n",
       "      <td>-0.297905</td>\n",
       "      <td>0.008571</td>\n",
       "      <td>-0.296333</td>\n",
       "      <td>0.375298</td>\n",
       "      <td>0.217164</td>\n",
       "    </tr>\n",
       "    <tr>\n",
       "      <th>2013</th>\n",
       "      <td>-0.152963</td>\n",
       "      <td>-0.148633</td>\n",
       "      <td>-0.198285</td>\n",
       "      <td>0.398414</td>\n",
       "      <td>0.487018</td>\n",
       "    </tr>\n",
       "    <tr>\n",
       "      <th>2014</th>\n",
       "      <td>-0.102431</td>\n",
       "      <td>-0.144615</td>\n",
       "      <td>-0.068640</td>\n",
       "      <td>0.461682</td>\n",
       "      <td>0.561264</td>\n",
       "    </tr>\n",
       "  </tbody>\n",
       "</table>\n",
       "</div>"
      ],
      "text/plain": [
       "           co2       n2o   methane      hcfc      temp\n",
       "year                                                  \n",
       "1990 -0.519224 -0.072392  0.527726 -0.497923 -0.404518\n",
       "1991 -0.566692 -0.340272  0.571793 -0.538318  0.236557\n",
       "1992 -0.467063 -0.130032  0.569514 -0.488073  0.249967\n",
       "1993 -0.358841  0.305655  0.392375 -0.487445 -0.438736\n",
       "1994 -0.271180 -0.171695  0.480538 -0.437744 -0.258030\n",
       "1995 -0.210580  0.307841  0.445790 -0.281825 -0.275621\n",
       "1996 -0.032377  0.528657  0.366236 -0.210849 -0.182583\n",
       "1997  0.038409  0.088880  0.157958 -0.127907 -0.348270\n",
       "1998  0.075914  0.659728  0.028284  0.032833 -0.272373\n",
       "1999  0.146150 -0.206959 -0.170844  0.003794  0.430063\n",
       "2000  0.310127 -0.200263 -0.253743  0.047026  0.174842\n",
       "2001  0.217511 -0.255238 -0.320234  0.006402 -0.285751\n",
       "2002  0.256529 -0.213037 -0.408200  0.059868  0.085470\n",
       "2003  0.300533 -0.190330 -0.377370 -0.010380  0.209414\n",
       "2004  0.408949  0.518875 -0.428207  0.070985 -0.337111\n",
       "2005  0.433308 -0.302186 -0.255375  0.088174 -0.123505\n",
       "2006  0.357350  0.029244 -0.224542  0.122801 -0.010849\n",
       "2007  0.432275  0.265452 -0.135919  0.221137  0.312486\n",
       "2008  0.244678 -0.322701  0.043088  0.256817 -0.031721\n",
       "2009 -0.166415 -0.250576 -0.005851  0.243323 -0.026189\n",
       "2010  0.023057  0.035813 -0.185319  0.326725 -0.219084\n",
       "2011 -0.099121  0.200212 -0.254439  0.365186  0.250096\n",
       "2012 -0.297905  0.008571 -0.296333  0.375298  0.217164\n",
       "2013 -0.152963 -0.148633 -0.198285  0.398414  0.487018\n",
       "2014 -0.102431 -0.144615 -0.068640  0.461682  0.561264"
      ]
     },
     "execution_count": 100,
     "metadata": {},
     "output_type": "execute_result"
    }
   ],
   "source": [
    "part3_norm"
   ]
  },
  {
   "cell_type": "code",
   "execution_count": 102,
   "metadata": {},
   "outputs": [
    {
     "data": {
      "application/vnd.plotly.v1+json": {
       "config": {
        "linkText": "Export to plot.ly",
        "plotlyServerURL": "https://plot.ly",
        "showLink": false
       },
       "data": [
        {
         "mode": "lines",
         "name": "methane",
         "type": "scatter",
         "x": [
          "2014",
          "2015",
          "2016",
          "2017",
          "2018",
          "2019",
          "2020",
          "2021",
          "2022",
          "2023"
         ],
         "y": [
          0.5277257461546627,
          0.5717927886687365,
          0.569513689738705,
          0.3923747957487252,
          0.48053806947825434,
          0.44578950075374696,
          0.366236307965421,
          0.15795816060996157,
          0.028283580791894764,
          -0.1708440130103254,
          -0.2537428385013669,
          -0.3202340402287699,
          -0.4082000538765126,
          -0.37737047756628683,
          -0.42820721133126344,
          -0.255374643718932,
          -0.22454212547505523,
          -0.13591877384559772,
          0.04308826767166243,
          -0.005851036629165453,
          -0.18531864213242832,
          -0.2544392602207199,
          -0.2963328815073377,
          -0.19828529043589105,
          -0.06863961910212939
         ]
        },
        {
         "mode": "lines",
         "name": "hcfc",
         "type": "scatter",
         "x": [
          "2014",
          "2015",
          "2016",
          "2017",
          "2018",
          "2019",
          "2020",
          "2021",
          "2022",
          "2023"
         ],
         "y": [
          -0.49792338636835404,
          -0.5383181603308881,
          -0.48807337322905253,
          -0.48744544759465674,
          -0.43774430745577775,
          -0.28182459142403016,
          -0.2108488056410528,
          -0.12790741782722134,
          0.03283317507581005,
          0.003794483402485299,
          0.047025780004691854,
          0.006402056233681097,
          0.05986824948562269,
          -0.010379757627750192,
          0.07098452177980558,
          0.08817382301341514,
          0.12280064143962992,
          0.2211365138166148,
          0.2568173426031612,
          0.2433234983240257,
          0.326725160023641,
          0.3651859715528716,
          0.3752981141977195,
          0.39841407687650077,
          0.46168183966911197
         ]
        },
        {
         "mode": "lines",
         "name": "temp",
         "type": "scatter",
         "x": [
          "2014",
          "2015",
          "2016",
          "2017",
          "2018",
          "2019",
          "2020",
          "2021",
          "2022",
          "2023"
         ],
         "y": [
          -0.4045178165601825,
          0.23655675142575242,
          0.24996741134599626,
          -0.43873590326315337,
          -0.2580296728270659,
          -0.27562111401740996,
          -0.18258265082972475,
          -0.3482702285493769,
          -0.27237296856910204,
          0.43006260451953165,
          0.1748419879078933,
          -0.285751468633421,
          0.08546974829552684,
          0.20941383302602795,
          -0.33711075854380224,
          -0.12350499549762074,
          -0.010849020196390504,
          0.31248617126195216,
          -0.03172076669096533,
          -0.02618927147206469,
          -0.21908408730328907,
          0.2500960507696918,
          0.21716435830367425,
          0.487017709360662,
          0.5612640967368466
         ]
        }
       ],
       "layout": {
        "template": {
         "data": {
          "bar": [
           {
            "error_x": {
             "color": "#2a3f5f"
            },
            "error_y": {
             "color": "#2a3f5f"
            },
            "marker": {
             "line": {
              "color": "#E5ECF6",
              "width": 0.5
             },
             "pattern": {
              "fillmode": "overlay",
              "size": 10,
              "solidity": 0.2
             }
            },
            "type": "bar"
           }
          ],
          "barpolar": [
           {
            "marker": {
             "line": {
              "color": "#E5ECF6",
              "width": 0.5
             },
             "pattern": {
              "fillmode": "overlay",
              "size": 10,
              "solidity": 0.2
             }
            },
            "type": "barpolar"
           }
          ],
          "carpet": [
           {
            "aaxis": {
             "endlinecolor": "#2a3f5f",
             "gridcolor": "white",
             "linecolor": "white",
             "minorgridcolor": "white",
             "startlinecolor": "#2a3f5f"
            },
            "baxis": {
             "endlinecolor": "#2a3f5f",
             "gridcolor": "white",
             "linecolor": "white",
             "minorgridcolor": "white",
             "startlinecolor": "#2a3f5f"
            },
            "type": "carpet"
           }
          ],
          "choropleth": [
           {
            "colorbar": {
             "outlinewidth": 0,
             "ticks": ""
            },
            "type": "choropleth"
           }
          ],
          "contour": [
           {
            "colorbar": {
             "outlinewidth": 0,
             "ticks": ""
            },
            "colorscale": [
             [
              0,
              "#0d0887"
             ],
             [
              0.1111111111111111,
              "#46039f"
             ],
             [
              0.2222222222222222,
              "#7201a8"
             ],
             [
              0.3333333333333333,
              "#9c179e"
             ],
             [
              0.4444444444444444,
              "#bd3786"
             ],
             [
              0.5555555555555556,
              "#d8576b"
             ],
             [
              0.6666666666666666,
              "#ed7953"
             ],
             [
              0.7777777777777778,
              "#fb9f3a"
             ],
             [
              0.8888888888888888,
              "#fdca26"
             ],
             [
              1,
              "#f0f921"
             ]
            ],
            "type": "contour"
           }
          ],
          "contourcarpet": [
           {
            "colorbar": {
             "outlinewidth": 0,
             "ticks": ""
            },
            "type": "contourcarpet"
           }
          ],
          "heatmap": [
           {
            "colorbar": {
             "outlinewidth": 0,
             "ticks": ""
            },
            "colorscale": [
             [
              0,
              "#0d0887"
             ],
             [
              0.1111111111111111,
              "#46039f"
             ],
             [
              0.2222222222222222,
              "#7201a8"
             ],
             [
              0.3333333333333333,
              "#9c179e"
             ],
             [
              0.4444444444444444,
              "#bd3786"
             ],
             [
              0.5555555555555556,
              "#d8576b"
             ],
             [
              0.6666666666666666,
              "#ed7953"
             ],
             [
              0.7777777777777778,
              "#fb9f3a"
             ],
             [
              0.8888888888888888,
              "#fdca26"
             ],
             [
              1,
              "#f0f921"
             ]
            ],
            "type": "heatmap"
           }
          ],
          "heatmapgl": [
           {
            "colorbar": {
             "outlinewidth": 0,
             "ticks": ""
            },
            "colorscale": [
             [
              0,
              "#0d0887"
             ],
             [
              0.1111111111111111,
              "#46039f"
             ],
             [
              0.2222222222222222,
              "#7201a8"
             ],
             [
              0.3333333333333333,
              "#9c179e"
             ],
             [
              0.4444444444444444,
              "#bd3786"
             ],
             [
              0.5555555555555556,
              "#d8576b"
             ],
             [
              0.6666666666666666,
              "#ed7953"
             ],
             [
              0.7777777777777778,
              "#fb9f3a"
             ],
             [
              0.8888888888888888,
              "#fdca26"
             ],
             [
              1,
              "#f0f921"
             ]
            ],
            "type": "heatmapgl"
           }
          ],
          "histogram": [
           {
            "marker": {
             "pattern": {
              "fillmode": "overlay",
              "size": 10,
              "solidity": 0.2
             }
            },
            "type": "histogram"
           }
          ],
          "histogram2d": [
           {
            "colorbar": {
             "outlinewidth": 0,
             "ticks": ""
            },
            "colorscale": [
             [
              0,
              "#0d0887"
             ],
             [
              0.1111111111111111,
              "#46039f"
             ],
             [
              0.2222222222222222,
              "#7201a8"
             ],
             [
              0.3333333333333333,
              "#9c179e"
             ],
             [
              0.4444444444444444,
              "#bd3786"
             ],
             [
              0.5555555555555556,
              "#d8576b"
             ],
             [
              0.6666666666666666,
              "#ed7953"
             ],
             [
              0.7777777777777778,
              "#fb9f3a"
             ],
             [
              0.8888888888888888,
              "#fdca26"
             ],
             [
              1,
              "#f0f921"
             ]
            ],
            "type": "histogram2d"
           }
          ],
          "histogram2dcontour": [
           {
            "colorbar": {
             "outlinewidth": 0,
             "ticks": ""
            },
            "colorscale": [
             [
              0,
              "#0d0887"
             ],
             [
              0.1111111111111111,
              "#46039f"
             ],
             [
              0.2222222222222222,
              "#7201a8"
             ],
             [
              0.3333333333333333,
              "#9c179e"
             ],
             [
              0.4444444444444444,
              "#bd3786"
             ],
             [
              0.5555555555555556,
              "#d8576b"
             ],
             [
              0.6666666666666666,
              "#ed7953"
             ],
             [
              0.7777777777777778,
              "#fb9f3a"
             ],
             [
              0.8888888888888888,
              "#fdca26"
             ],
             [
              1,
              "#f0f921"
             ]
            ],
            "type": "histogram2dcontour"
           }
          ],
          "mesh3d": [
           {
            "colorbar": {
             "outlinewidth": 0,
             "ticks": ""
            },
            "type": "mesh3d"
           }
          ],
          "parcoords": [
           {
            "line": {
             "colorbar": {
              "outlinewidth": 0,
              "ticks": ""
             }
            },
            "type": "parcoords"
           }
          ],
          "pie": [
           {
            "automargin": true,
            "type": "pie"
           }
          ],
          "scatter": [
           {
            "marker": {
             "colorbar": {
              "outlinewidth": 0,
              "ticks": ""
             }
            },
            "type": "scatter"
           }
          ],
          "scatter3d": [
           {
            "line": {
             "colorbar": {
              "outlinewidth": 0,
              "ticks": ""
             }
            },
            "marker": {
             "colorbar": {
              "outlinewidth": 0,
              "ticks": ""
             }
            },
            "type": "scatter3d"
           }
          ],
          "scattercarpet": [
           {
            "marker": {
             "colorbar": {
              "outlinewidth": 0,
              "ticks": ""
             }
            },
            "type": "scattercarpet"
           }
          ],
          "scattergeo": [
           {
            "marker": {
             "colorbar": {
              "outlinewidth": 0,
              "ticks": ""
             }
            },
            "type": "scattergeo"
           }
          ],
          "scattergl": [
           {
            "marker": {
             "colorbar": {
              "outlinewidth": 0,
              "ticks": ""
             }
            },
            "type": "scattergl"
           }
          ],
          "scattermapbox": [
           {
            "marker": {
             "colorbar": {
              "outlinewidth": 0,
              "ticks": ""
             }
            },
            "type": "scattermapbox"
           }
          ],
          "scatterpolar": [
           {
            "marker": {
             "colorbar": {
              "outlinewidth": 0,
              "ticks": ""
             }
            },
            "type": "scatterpolar"
           }
          ],
          "scatterpolargl": [
           {
            "marker": {
             "colorbar": {
              "outlinewidth": 0,
              "ticks": ""
             }
            },
            "type": "scatterpolargl"
           }
          ],
          "scatterternary": [
           {
            "marker": {
             "colorbar": {
              "outlinewidth": 0,
              "ticks": ""
             }
            },
            "type": "scatterternary"
           }
          ],
          "surface": [
           {
            "colorbar": {
             "outlinewidth": 0,
             "ticks": ""
            },
            "colorscale": [
             [
              0,
              "#0d0887"
             ],
             [
              0.1111111111111111,
              "#46039f"
             ],
             [
              0.2222222222222222,
              "#7201a8"
             ],
             [
              0.3333333333333333,
              "#9c179e"
             ],
             [
              0.4444444444444444,
              "#bd3786"
             ],
             [
              0.5555555555555556,
              "#d8576b"
             ],
             [
              0.6666666666666666,
              "#ed7953"
             ],
             [
              0.7777777777777778,
              "#fb9f3a"
             ],
             [
              0.8888888888888888,
              "#fdca26"
             ],
             [
              1,
              "#f0f921"
             ]
            ],
            "type": "surface"
           }
          ],
          "table": [
           {
            "cells": {
             "fill": {
              "color": "#EBF0F8"
             },
             "line": {
              "color": "white"
             }
            },
            "header": {
             "fill": {
              "color": "#C8D4E3"
             },
             "line": {
              "color": "white"
             }
            },
            "type": "table"
           }
          ]
         },
         "layout": {
          "annotationdefaults": {
           "arrowcolor": "#2a3f5f",
           "arrowhead": 0,
           "arrowwidth": 1
          },
          "autotypenumbers": "strict",
          "coloraxis": {
           "colorbar": {
            "outlinewidth": 0,
            "ticks": ""
           }
          },
          "colorscale": {
           "diverging": [
            [
             0,
             "#8e0152"
            ],
            [
             0.1,
             "#c51b7d"
            ],
            [
             0.2,
             "#de77ae"
            ],
            [
             0.3,
             "#f1b6da"
            ],
            [
             0.4,
             "#fde0ef"
            ],
            [
             0.5,
             "#f7f7f7"
            ],
            [
             0.6,
             "#e6f5d0"
            ],
            [
             0.7,
             "#b8e186"
            ],
            [
             0.8,
             "#7fbc41"
            ],
            [
             0.9,
             "#4d9221"
            ],
            [
             1,
             "#276419"
            ]
           ],
           "sequential": [
            [
             0,
             "#0d0887"
            ],
            [
             0.1111111111111111,
             "#46039f"
            ],
            [
             0.2222222222222222,
             "#7201a8"
            ],
            [
             0.3333333333333333,
             "#9c179e"
            ],
            [
             0.4444444444444444,
             "#bd3786"
            ],
            [
             0.5555555555555556,
             "#d8576b"
            ],
            [
             0.6666666666666666,
             "#ed7953"
            ],
            [
             0.7777777777777778,
             "#fb9f3a"
            ],
            [
             0.8888888888888888,
             "#fdca26"
            ],
            [
             1,
             "#f0f921"
            ]
           ],
           "sequentialminus": [
            [
             0,
             "#0d0887"
            ],
            [
             0.1111111111111111,
             "#46039f"
            ],
            [
             0.2222222222222222,
             "#7201a8"
            ],
            [
             0.3333333333333333,
             "#9c179e"
            ],
            [
             0.4444444444444444,
             "#bd3786"
            ],
            [
             0.5555555555555556,
             "#d8576b"
            ],
            [
             0.6666666666666666,
             "#ed7953"
            ],
            [
             0.7777777777777778,
             "#fb9f3a"
            ],
            [
             0.8888888888888888,
             "#fdca26"
            ],
            [
             1,
             "#f0f921"
            ]
           ]
          },
          "colorway": [
           "#636efa",
           "#EF553B",
           "#00cc96",
           "#ab63fa",
           "#FFA15A",
           "#19d3f3",
           "#FF6692",
           "#B6E880",
           "#FF97FF",
           "#FECB52"
          ],
          "font": {
           "color": "#2a3f5f"
          },
          "geo": {
           "bgcolor": "white",
           "lakecolor": "white",
           "landcolor": "#E5ECF6",
           "showlakes": true,
           "showland": true,
           "subunitcolor": "white"
          },
          "hoverlabel": {
           "align": "left"
          },
          "hovermode": "closest",
          "mapbox": {
           "style": "light"
          },
          "paper_bgcolor": "white",
          "plot_bgcolor": "#E5ECF6",
          "polar": {
           "angularaxis": {
            "gridcolor": "white",
            "linecolor": "white",
            "ticks": ""
           },
           "bgcolor": "#E5ECF6",
           "radialaxis": {
            "gridcolor": "white",
            "linecolor": "white",
            "ticks": ""
           }
          },
          "scene": {
           "xaxis": {
            "backgroundcolor": "#E5ECF6",
            "gridcolor": "white",
            "gridwidth": 2,
            "linecolor": "white",
            "showbackground": true,
            "ticks": "",
            "zerolinecolor": "white"
           },
           "yaxis": {
            "backgroundcolor": "#E5ECF6",
            "gridcolor": "white",
            "gridwidth": 2,
            "linecolor": "white",
            "showbackground": true,
            "ticks": "",
            "zerolinecolor": "white"
           },
           "zaxis": {
            "backgroundcolor": "#E5ECF6",
            "gridcolor": "white",
            "gridwidth": 2,
            "linecolor": "white",
            "showbackground": true,
            "ticks": "",
            "zerolinecolor": "white"
           }
          },
          "shapedefaults": {
           "line": {
            "color": "#2a3f5f"
           }
          },
          "ternary": {
           "aaxis": {
            "gridcolor": "white",
            "linecolor": "white",
            "ticks": ""
           },
           "baxis": {
            "gridcolor": "white",
            "linecolor": "white",
            "ticks": ""
           },
           "bgcolor": "#E5ECF6",
           "caxis": {
            "gridcolor": "white",
            "linecolor": "white",
            "ticks": ""
           }
          },
          "title": {
           "x": 0.05
          },
          "xaxis": {
           "automargin": true,
           "gridcolor": "white",
           "linecolor": "white",
           "ticks": "",
           "title": {
            "standoff": 15
           },
           "zerolinecolor": "white",
           "zerolinewidth": 2
          },
          "yaxis": {
           "automargin": true,
           "gridcolor": "white",
           "linecolor": "white",
           "ticks": "",
           "title": {
            "standoff": 15
           },
           "zerolinecolor": "white",
           "zerolinewidth": 2
          }
         }
        },
        "title": {
         "text": "Predicted Temperature and Greenhouse Gases Plots"
        },
        "xaxis": {
         "title": {
          "text": "Year"
         }
        },
        "yaxis": {
         "title": {
          "text": "Normalized Values"
         }
        }
       }
      },
      "text/html": [
       "<div>                            <div id=\"2c03b865-6a83-426e-a036-a53b08726368\" class=\"plotly-graph-div\" style=\"height:525px; width:100%;\"></div>            <script type=\"text/javascript\">                require([\"plotly\"], function(Plotly) {                    window.PLOTLYENV=window.PLOTLYENV || {};                                    if (document.getElementById(\"2c03b865-6a83-426e-a036-a53b08726368\")) {                    Plotly.newPlot(                        \"2c03b865-6a83-426e-a036-a53b08726368\",                        [{\"mode\":\"lines\",\"name\":\"methane\",\"x\":[\"2014\",\"2015\",\"2016\",\"2017\",\"2018\",\"2019\",\"2020\",\"2021\",\"2022\",\"2023\"],\"y\":[0.5277257461546627,0.5717927886687365,0.569513689738705,0.3923747957487252,0.48053806947825434,0.44578950075374696,0.366236307965421,0.15795816060996157,0.028283580791894764,-0.1708440130103254,-0.2537428385013669,-0.3202340402287699,-0.4082000538765126,-0.37737047756628683,-0.42820721133126344,-0.255374643718932,-0.22454212547505523,-0.13591877384559772,0.04308826767166243,-0.005851036629165453,-0.18531864213242832,-0.2544392602207199,-0.2963328815073377,-0.19828529043589105,-0.06863961910212939],\"type\":\"scatter\"},{\"mode\":\"lines\",\"name\":\"hcfc\",\"x\":[\"2014\",\"2015\",\"2016\",\"2017\",\"2018\",\"2019\",\"2020\",\"2021\",\"2022\",\"2023\"],\"y\":[-0.49792338636835404,-0.5383181603308881,-0.48807337322905253,-0.48744544759465674,-0.43774430745577775,-0.28182459142403016,-0.2108488056410528,-0.12790741782722134,0.03283317507581005,0.003794483402485299,0.047025780004691854,0.006402056233681097,0.05986824948562269,-0.010379757627750192,0.07098452177980558,0.08817382301341514,0.12280064143962992,0.2211365138166148,0.2568173426031612,0.2433234983240257,0.326725160023641,0.3651859715528716,0.3752981141977195,0.39841407687650077,0.46168183966911197],\"type\":\"scatter\"},{\"mode\":\"lines\",\"name\":\"temp\",\"x\":[\"2014\",\"2015\",\"2016\",\"2017\",\"2018\",\"2019\",\"2020\",\"2021\",\"2022\",\"2023\"],\"y\":[-0.4045178165601825,0.23655675142575242,0.24996741134599626,-0.43873590326315337,-0.2580296728270659,-0.27562111401740996,-0.18258265082972475,-0.3482702285493769,-0.27237296856910204,0.43006260451953165,0.1748419879078933,-0.285751468633421,0.08546974829552684,0.20941383302602795,-0.33711075854380224,-0.12350499549762074,-0.010849020196390504,0.31248617126195216,-0.03172076669096533,-0.02618927147206469,-0.21908408730328907,0.2500960507696918,0.21716435830367425,0.487017709360662,0.5612640967368466],\"type\":\"scatter\"}],                        {\"template\":{\"data\":{\"barpolar\":[{\"marker\":{\"line\":{\"color\":\"#E5ECF6\",\"width\":0.5},\"pattern\":{\"fillmode\":\"overlay\",\"size\":10,\"solidity\":0.2}},\"type\":\"barpolar\"}],\"bar\":[{\"error_x\":{\"color\":\"#2a3f5f\"},\"error_y\":{\"color\":\"#2a3f5f\"},\"marker\":{\"line\":{\"color\":\"#E5ECF6\",\"width\":0.5},\"pattern\":{\"fillmode\":\"overlay\",\"size\":10,\"solidity\":0.2}},\"type\":\"bar\"}],\"carpet\":[{\"aaxis\":{\"endlinecolor\":\"#2a3f5f\",\"gridcolor\":\"white\",\"linecolor\":\"white\",\"minorgridcolor\":\"white\",\"startlinecolor\":\"#2a3f5f\"},\"baxis\":{\"endlinecolor\":\"#2a3f5f\",\"gridcolor\":\"white\",\"linecolor\":\"white\",\"minorgridcolor\":\"white\",\"startlinecolor\":\"#2a3f5f\"},\"type\":\"carpet\"}],\"choropleth\":[{\"colorbar\":{\"outlinewidth\":0,\"ticks\":\"\"},\"type\":\"choropleth\"}],\"contourcarpet\":[{\"colorbar\":{\"outlinewidth\":0,\"ticks\":\"\"},\"type\":\"contourcarpet\"}],\"contour\":[{\"colorbar\":{\"outlinewidth\":0,\"ticks\":\"\"},\"colorscale\":[[0.0,\"#0d0887\"],[0.1111111111111111,\"#46039f\"],[0.2222222222222222,\"#7201a8\"],[0.3333333333333333,\"#9c179e\"],[0.4444444444444444,\"#bd3786\"],[0.5555555555555556,\"#d8576b\"],[0.6666666666666666,\"#ed7953\"],[0.7777777777777778,\"#fb9f3a\"],[0.8888888888888888,\"#fdca26\"],[1.0,\"#f0f921\"]],\"type\":\"contour\"}],\"heatmapgl\":[{\"colorbar\":{\"outlinewidth\":0,\"ticks\":\"\"},\"colorscale\":[[0.0,\"#0d0887\"],[0.1111111111111111,\"#46039f\"],[0.2222222222222222,\"#7201a8\"],[0.3333333333333333,\"#9c179e\"],[0.4444444444444444,\"#bd3786\"],[0.5555555555555556,\"#d8576b\"],[0.6666666666666666,\"#ed7953\"],[0.7777777777777778,\"#fb9f3a\"],[0.8888888888888888,\"#fdca26\"],[1.0,\"#f0f921\"]],\"type\":\"heatmapgl\"}],\"heatmap\":[{\"colorbar\":{\"outlinewidth\":0,\"ticks\":\"\"},\"colorscale\":[[0.0,\"#0d0887\"],[0.1111111111111111,\"#46039f\"],[0.2222222222222222,\"#7201a8\"],[0.3333333333333333,\"#9c179e\"],[0.4444444444444444,\"#bd3786\"],[0.5555555555555556,\"#d8576b\"],[0.6666666666666666,\"#ed7953\"],[0.7777777777777778,\"#fb9f3a\"],[0.8888888888888888,\"#fdca26\"],[1.0,\"#f0f921\"]],\"type\":\"heatmap\"}],\"histogram2dcontour\":[{\"colorbar\":{\"outlinewidth\":0,\"ticks\":\"\"},\"colorscale\":[[0.0,\"#0d0887\"],[0.1111111111111111,\"#46039f\"],[0.2222222222222222,\"#7201a8\"],[0.3333333333333333,\"#9c179e\"],[0.4444444444444444,\"#bd3786\"],[0.5555555555555556,\"#d8576b\"],[0.6666666666666666,\"#ed7953\"],[0.7777777777777778,\"#fb9f3a\"],[0.8888888888888888,\"#fdca26\"],[1.0,\"#f0f921\"]],\"type\":\"histogram2dcontour\"}],\"histogram2d\":[{\"colorbar\":{\"outlinewidth\":0,\"ticks\":\"\"},\"colorscale\":[[0.0,\"#0d0887\"],[0.1111111111111111,\"#46039f\"],[0.2222222222222222,\"#7201a8\"],[0.3333333333333333,\"#9c179e\"],[0.4444444444444444,\"#bd3786\"],[0.5555555555555556,\"#d8576b\"],[0.6666666666666666,\"#ed7953\"],[0.7777777777777778,\"#fb9f3a\"],[0.8888888888888888,\"#fdca26\"],[1.0,\"#f0f921\"]],\"type\":\"histogram2d\"}],\"histogram\":[{\"marker\":{\"pattern\":{\"fillmode\":\"overlay\",\"size\":10,\"solidity\":0.2}},\"type\":\"histogram\"}],\"mesh3d\":[{\"colorbar\":{\"outlinewidth\":0,\"ticks\":\"\"},\"type\":\"mesh3d\"}],\"parcoords\":[{\"line\":{\"colorbar\":{\"outlinewidth\":0,\"ticks\":\"\"}},\"type\":\"parcoords\"}],\"pie\":[{\"automargin\":true,\"type\":\"pie\"}],\"scatter3d\":[{\"line\":{\"colorbar\":{\"outlinewidth\":0,\"ticks\":\"\"}},\"marker\":{\"colorbar\":{\"outlinewidth\":0,\"ticks\":\"\"}},\"type\":\"scatter3d\"}],\"scattercarpet\":[{\"marker\":{\"colorbar\":{\"outlinewidth\":0,\"ticks\":\"\"}},\"type\":\"scattercarpet\"}],\"scattergeo\":[{\"marker\":{\"colorbar\":{\"outlinewidth\":0,\"ticks\":\"\"}},\"type\":\"scattergeo\"}],\"scattergl\":[{\"marker\":{\"colorbar\":{\"outlinewidth\":0,\"ticks\":\"\"}},\"type\":\"scattergl\"}],\"scattermapbox\":[{\"marker\":{\"colorbar\":{\"outlinewidth\":0,\"ticks\":\"\"}},\"type\":\"scattermapbox\"}],\"scatterpolargl\":[{\"marker\":{\"colorbar\":{\"outlinewidth\":0,\"ticks\":\"\"}},\"type\":\"scatterpolargl\"}],\"scatterpolar\":[{\"marker\":{\"colorbar\":{\"outlinewidth\":0,\"ticks\":\"\"}},\"type\":\"scatterpolar\"}],\"scatter\":[{\"marker\":{\"colorbar\":{\"outlinewidth\":0,\"ticks\":\"\"}},\"type\":\"scatter\"}],\"scatterternary\":[{\"marker\":{\"colorbar\":{\"outlinewidth\":0,\"ticks\":\"\"}},\"type\":\"scatterternary\"}],\"surface\":[{\"colorbar\":{\"outlinewidth\":0,\"ticks\":\"\"},\"colorscale\":[[0.0,\"#0d0887\"],[0.1111111111111111,\"#46039f\"],[0.2222222222222222,\"#7201a8\"],[0.3333333333333333,\"#9c179e\"],[0.4444444444444444,\"#bd3786\"],[0.5555555555555556,\"#d8576b\"],[0.6666666666666666,\"#ed7953\"],[0.7777777777777778,\"#fb9f3a\"],[0.8888888888888888,\"#fdca26\"],[1.0,\"#f0f921\"]],\"type\":\"surface\"}],\"table\":[{\"cells\":{\"fill\":{\"color\":\"#EBF0F8\"},\"line\":{\"color\":\"white\"}},\"header\":{\"fill\":{\"color\":\"#C8D4E3\"},\"line\":{\"color\":\"white\"}},\"type\":\"table\"}]},\"layout\":{\"annotationdefaults\":{\"arrowcolor\":\"#2a3f5f\",\"arrowhead\":0,\"arrowwidth\":1},\"autotypenumbers\":\"strict\",\"coloraxis\":{\"colorbar\":{\"outlinewidth\":0,\"ticks\":\"\"}},\"colorscale\":{\"diverging\":[[0,\"#8e0152\"],[0.1,\"#c51b7d\"],[0.2,\"#de77ae\"],[0.3,\"#f1b6da\"],[0.4,\"#fde0ef\"],[0.5,\"#f7f7f7\"],[0.6,\"#e6f5d0\"],[0.7,\"#b8e186\"],[0.8,\"#7fbc41\"],[0.9,\"#4d9221\"],[1,\"#276419\"]],\"sequential\":[[0.0,\"#0d0887\"],[0.1111111111111111,\"#46039f\"],[0.2222222222222222,\"#7201a8\"],[0.3333333333333333,\"#9c179e\"],[0.4444444444444444,\"#bd3786\"],[0.5555555555555556,\"#d8576b\"],[0.6666666666666666,\"#ed7953\"],[0.7777777777777778,\"#fb9f3a\"],[0.8888888888888888,\"#fdca26\"],[1.0,\"#f0f921\"]],\"sequentialminus\":[[0.0,\"#0d0887\"],[0.1111111111111111,\"#46039f\"],[0.2222222222222222,\"#7201a8\"],[0.3333333333333333,\"#9c179e\"],[0.4444444444444444,\"#bd3786\"],[0.5555555555555556,\"#d8576b\"],[0.6666666666666666,\"#ed7953\"],[0.7777777777777778,\"#fb9f3a\"],[0.8888888888888888,\"#fdca26\"],[1.0,\"#f0f921\"]]},\"colorway\":[\"#636efa\",\"#EF553B\",\"#00cc96\",\"#ab63fa\",\"#FFA15A\",\"#19d3f3\",\"#FF6692\",\"#B6E880\",\"#FF97FF\",\"#FECB52\"],\"font\":{\"color\":\"#2a3f5f\"},\"geo\":{\"bgcolor\":\"white\",\"lakecolor\":\"white\",\"landcolor\":\"#E5ECF6\",\"showlakes\":true,\"showland\":true,\"subunitcolor\":\"white\"},\"hoverlabel\":{\"align\":\"left\"},\"hovermode\":\"closest\",\"mapbox\":{\"style\":\"light\"},\"paper_bgcolor\":\"white\",\"plot_bgcolor\":\"#E5ECF6\",\"polar\":{\"angularaxis\":{\"gridcolor\":\"white\",\"linecolor\":\"white\",\"ticks\":\"\"},\"bgcolor\":\"#E5ECF6\",\"radialaxis\":{\"gridcolor\":\"white\",\"linecolor\":\"white\",\"ticks\":\"\"}},\"scene\":{\"xaxis\":{\"backgroundcolor\":\"#E5ECF6\",\"gridcolor\":\"white\",\"gridwidth\":2,\"linecolor\":\"white\",\"showbackground\":true,\"ticks\":\"\",\"zerolinecolor\":\"white\"},\"yaxis\":{\"backgroundcolor\":\"#E5ECF6\",\"gridcolor\":\"white\",\"gridwidth\":2,\"linecolor\":\"white\",\"showbackground\":true,\"ticks\":\"\",\"zerolinecolor\":\"white\"},\"zaxis\":{\"backgroundcolor\":\"#E5ECF6\",\"gridcolor\":\"white\",\"gridwidth\":2,\"linecolor\":\"white\",\"showbackground\":true,\"ticks\":\"\",\"zerolinecolor\":\"white\"}},\"shapedefaults\":{\"line\":{\"color\":\"#2a3f5f\"}},\"ternary\":{\"aaxis\":{\"gridcolor\":\"white\",\"linecolor\":\"white\",\"ticks\":\"\"},\"baxis\":{\"gridcolor\":\"white\",\"linecolor\":\"white\",\"ticks\":\"\"},\"bgcolor\":\"#E5ECF6\",\"caxis\":{\"gridcolor\":\"white\",\"linecolor\":\"white\",\"ticks\":\"\"}},\"title\":{\"x\":0.05},\"xaxis\":{\"automargin\":true,\"gridcolor\":\"white\",\"linecolor\":\"white\",\"ticks\":\"\",\"title\":{\"standoff\":15},\"zerolinecolor\":\"white\",\"zerolinewidth\":2},\"yaxis\":{\"automargin\":true,\"gridcolor\":\"white\",\"linecolor\":\"white\",\"ticks\":\"\",\"title\":{\"standoff\":15},\"zerolinecolor\":\"white\",\"zerolinewidth\":2}}},\"title\":{\"text\":\"Predicted Temperature and Greenhouse Gases Plots\"},\"xaxis\":{\"title\":{\"text\":\"Year\"}},\"yaxis\":{\"title\":{\"text\":\"Normalized Values\"}}},                        {\"responsive\": true}                    ).then(function(){\n",
       "                            \n",
       "var gd = document.getElementById('2c03b865-6a83-426e-a036-a53b08726368');\n",
       "var x = new MutationObserver(function (mutations, observer) {{\n",
       "        var display = window.getComputedStyle(gd).display;\n",
       "        if (!display || display === 'none') {{\n",
       "            console.log([gd, 'removed!']);\n",
       "            Plotly.purge(gd);\n",
       "            observer.disconnect();\n",
       "        }}\n",
       "}});\n",
       "\n",
       "// Listen for the removal of the full notebook cells\n",
       "var notebookContainer = gd.closest('#notebook-container');\n",
       "if (notebookContainer) {{\n",
       "    x.observe(notebookContainer, {childList: true});\n",
       "}}\n",
       "\n",
       "// Listen for the clearing of the current output cell\n",
       "var outputEl = gd.closest('.output');\n",
       "if (outputEl) {{\n",
       "    x.observe(outputEl, {childList: true});\n",
       "}}\n",
       "\n",
       "                        })                };                });            </script>        </div>"
      ]
     },
     "metadata": {},
     "output_type": "display_data"
    }
   ],
   "source": [
    "# Plotting predicted values for Greenhouse Gases with predicted temperature values for New York\n",
    "\n",
    "future_years = ['2014','2015','2016','2017','2018','2019','2020','2021','2022','2023']\n",
    "trace0 = go.Scatter(\n",
    "    x = future_years,\n",
    "    y = part3_norm['methane'],\n",
    "    mode = 'lines',\n",
    "    name = 'methane'\n",
    ")\n",
    "\n",
    "trace1 = go.Scatter(\n",
    "    x = future_years,\n",
    "    y = part3_norm['hcfc'],\n",
    "    mode = 'lines',\n",
    "    name = 'hcfc'\n",
    ")\n",
    "\n",
    "\n",
    "trace2 = go.Scatter(\n",
    "    x = future_years,\n",
    "    y = part3_norm['co2'],\n",
    "    mode = 'lines',\n",
    "    name = 'co'\n",
    ")\n",
    "\n",
    "trace3 = go.Scatter(\n",
    "    x = future_years,\n",
    "    y = part3_norm['temp'],\n",
    "    mode = 'lines',\n",
    "    name = 'temp'\n",
    ")\n",
    "\n",
    "\n",
    "layout = go.Layout(\n",
    "    title='Predicted Temperature and Greenhouse Gases Plots',\n",
    "    xaxis=dict(\n",
    "        title='Year',\n",
    "    ),\n",
    "    yaxis=dict(\n",
    "        title='Normalized Values',\n",
    "    )\n",
    ")\n",
    "\n",
    "data = [trace0,trace1,trace3]\n",
    "fig = go.Figure(data=data, layout=layout)\n",
    "iplot(fig)"
   ]
  },
  {
   "cell_type": "code",
   "execution_count": 103,
   "metadata": {},
   "outputs": [
    {
     "data": {
      "image/png": "[encoded data removed]",
      "text/plain": [
       "<Figure size 450x300 with 2 Axes>"
      ]
     },
     "metadata": {
      "needs_background": "light"
     },
     "output_type": "display_data"
    }
   ],
   "source": [
    "# Plotting the correlation matrix for the Greenhouse Gases with Temperature\n",
    "\n",
    "fig = plt.figure(dpi = 75)\n",
    "\n",
    "ax = fig.add_axes([0.1, 0.1, 0.75, 0.8]) \n",
    "sns.heatmap(part3_norm.corr(method='pearson'), annot = True, cmap=\"YlGnBu\")\n",
    "ax.set_title(\"Correlation of Greenhouse Gases with Temperature in 2023\", fontsize=10)\n",
    "plt.show()"
   ]
  },
  {
   "cell_type": "markdown",
   "metadata": {},
   "source": [
    "### Conclusion ###\n",
    "In this project, we:\n",
    "\n",
    "Forecasted the temperature of a given city over a given period of time\n",
    "Predicted the top-10 cities in the US which will experience the most temperature change from 2013-2013.\n",
    "Analyzed the correlation between pollution levels and temperature, as well as the correlation between Greenhouse gas emissions and temperature, which helped us identify the Greenhouse Gas that has and will have the most impact on temperature change."
   ]
  },
  {
   "cell_type": "code",
   "execution_count": null,
   "metadata": {},
   "outputs": [],
   "source": []
  },
  {
   "cell_type": "code",
   "execution_count": null,
   "metadata": {},
   "outputs": [],
   "source": []
  },
  {
   "cell_type": "code",
   "execution_count": null,
   "metadata": {},
   "outputs": [],
   "source": []
  }
 ],
 "metadata": {
  "kernelspec": {
   "display_name": "Python 3",
   "language": "python",
   "name": "python3"
  },
  "language_info": {
   "codemirror_mode": {
    "name": "ipython",
    "version": 3
   },
   "file_extension": ".py",
   "mimetype": "text/x-python",
   "name": "python",
   "nbconvert_exporter": "python",
   "pygments_lexer": "ipython3",
   "version": "3.8.3"
  }
 },
 "nbformat": 4,
 "nbformat_minor": 4
}
